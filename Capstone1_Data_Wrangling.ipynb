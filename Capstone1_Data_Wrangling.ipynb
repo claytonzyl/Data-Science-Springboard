{
 "cells": [
  {
   "cell_type": "code",
   "execution_count": 1,
   "metadata": {
    "collapsed": true
   },
   "outputs": [],
   "source": [
    "%matplotlib inline\n",
    "import numpy as np\n",
    "import pandas as pd"
   ]
  },
  {
   "cell_type": "code",
   "execution_count": 3,
   "metadata": {
    "collapsed": false,
    "scrolled": true
   },
   "outputs": [
    {
     "data": {
      "text/html": [
       "<div>\n",
       "<table border=\"1\" class=\"dataframe\">\n",
       "  <thead>\n",
       "    <tr style=\"text-align: right;\">\n",
       "      <th></th>\n",
       "      <th>DOEID</th>\n",
       "      <th>REGIONC</th>\n",
       "      <th>DIVISION</th>\n",
       "      <th>REPORTABLE_DOMAIN</th>\n",
       "      <th>TYPEHUQ</th>\n",
       "      <th>NWEIGHT</th>\n",
       "      <th>HDD65</th>\n",
       "      <th>CDD65</th>\n",
       "      <th>HDD30YR</th>\n",
       "      <th>CDD30YR</th>\n",
       "      <th>...</th>\n",
       "      <th>SCALEEL</th>\n",
       "      <th>KAVALNG</th>\n",
       "      <th>PERIODNG</th>\n",
       "      <th>SCALENG</th>\n",
       "      <th>PERIODLP</th>\n",
       "      <th>SCALELP</th>\n",
       "      <th>PERIODFO</th>\n",
       "      <th>SCALEFO</th>\n",
       "      <th>PERIODKR</th>\n",
       "      <th>SCALEKER</th>\n",
       "    </tr>\n",
       "  </thead>\n",
       "  <tbody>\n",
       "    <tr>\n",
       "      <th>0</th>\n",
       "      <td>1</td>\n",
       "      <td>2</td>\n",
       "      <td>4</td>\n",
       "      <td>12</td>\n",
       "      <td>2</td>\n",
       "      <td>2471.679705</td>\n",
       "      <td>4742</td>\n",
       "      <td>1080</td>\n",
       "      <td>4953</td>\n",
       "      <td>1271</td>\n",
       "      <td>...</td>\n",
       "      <td>0</td>\n",
       "      <td>-2</td>\n",
       "      <td>-2</td>\n",
       "      <td>-2</td>\n",
       "      <td>-2</td>\n",
       "      <td>-2</td>\n",
       "      <td>-2</td>\n",
       "      <td>-2</td>\n",
       "      <td>-2</td>\n",
       "      <td>-2</td>\n",
       "    </tr>\n",
       "    <tr>\n",
       "      <th>1</th>\n",
       "      <td>2</td>\n",
       "      <td>4</td>\n",
       "      <td>10</td>\n",
       "      <td>26</td>\n",
       "      <td>2</td>\n",
       "      <td>8599.172010</td>\n",
       "      <td>2662</td>\n",
       "      <td>199</td>\n",
       "      <td>2688</td>\n",
       "      <td>143</td>\n",
       "      <td>...</td>\n",
       "      <td>0</td>\n",
       "      <td>1</td>\n",
       "      <td>1</td>\n",
       "      <td>0</td>\n",
       "      <td>-2</td>\n",
       "      <td>-2</td>\n",
       "      <td>-2</td>\n",
       "      <td>-2</td>\n",
       "      <td>-2</td>\n",
       "      <td>-2</td>\n",
       "    </tr>\n",
       "    <tr>\n",
       "      <th>2</th>\n",
       "      <td>3</td>\n",
       "      <td>1</td>\n",
       "      <td>1</td>\n",
       "      <td>1</td>\n",
       "      <td>5</td>\n",
       "      <td>8969.915921</td>\n",
       "      <td>6233</td>\n",
       "      <td>505</td>\n",
       "      <td>5741</td>\n",
       "      <td>829</td>\n",
       "      <td>...</td>\n",
       "      <td>0</td>\n",
       "      <td>3</td>\n",
       "      <td>5</td>\n",
       "      <td>3</td>\n",
       "      <td>-2</td>\n",
       "      <td>-2</td>\n",
       "      <td>-2</td>\n",
       "      <td>-2</td>\n",
       "      <td>-2</td>\n",
       "      <td>-2</td>\n",
       "    </tr>\n",
       "    <tr>\n",
       "      <th>3</th>\n",
       "      <td>4</td>\n",
       "      <td>2</td>\n",
       "      <td>3</td>\n",
       "      <td>7</td>\n",
       "      <td>2</td>\n",
       "      <td>18003.639600</td>\n",
       "      <td>6034</td>\n",
       "      <td>672</td>\n",
       "      <td>5781</td>\n",
       "      <td>868</td>\n",
       "      <td>...</td>\n",
       "      <td>3</td>\n",
       "      <td>3</td>\n",
       "      <td>5</td>\n",
       "      <td>3</td>\n",
       "      <td>-2</td>\n",
       "      <td>-2</td>\n",
       "      <td>-2</td>\n",
       "      <td>-2</td>\n",
       "      <td>-2</td>\n",
       "      <td>-2</td>\n",
       "    </tr>\n",
       "    <tr>\n",
       "      <th>4</th>\n",
       "      <td>5</td>\n",
       "      <td>1</td>\n",
       "      <td>1</td>\n",
       "      <td>1</td>\n",
       "      <td>3</td>\n",
       "      <td>5999.605242</td>\n",
       "      <td>5388</td>\n",
       "      <td>702</td>\n",
       "      <td>5313</td>\n",
       "      <td>797</td>\n",
       "      <td>...</td>\n",
       "      <td>0</td>\n",
       "      <td>1</td>\n",
       "      <td>1</td>\n",
       "      <td>0</td>\n",
       "      <td>-2</td>\n",
       "      <td>-2</td>\n",
       "      <td>-2</td>\n",
       "      <td>-2</td>\n",
       "      <td>-2</td>\n",
       "      <td>-2</td>\n",
       "    </tr>\n",
       "  </tbody>\n",
       "</table>\n",
       "<p>5 rows × 931 columns</p>\n",
       "</div>"
      ],
      "text/plain": [
       "   DOEID  REGIONC  DIVISION  REPORTABLE_DOMAIN  TYPEHUQ       NWEIGHT  HDD65  \\\n",
       "0      1        2         4                 12        2   2471.679705   4742   \n",
       "1      2        4        10                 26        2   8599.172010   2662   \n",
       "2      3        1         1                  1        5   8969.915921   6233   \n",
       "3      4        2         3                  7        2  18003.639600   6034   \n",
       "4      5        1         1                  1        3   5999.605242   5388   \n",
       "\n",
       "   CDD65  HDD30YR  CDD30YR    ...     SCALEEL  KAVALNG PERIODNG SCALENG  \\\n",
       "0   1080     4953     1271    ...           0       -2       -2      -2   \n",
       "1    199     2688      143    ...           0        1        1       0   \n",
       "2    505     5741      829    ...           0        3        5       3   \n",
       "3    672     5781      868    ...           3        3        5       3   \n",
       "4    702     5313      797    ...           0        1        1       0   \n",
       "\n",
       "   PERIODLP  SCALELP  PERIODFO  SCALEFO  PERIODKR  SCALEKER  \n",
       "0        -2       -2        -2       -2        -2        -2  \n",
       "1        -2       -2        -2       -2        -2        -2  \n",
       "2        -2       -2        -2       -2        -2        -2  \n",
       "3        -2       -2        -2       -2        -2        -2  \n",
       "4        -2       -2        -2       -2        -2        -2  \n",
       "\n",
       "[5 rows x 931 columns]"
      ]
     },
     "execution_count": 3,
     "metadata": {},
     "output_type": "execute_result"
    }
   ],
   "source": [
    "df = pd.DataFrame.from_csv('recs2009_public.csv', index_col = None)\n",
    "df.head()"
   ]
  },
  {
   "cell_type": "markdown",
   "metadata": {},
   "source": [
    "First, I wrote a quick function to check for NULL values. It iterates through a list of columns, filtering the column down to only null values, and checking the length. If the filtered column is empty, it goes to the next column. Otherwise, it prints the column name and the percent non-null values compared to the total row count."
   ]
  },
  {
   "cell_type": "code",
   "execution_count": 4,
   "metadata": {
    "collapsed": true
   },
   "outputs": [],
   "source": [
    "# Input DataFrame to check for nulls in each column. Print results.\n",
    "def nullCheck(df):\n",
    "    cols = list(df)\n",
    "    count = 0\n",
    "    row_count = len(df)\n",
    "\n",
    "    for c in cols:\n",
    "        dfe = df[df[c].isnull()]\n",
    "        null_count = len(dfe)\n",
    "        percent_values = 1 - (null_count / row_count)\n",
    "\n",
    "        if dfe.empty:\n",
    "            count += 1\n",
    "        else:\n",
    "            print('NaN in ' + c)\n",
    "            print('Percent not null: ' + \n",
    "                  str(round(percent_values * 100,2)) + '%')\n",
    "\n",
    "        if count == len(cols):\n",
    "            print('No NaN in DataFrame')"
   ]
  },
  {
   "cell_type": "code",
   "execution_count": 5,
   "metadata": {
    "collapsed": false
   },
   "outputs": [
    {
     "name": "stdout",
     "output_type": "stream",
     "text": [
      "NaN in NOCRCASH\n",
      "Percent not null: 99.98%\n",
      "NaN in NKRGALNC\n",
      "Percent not null: 99.98%\n"
     ]
    }
   ],
   "source": [
    "nullCheck(df)"
   ]
  },
  {
   "cell_type": "code",
   "execution_count": 6,
   "metadata": {
    "collapsed": false
   },
   "outputs": [
    {
     "data": {
      "text/plain": [
       "1387   NaN\n",
       "2092   NaN\n",
       "Name: NOCRCASH, dtype: float64"
      ]
     },
     "execution_count": 6,
     "metadata": {},
     "output_type": "execute_result"
    }
   ],
   "source": [
    "df[df.NOCRCASH.isnull()].NOCRCASH"
   ]
  },
  {
   "cell_type": "code",
   "execution_count": 7,
   "metadata": {
    "collapsed": false,
    "scrolled": true
   },
   "outputs": [
    {
     "data": {
      "text/plain": [
       "1387   NaN\n",
       "2092   NaN\n",
       "Name: NKRGALNC, dtype: float64"
      ]
     },
     "execution_count": 7,
     "metadata": {},
     "output_type": "execute_result"
    }
   ],
   "source": [
    "df[df.NKRGALNC.isnull()].NKRGALNC"
   ]
  },
  {
   "cell_type": "markdown",
   "metadata": {},
   "source": [
    "According to the codebook provided by the data source, -2 is the appropriate value for 'Not Applicable' in the columns containing nulls."
   ]
  },
  {
   "cell_type": "code",
   "execution_count": 8,
   "metadata": {
    "collapsed": false
   },
   "outputs": [],
   "source": [
    "# According to recs2009_public_codebook.xlsx, -2 is the value for \n",
    "# 'Not Applicable' in these columns\n",
    "df = df.fillna(-2)"
   ]
  },
  {
   "cell_type": "code",
   "execution_count": 9,
   "metadata": {
    "collapsed": false,
    "scrolled": true
   },
   "outputs": [
    {
     "name": "stdout",
     "output_type": "stream",
     "text": [
      "No NaN in DataFrame\n"
     ]
    }
   ],
   "source": [
    "# check if nulls removed\n",
    "nullCheck(df)"
   ]
  },
  {
   "cell_type": "markdown",
   "metadata": {},
   "source": [
    "In testing regressions with my full data set, I was receiving warnings concerning constant columns. I wrote a quick function to out put a list of columns that are constant. The function compares the min and max of each column. If they are the same, the column is considered constant."
   ]
  },
  {
   "cell_type": "code",
   "execution_count": 10,
   "metadata": {
    "collapsed": false
   },
   "outputs": [],
   "source": [
    "# Compare the min and max of each column. If they ate equal, column is constant.\n",
    "def constantCheck(df):\n",
    "    s1 = df.max()\n",
    "    s2 = df.min()\n",
    "    s = s1 == s2\n",
    "    s = s[s == True]\n",
    "    l = s.axes[0].tolist()\n",
    "    return l"
   ]
  },
  {
   "cell_type": "code",
   "execution_count": 11,
   "metadata": {
    "collapsed": false
   },
   "outputs": [
    {
     "name": "stdout",
     "output_type": "stream",
     "text": [
      "['ZSTUDIO', 'ZNAPTFLRS', 'ZPCTATTCL', 'ZSTOVE', 'ZOVEN', 'ZOUTGRILL', 'ZSTGRILA', 'ZCOFFEE', 'ZSIZRFRI3', 'ZSEPFREEZ', 'ZNUMFREEZ', 'ZUPRTFRZR2', 'ZSIZFREEZ2', 'ZAGEFRZR2', 'ZDISHWASH', 'ZDWASHUSE', 'ZCWASHER', 'ZTOPFRONT', 'ZDRYER', 'ZTVCOLOR', 'ZHEATHOME', 'ZDNTHEAT', 'ZPIPEFUEL', 'ZRMHTFUEL', 'ZHSFUEL', 'ZRNGFUEL', 'ZH2OTYPE2', 'USEEL', 'ZOTHERWAYFO', 'ZNOCRCASH', 'ZNKRGALNC']\n"
     ]
    }
   ],
   "source": [
    "l = constantCheck(df)\n",
    "if not l:\n",
    "    print('Empty List')\n",
    "else:\n",
    "    print(l)"
   ]
  },
  {
   "cell_type": "markdown",
   "metadata": {},
   "source": [
    "According to the layout map provided by the data source, the columns that came back as constant were imputation flags for other columns. I decided to drop these columns for simplicity. "
   ]
  },
  {
   "cell_type": "code",
   "execution_count": 12,
   "metadata": {
    "collapsed": false
   },
   "outputs": [],
   "source": [
    "# Drop constant columns for regression\n",
    "df = df.drop(l, axis = 1)"
   ]
  },
  {
   "cell_type": "markdown",
   "metadata": {},
   "source": [
    "I used the .info() method on the data frame to look at data types. I decided to drop the 2 non-numeric columns for the sake of simplicity and analysis."
   ]
  },
  {
   "cell_type": "code",
   "execution_count": 13,
   "metadata": {
    "collapsed": false
   },
   "outputs": [
    {
     "name": "stdout",
     "output_type": "stream",
     "text": [
      "<class 'pandas.core.frame.DataFrame'>\n",
      "RangeIndex: 12083 entries, 0 to 12082\n",
      "Columns: 900 entries, DOEID to SCALEKER\n",
      "dtypes: float64(51), int64(847), object(2)\n",
      "memory usage: 83.0+ MB\n"
     ]
    }
   ],
   "source": [
    "df.info()"
   ]
  },
  {
   "cell_type": "code",
   "execution_count": 14,
   "metadata": {
    "collapsed": false
   },
   "outputs": [],
   "source": [
    "l = df.select_dtypes(include=['object']).axes[1].tolist()"
   ]
  },
  {
   "cell_type": "code",
   "execution_count": 15,
   "metadata": {
    "collapsed": false
   },
   "outputs": [],
   "source": [
    "# Drop non-numeric columns for regression\n",
    "df = df.drop(l, axis = 1)"
   ]
  },
  {
   "cell_type": "code",
   "execution_count": 16,
   "metadata": {
    "collapsed": false,
    "scrolled": true
   },
   "outputs": [
    {
     "name": "stdout",
     "output_type": "stream",
     "text": [
      "<class 'pandas.core.frame.DataFrame'>\n",
      "RangeIndex: 12083 entries, 0 to 12082\n",
      "Columns: 898 entries, DOEID to SCALEKER\n",
      "dtypes: float64(51), int64(847)\n",
      "memory usage: 82.8 MB\n"
     ]
    }
   ],
   "source": [
    "df.info()"
   ]
  },
  {
   "cell_type": "markdown",
   "metadata": {},
   "source": [
    "After I preformed all my checks, I outputed the cleaned data form into a new .csv file to use for analysis. This means I do not have to keep preforming all these changes and check to the data form created form the original data source. As well, I am able to preserve the original data should I need to return to it."
   ]
  },
  {
   "cell_type": "code",
   "execution_count": 17,
   "metadata": {
    "collapsed": true
   },
   "outputs": [],
   "source": [
    "# Create clean csv to load DataFrame from in future analysis.\n",
    "df.to_csv('recs2009_public_clean.csv', index = False)"
   ]
  },
  {
   "cell_type": "code",
   "execution_count": 18,
   "metadata": {
    "collapsed": false
   },
   "outputs": [
    {
     "data": {
      "text/html": [
       "<div>\n",
       "<table border=\"1\" class=\"dataframe\">\n",
       "  <thead>\n",
       "    <tr style=\"text-align: right;\">\n",
       "      <th></th>\n",
       "      <th>DOEID</th>\n",
       "      <th>REGIONC</th>\n",
       "      <th>DIVISION</th>\n",
       "      <th>REPORTABLE_DOMAIN</th>\n",
       "      <th>TYPEHUQ</th>\n",
       "      <th>NWEIGHT</th>\n",
       "      <th>HDD65</th>\n",
       "      <th>CDD65</th>\n",
       "      <th>HDD30YR</th>\n",
       "      <th>CDD30YR</th>\n",
       "      <th>...</th>\n",
       "      <th>SCALEEL</th>\n",
       "      <th>KAVALNG</th>\n",
       "      <th>PERIODNG</th>\n",
       "      <th>SCALENG</th>\n",
       "      <th>PERIODLP</th>\n",
       "      <th>SCALELP</th>\n",
       "      <th>PERIODFO</th>\n",
       "      <th>SCALEFO</th>\n",
       "      <th>PERIODKR</th>\n",
       "      <th>SCALEKER</th>\n",
       "    </tr>\n",
       "  </thead>\n",
       "  <tbody>\n",
       "    <tr>\n",
       "      <th>0</th>\n",
       "      <td>1</td>\n",
       "      <td>2</td>\n",
       "      <td>4</td>\n",
       "      <td>12</td>\n",
       "      <td>2</td>\n",
       "      <td>2471.679705</td>\n",
       "      <td>4742</td>\n",
       "      <td>1080</td>\n",
       "      <td>4953</td>\n",
       "      <td>1271</td>\n",
       "      <td>...</td>\n",
       "      <td>0</td>\n",
       "      <td>-2</td>\n",
       "      <td>-2</td>\n",
       "      <td>-2</td>\n",
       "      <td>-2</td>\n",
       "      <td>-2</td>\n",
       "      <td>-2</td>\n",
       "      <td>-2</td>\n",
       "      <td>-2</td>\n",
       "      <td>-2</td>\n",
       "    </tr>\n",
       "    <tr>\n",
       "      <th>1</th>\n",
       "      <td>2</td>\n",
       "      <td>4</td>\n",
       "      <td>10</td>\n",
       "      <td>26</td>\n",
       "      <td>2</td>\n",
       "      <td>8599.172010</td>\n",
       "      <td>2662</td>\n",
       "      <td>199</td>\n",
       "      <td>2688</td>\n",
       "      <td>143</td>\n",
       "      <td>...</td>\n",
       "      <td>0</td>\n",
       "      <td>1</td>\n",
       "      <td>1</td>\n",
       "      <td>0</td>\n",
       "      <td>-2</td>\n",
       "      <td>-2</td>\n",
       "      <td>-2</td>\n",
       "      <td>-2</td>\n",
       "      <td>-2</td>\n",
       "      <td>-2</td>\n",
       "    </tr>\n",
       "    <tr>\n",
       "      <th>2</th>\n",
       "      <td>3</td>\n",
       "      <td>1</td>\n",
       "      <td>1</td>\n",
       "      <td>1</td>\n",
       "      <td>5</td>\n",
       "      <td>8969.915921</td>\n",
       "      <td>6233</td>\n",
       "      <td>505</td>\n",
       "      <td>5741</td>\n",
       "      <td>829</td>\n",
       "      <td>...</td>\n",
       "      <td>0</td>\n",
       "      <td>3</td>\n",
       "      <td>5</td>\n",
       "      <td>3</td>\n",
       "      <td>-2</td>\n",
       "      <td>-2</td>\n",
       "      <td>-2</td>\n",
       "      <td>-2</td>\n",
       "      <td>-2</td>\n",
       "      <td>-2</td>\n",
       "    </tr>\n",
       "    <tr>\n",
       "      <th>3</th>\n",
       "      <td>4</td>\n",
       "      <td>2</td>\n",
       "      <td>3</td>\n",
       "      <td>7</td>\n",
       "      <td>2</td>\n",
       "      <td>18003.639600</td>\n",
       "      <td>6034</td>\n",
       "      <td>672</td>\n",
       "      <td>5781</td>\n",
       "      <td>868</td>\n",
       "      <td>...</td>\n",
       "      <td>3</td>\n",
       "      <td>3</td>\n",
       "      <td>5</td>\n",
       "      <td>3</td>\n",
       "      <td>-2</td>\n",
       "      <td>-2</td>\n",
       "      <td>-2</td>\n",
       "      <td>-2</td>\n",
       "      <td>-2</td>\n",
       "      <td>-2</td>\n",
       "    </tr>\n",
       "    <tr>\n",
       "      <th>4</th>\n",
       "      <td>5</td>\n",
       "      <td>1</td>\n",
       "      <td>1</td>\n",
       "      <td>1</td>\n",
       "      <td>3</td>\n",
       "      <td>5999.605242</td>\n",
       "      <td>5388</td>\n",
       "      <td>702</td>\n",
       "      <td>5313</td>\n",
       "      <td>797</td>\n",
       "      <td>...</td>\n",
       "      <td>0</td>\n",
       "      <td>1</td>\n",
       "      <td>1</td>\n",
       "      <td>0</td>\n",
       "      <td>-2</td>\n",
       "      <td>-2</td>\n",
       "      <td>-2</td>\n",
       "      <td>-2</td>\n",
       "      <td>-2</td>\n",
       "      <td>-2</td>\n",
       "    </tr>\n",
       "  </tbody>\n",
       "</table>\n",
       "<p>5 rows × 898 columns</p>\n",
       "</div>"
      ],
      "text/plain": [
       "   DOEID  REGIONC  DIVISION  REPORTABLE_DOMAIN  TYPEHUQ       NWEIGHT  HDD65  \\\n",
       "0      1        2         4                 12        2   2471.679705   4742   \n",
       "1      2        4        10                 26        2   8599.172010   2662   \n",
       "2      3        1         1                  1        5   8969.915921   6233   \n",
       "3      4        2         3                  7        2  18003.639600   6034   \n",
       "4      5        1         1                  1        3   5999.605242   5388   \n",
       "\n",
       "   CDD65  HDD30YR  CDD30YR    ...     SCALEEL  KAVALNG  PERIODNG  SCALENG  \\\n",
       "0   1080     4953     1271    ...           0       -2        -2       -2   \n",
       "1    199     2688      143    ...           0        1         1        0   \n",
       "2    505     5741      829    ...           0        3         5        3   \n",
       "3    672     5781      868    ...           3        3         5        3   \n",
       "4    702     5313      797    ...           0        1         1        0   \n",
       "\n",
       "   PERIODLP  SCALELP  PERIODFO  SCALEFO  PERIODKR  SCALEKER  \n",
       "0        -2       -2        -2       -2        -2        -2  \n",
       "1        -2       -2        -2       -2        -2        -2  \n",
       "2        -2       -2        -2       -2        -2        -2  \n",
       "3        -2       -2        -2       -2        -2        -2  \n",
       "4        -2       -2        -2       -2        -2        -2  \n",
       "\n",
       "[5 rows x 898 columns]"
      ]
     },
     "execution_count": 18,
     "metadata": {},
     "output_type": "execute_result"
    }
   ],
   "source": [
    "df_clean = pd.DataFrame.from_csv('recs2009_public_clean.csv', index_col = None)\n",
    "df_clean.head()"
   ]
  }
 ],
 "metadata": {
  "kernelspec": {
   "display_name": "Python 3",
   "language": "python",
   "name": "python3"
  },
  "language_info": {
   "codemirror_mode": {
    "name": "ipython",
    "version": 3
   },
   "file_extension": ".py",
   "mimetype": "text/x-python",
   "name": "python",
   "nbconvert_exporter": "python",
   "pygments_lexer": "ipython3",
   "version": "3.6.0"
  }
 },
 "nbformat": 4,
 "nbformat_minor": 2
}
