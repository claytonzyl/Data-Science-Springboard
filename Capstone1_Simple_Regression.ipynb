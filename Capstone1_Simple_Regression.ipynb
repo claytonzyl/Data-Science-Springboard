{
 "cells": [
  {
   "cell_type": "code",
   "execution_count": 142,
   "metadata": {
    "collapsed": true
   },
   "outputs": [],
   "source": [
    "%matplotlib inline\n",
    "import numpy as np\n",
    "import pandas as pd\n",
    "from sklearn import linear_model\n",
    "from sklearn.model_selection import train_test_split"
   ]
  },
  {
   "cell_type": "code",
   "execution_count": 143,
   "metadata": {
    "collapsed": false
   },
   "outputs": [
    {
     "data": {
      "text/html": [
       "<style>body {\n",
       "    margin: 0;\n",
       "    font-family: Helvetica;\n",
       "}\n",
       "table.dataframe {\n",
       "    border-collapse: collapse;\n",
       "    border: none;\n",
       "}\n",
       "table.dataframe tr {\n",
       "    border: none;\n",
       "}\n",
       "table.dataframe td, table.dataframe th {\n",
       "    margin: 0;\n",
       "    border: 1px solid white;\n",
       "    padding-left: 0.25em;\n",
       "    padding-right: 0.25em;\n",
       "}\n",
       "table.dataframe th:not(:empty) {\n",
       "    background-color: #fec;\n",
       "    text-align: left;\n",
       "    font-weight: normal;\n",
       "}\n",
       "table.dataframe tr:nth-child(2) th:empty {\n",
       "    border-left: none;\n",
       "    border-right: 1px dashed #888;\n",
       "}\n",
       "table.dataframe td {\n",
       "    border: 2px solid #ccf;\n",
       "    background-color: #f4f4ff;\n",
       "}\n",
       "h3 {\n",
       "    color: white;\n",
       "    background-color: black;\n",
       "    padding: 0.5em;\n",
       "}\n",
       "</style>"
      ],
      "text/plain": [
       "<IPython.core.display.HTML object>"
      ]
     },
     "execution_count": 143,
     "metadata": {},
     "output_type": "execute_result"
    }
   ],
   "source": [
    "from IPython.core.display import HTML\n",
    "css = open('style-table.css').read() + open('style-notebook.css').read()\n",
    "HTML('<style>{}</style>'.format(css))"
   ]
  },
  {
   "cell_type": "code",
   "execution_count": 144,
   "metadata": {
    "collapsed": false
   },
   "outputs": [
    {
     "data": {
      "text/html": [
       "<div>\n",
       "<table border=\"1\" class=\"dataframe\">\n",
       "  <thead>\n",
       "    <tr style=\"text-align: right;\">\n",
       "      <th></th>\n",
       "      <th>DOEID</th>\n",
       "      <th>REGIONC</th>\n",
       "      <th>DIVISION</th>\n",
       "      <th>REPORTABLE_DOMAIN</th>\n",
       "      <th>TYPEHUQ</th>\n",
       "      <th>NWEIGHT</th>\n",
       "      <th>HDD65</th>\n",
       "      <th>CDD65</th>\n",
       "      <th>HDD30YR</th>\n",
       "      <th>CDD30YR</th>\n",
       "      <th>...</th>\n",
       "      <th>SCALEEL</th>\n",
       "      <th>KAVALNG</th>\n",
       "      <th>PERIODNG</th>\n",
       "      <th>SCALENG</th>\n",
       "      <th>PERIODLP</th>\n",
       "      <th>SCALELP</th>\n",
       "      <th>PERIODFO</th>\n",
       "      <th>SCALEFO</th>\n",
       "      <th>PERIODKR</th>\n",
       "      <th>SCALEKER</th>\n",
       "    </tr>\n",
       "  </thead>\n",
       "  <tbody>\n",
       "    <tr>\n",
       "      <th>0</th>\n",
       "      <td>1</td>\n",
       "      <td>2</td>\n",
       "      <td>4</td>\n",
       "      <td>12</td>\n",
       "      <td>2</td>\n",
       "      <td>2471.679705</td>\n",
       "      <td>4742</td>\n",
       "      <td>1080</td>\n",
       "      <td>4953</td>\n",
       "      <td>1271</td>\n",
       "      <td>...</td>\n",
       "      <td>0</td>\n",
       "      <td>-2</td>\n",
       "      <td>-2</td>\n",
       "      <td>-2</td>\n",
       "      <td>-2</td>\n",
       "      <td>-2</td>\n",
       "      <td>-2</td>\n",
       "      <td>-2</td>\n",
       "      <td>-2</td>\n",
       "      <td>-2</td>\n",
       "    </tr>\n",
       "    <tr>\n",
       "      <th>1</th>\n",
       "      <td>2</td>\n",
       "      <td>4</td>\n",
       "      <td>10</td>\n",
       "      <td>26</td>\n",
       "      <td>2</td>\n",
       "      <td>8599.172010</td>\n",
       "      <td>2662</td>\n",
       "      <td>199</td>\n",
       "      <td>2688</td>\n",
       "      <td>143</td>\n",
       "      <td>...</td>\n",
       "      <td>0</td>\n",
       "      <td>1</td>\n",
       "      <td>1</td>\n",
       "      <td>0</td>\n",
       "      <td>-2</td>\n",
       "      <td>-2</td>\n",
       "      <td>-2</td>\n",
       "      <td>-2</td>\n",
       "      <td>-2</td>\n",
       "      <td>-2</td>\n",
       "    </tr>\n",
       "    <tr>\n",
       "      <th>2</th>\n",
       "      <td>3</td>\n",
       "      <td>1</td>\n",
       "      <td>1</td>\n",
       "      <td>1</td>\n",
       "      <td>5</td>\n",
       "      <td>8969.915921</td>\n",
       "      <td>6233</td>\n",
       "      <td>505</td>\n",
       "      <td>5741</td>\n",
       "      <td>829</td>\n",
       "      <td>...</td>\n",
       "      <td>0</td>\n",
       "      <td>3</td>\n",
       "      <td>5</td>\n",
       "      <td>3</td>\n",
       "      <td>-2</td>\n",
       "      <td>-2</td>\n",
       "      <td>-2</td>\n",
       "      <td>-2</td>\n",
       "      <td>-2</td>\n",
       "      <td>-2</td>\n",
       "    </tr>\n",
       "    <tr>\n",
       "      <th>3</th>\n",
       "      <td>4</td>\n",
       "      <td>2</td>\n",
       "      <td>3</td>\n",
       "      <td>7</td>\n",
       "      <td>2</td>\n",
       "      <td>18003.639600</td>\n",
       "      <td>6034</td>\n",
       "      <td>672</td>\n",
       "      <td>5781</td>\n",
       "      <td>868</td>\n",
       "      <td>...</td>\n",
       "      <td>3</td>\n",
       "      <td>3</td>\n",
       "      <td>5</td>\n",
       "      <td>3</td>\n",
       "      <td>-2</td>\n",
       "      <td>-2</td>\n",
       "      <td>-2</td>\n",
       "      <td>-2</td>\n",
       "      <td>-2</td>\n",
       "      <td>-2</td>\n",
       "    </tr>\n",
       "    <tr>\n",
       "      <th>4</th>\n",
       "      <td>5</td>\n",
       "      <td>1</td>\n",
       "      <td>1</td>\n",
       "      <td>1</td>\n",
       "      <td>3</td>\n",
       "      <td>5999.605242</td>\n",
       "      <td>5388</td>\n",
       "      <td>702</td>\n",
       "      <td>5313</td>\n",
       "      <td>797</td>\n",
       "      <td>...</td>\n",
       "      <td>0</td>\n",
       "      <td>1</td>\n",
       "      <td>1</td>\n",
       "      <td>0</td>\n",
       "      <td>-2</td>\n",
       "      <td>-2</td>\n",
       "      <td>-2</td>\n",
       "      <td>-2</td>\n",
       "      <td>-2</td>\n",
       "      <td>-2</td>\n",
       "    </tr>\n",
       "  </tbody>\n",
       "</table>\n",
       "<p>5 rows × 931 columns</p>\n",
       "</div>"
      ],
      "text/plain": [
       "   DOEID  REGIONC  DIVISION  REPORTABLE_DOMAIN  TYPEHUQ       NWEIGHT  HDD65  \\\n",
       "0      1        2         4                 12        2   2471.679705   4742   \n",
       "1      2        4        10                 26        2   8599.172010   2662   \n",
       "2      3        1         1                  1        5   8969.915921   6233   \n",
       "3      4        2         3                  7        2  18003.639600   6034   \n",
       "4      5        1         1                  1        3   5999.605242   5388   \n",
       "\n",
       "   CDD65  HDD30YR  CDD30YR    ...     SCALEEL  KAVALNG PERIODNG SCALENG  \\\n",
       "0   1080     4953     1271    ...           0       -2       -2      -2   \n",
       "1    199     2688      143    ...           0        1        1       0   \n",
       "2    505     5741      829    ...           0        3        5       3   \n",
       "3    672     5781      868    ...           3        3        5       3   \n",
       "4    702     5313      797    ...           0        1        1       0   \n",
       "\n",
       "   PERIODLP  SCALELP  PERIODFO  SCALEFO  PERIODKR  SCALEKER  \n",
       "0        -2       -2        -2       -2        -2        -2  \n",
       "1        -2       -2        -2       -2        -2        -2  \n",
       "2        -2       -2        -2       -2        -2        -2  \n",
       "3        -2       -2        -2       -2        -2        -2  \n",
       "4        -2       -2        -2       -2        -2        -2  \n",
       "\n",
       "[5 rows x 931 columns]"
      ]
     },
     "execution_count": 144,
     "metadata": {},
     "output_type": "execute_result"
    }
   ],
   "source": [
    "recs = pd.DataFrame.from_csv('recs2009_public.csv', index_col=None)\n",
    "recs.head()"
   ]
  },
  {
   "cell_type": "code",
   "execution_count": 145,
   "metadata": {
    "collapsed": false
   },
   "outputs": [
    {
     "data": {
      "text/html": [
       "<div>\n",
       "<table border=\"1\" class=\"dataframe\">\n",
       "  <thead>\n",
       "    <tr style=\"text-align: right;\">\n",
       "      <th></th>\n",
       "      <th>TOTSQFT</th>\n",
       "      <th>TOTROOMS</th>\n",
       "      <th>TOTALBTU</th>\n",
       "      <th>TOTALDOL</th>\n",
       "    </tr>\n",
       "  </thead>\n",
       "  <tbody>\n",
       "    <tr>\n",
       "      <th>0</th>\n",
       "      <td>5075</td>\n",
       "      <td>9</td>\n",
       "      <td>63006</td>\n",
       "      <td>1315</td>\n",
       "    </tr>\n",
       "    <tr>\n",
       "      <th>1</th>\n",
       "      <td>3136</td>\n",
       "      <td>4</td>\n",
       "      <td>103460</td>\n",
       "      <td>1293</td>\n",
       "    </tr>\n",
       "    <tr>\n",
       "      <th>2</th>\n",
       "      <td>528</td>\n",
       "      <td>2</td>\n",
       "      <td>58716</td>\n",
       "      <td>1327</td>\n",
       "    </tr>\n",
       "    <tr>\n",
       "      <th>3</th>\n",
       "      <td>2023</td>\n",
       "      <td>7</td>\n",
       "      <td>76401</td>\n",
       "      <td>1398</td>\n",
       "    </tr>\n",
       "    <tr>\n",
       "      <th>4</th>\n",
       "      <td>1912</td>\n",
       "      <td>5</td>\n",
       "      <td>59809</td>\n",
       "      <td>1558</td>\n",
       "    </tr>\n",
       "  </tbody>\n",
       "</table>\n",
       "</div>"
      ],
      "text/plain": [
       "   TOTSQFT  TOTROOMS  TOTALBTU  TOTALDOL\n",
       "0     5075         9     63006      1315\n",
       "1     3136         4    103460      1293\n",
       "2      528         2     58716      1327\n",
       "3     2023         7     76401      1398\n",
       "4     1912         5     59809      1558"
      ]
     },
     "execution_count": 145,
     "metadata": {},
     "output_type": "execute_result"
    }
   ],
   "source": [
    "r = recs[['TOTSQFT','TOTROOMS','TOTALBTU','TOTALDOL']]\n",
    "r.head()"
   ]
  },
  {
   "cell_type": "code",
   "execution_count": 146,
   "metadata": {
    "collapsed": false
   },
   "outputs": [
    {
     "data": {
      "text/html": [
       "<div>\n",
       "<table border=\"1\" class=\"dataframe\">\n",
       "  <thead>\n",
       "    <tr style=\"text-align: right;\">\n",
       "      <th></th>\n",
       "      <th>REGIONC</th>\n",
       "    </tr>\n",
       "  </thead>\n",
       "  <tbody>\n",
       "    <tr>\n",
       "      <th>0</th>\n",
       "      <td>2</td>\n",
       "    </tr>\n",
       "    <tr>\n",
       "      <th>1</th>\n",
       "      <td>4</td>\n",
       "    </tr>\n",
       "    <tr>\n",
       "      <th>2</th>\n",
       "      <td>1</td>\n",
       "    </tr>\n",
       "    <tr>\n",
       "      <th>3</th>\n",
       "      <td>2</td>\n",
       "    </tr>\n",
       "    <tr>\n",
       "      <th>4</th>\n",
       "      <td>1</td>\n",
       "    </tr>\n",
       "  </tbody>\n",
       "</table>\n",
       "</div>"
      ],
      "text/plain": [
       "   REGIONC\n",
       "0        2\n",
       "1        4\n",
       "2        1\n",
       "3        2\n",
       "4        1"
      ]
     },
     "execution_count": 146,
     "metadata": {},
     "output_type": "execute_result"
    }
   ],
   "source": [
    "div = {'REGIONC_1':'Northeast',\n",
    "       'REGIONC_2':'Midwest',\n",
    "       'REGIONC_3':'South',\n",
    "       'REGIONC_4':'West'}\n",
    "\n",
    "s = recs[['REGIONC']]\n",
    "s.head()"
   ]
  },
  {
   "cell_type": "code",
   "execution_count": 147,
   "metadata": {
    "collapsed": false
   },
   "outputs": [
    {
     "data": {
      "text/html": [
       "<div>\n",
       "<table border=\"1\" class=\"dataframe\">\n",
       "  <thead>\n",
       "    <tr style=\"text-align: right;\">\n",
       "      <th></th>\n",
       "      <th>REGIONC_1</th>\n",
       "      <th>REGIONC_2</th>\n",
       "      <th>REGIONC_3</th>\n",
       "      <th>REGIONC_4</th>\n",
       "    </tr>\n",
       "  </thead>\n",
       "  <tbody>\n",
       "    <tr>\n",
       "      <th>0</th>\n",
       "      <td>0</td>\n",
       "      <td>1</td>\n",
       "      <td>0</td>\n",
       "      <td>0</td>\n",
       "    </tr>\n",
       "    <tr>\n",
       "      <th>1</th>\n",
       "      <td>0</td>\n",
       "      <td>0</td>\n",
       "      <td>0</td>\n",
       "      <td>1</td>\n",
       "    </tr>\n",
       "    <tr>\n",
       "      <th>2</th>\n",
       "      <td>1</td>\n",
       "      <td>0</td>\n",
       "      <td>0</td>\n",
       "      <td>0</td>\n",
       "    </tr>\n",
       "    <tr>\n",
       "      <th>3</th>\n",
       "      <td>0</td>\n",
       "      <td>1</td>\n",
       "      <td>0</td>\n",
       "      <td>0</td>\n",
       "    </tr>\n",
       "    <tr>\n",
       "      <th>4</th>\n",
       "      <td>1</td>\n",
       "      <td>0</td>\n",
       "      <td>0</td>\n",
       "      <td>0</td>\n",
       "    </tr>\n",
       "  </tbody>\n",
       "</table>\n",
       "</div>"
      ],
      "text/plain": [
       "   REGIONC_1  REGIONC_2  REGIONC_3  REGIONC_4\n",
       "0          0          1          0          0\n",
       "1          0          0          0          1\n",
       "2          1          0          0          0\n",
       "3          0          1          0          0\n",
       "4          1          0          0          0"
      ]
     },
     "execution_count": 147,
     "metadata": {},
     "output_type": "execute_result"
    }
   ],
   "source": [
    "d = pd.get_dummies(s, columns=['REGIONC'])\n",
    "d.head()"
   ]
  },
  {
   "cell_type": "code",
   "execution_count": 148,
   "metadata": {
    "collapsed": false
   },
   "outputs": [
    {
     "data": {
      "text/html": [
       "<div>\n",
       "<table border=\"1\" class=\"dataframe\">\n",
       "  <thead>\n",
       "    <tr style=\"text-align: right;\">\n",
       "      <th></th>\n",
       "      <th>Northeast</th>\n",
       "      <th>Midwest</th>\n",
       "      <th>South</th>\n",
       "      <th>West</th>\n",
       "    </tr>\n",
       "  </thead>\n",
       "  <tbody>\n",
       "    <tr>\n",
       "      <th>0</th>\n",
       "      <td>False</td>\n",
       "      <td>True</td>\n",
       "      <td>False</td>\n",
       "      <td>False</td>\n",
       "    </tr>\n",
       "    <tr>\n",
       "      <th>1</th>\n",
       "      <td>False</td>\n",
       "      <td>False</td>\n",
       "      <td>False</td>\n",
       "      <td>True</td>\n",
       "    </tr>\n",
       "    <tr>\n",
       "      <th>2</th>\n",
       "      <td>True</td>\n",
       "      <td>False</td>\n",
       "      <td>False</td>\n",
       "      <td>False</td>\n",
       "    </tr>\n",
       "    <tr>\n",
       "      <th>3</th>\n",
       "      <td>False</td>\n",
       "      <td>True</td>\n",
       "      <td>False</td>\n",
       "      <td>False</td>\n",
       "    </tr>\n",
       "    <tr>\n",
       "      <th>4</th>\n",
       "      <td>True</td>\n",
       "      <td>False</td>\n",
       "      <td>False</td>\n",
       "      <td>False</td>\n",
       "    </tr>\n",
       "  </tbody>\n",
       "</table>\n",
       "</div>"
      ],
      "text/plain": [
       "  Northeast Midwest  South   West\n",
       "0     False    True  False  False\n",
       "1     False   False  False   True\n",
       "2      True   False  False  False\n",
       "3     False    True  False  False\n",
       "4      True   False  False  False"
      ]
     },
     "execution_count": 148,
     "metadata": {},
     "output_type": "execute_result"
    }
   ],
   "source": [
    "d = d.rename(columns=div)\n",
    "d = d.astype(bool)\n",
    "d.head()"
   ]
  },
  {
   "cell_type": "code",
   "execution_count": 149,
   "metadata": {
    "collapsed": false
   },
   "outputs": [
    {
     "data": {
      "text/html": [
       "<div>\n",
       "<table border=\"1\" class=\"dataframe\">\n",
       "  <thead>\n",
       "    <tr style=\"text-align: right;\">\n",
       "      <th></th>\n",
       "      <th>TOTSQFT</th>\n",
       "      <th>TOTROOMS</th>\n",
       "      <th>TOTALBTU</th>\n",
       "      <th>TOTALDOL</th>\n",
       "      <th>Northeast</th>\n",
       "      <th>Midwest</th>\n",
       "      <th>South</th>\n",
       "      <th>West</th>\n",
       "    </tr>\n",
       "  </thead>\n",
       "  <tbody>\n",
       "    <tr>\n",
       "      <th>0</th>\n",
       "      <td>5075</td>\n",
       "      <td>9</td>\n",
       "      <td>63006</td>\n",
       "      <td>1315</td>\n",
       "      <td>False</td>\n",
       "      <td>True</td>\n",
       "      <td>False</td>\n",
       "      <td>False</td>\n",
       "    </tr>\n",
       "    <tr>\n",
       "      <th>1</th>\n",
       "      <td>3136</td>\n",
       "      <td>4</td>\n",
       "      <td>103460</td>\n",
       "      <td>1293</td>\n",
       "      <td>False</td>\n",
       "      <td>False</td>\n",
       "      <td>False</td>\n",
       "      <td>True</td>\n",
       "    </tr>\n",
       "    <tr>\n",
       "      <th>2</th>\n",
       "      <td>528</td>\n",
       "      <td>2</td>\n",
       "      <td>58716</td>\n",
       "      <td>1327</td>\n",
       "      <td>True</td>\n",
       "      <td>False</td>\n",
       "      <td>False</td>\n",
       "      <td>False</td>\n",
       "    </tr>\n",
       "    <tr>\n",
       "      <th>3</th>\n",
       "      <td>2023</td>\n",
       "      <td>7</td>\n",
       "      <td>76401</td>\n",
       "      <td>1398</td>\n",
       "      <td>False</td>\n",
       "      <td>True</td>\n",
       "      <td>False</td>\n",
       "      <td>False</td>\n",
       "    </tr>\n",
       "    <tr>\n",
       "      <th>4</th>\n",
       "      <td>1912</td>\n",
       "      <td>5</td>\n",
       "      <td>59809</td>\n",
       "      <td>1558</td>\n",
       "      <td>True</td>\n",
       "      <td>False</td>\n",
       "      <td>False</td>\n",
       "      <td>False</td>\n",
       "    </tr>\n",
       "  </tbody>\n",
       "</table>\n",
       "</div>"
      ],
      "text/plain": [
       "   TOTSQFT  TOTROOMS  TOTALBTU  TOTALDOL Northeast Midwest  South   West\n",
       "0     5075         9     63006      1315     False    True  False  False\n",
       "1     3136         4    103460      1293     False   False  False   True\n",
       "2      528         2     58716      1327      True   False  False  False\n",
       "3     2023         7     76401      1398     False    True  False  False\n",
       "4     1912         5     59809      1558      True   False  False  False"
      ]
     },
     "execution_count": 149,
     "metadata": {},
     "output_type": "execute_result"
    }
   ],
   "source": [
    "df = r.join(d)\n",
    "df.head()"
   ]
  },
  {
   "cell_type": "code",
   "execution_count": 150,
   "metadata": {
    "collapsed": false
   },
   "outputs": [],
   "source": [
    "train, test = train_test_split(df)"
   ]
  },
  {
   "cell_type": "code",
   "execution_count": 151,
   "metadata": {
    "collapsed": false
   },
   "outputs": [],
   "source": [
    "df_train = train.drop('TOTALBTU',1)"
   ]
  },
  {
   "cell_type": "code",
   "execution_count": 152,
   "metadata": {
    "collapsed": false
   },
   "outputs": [],
   "source": [
    "df_test = test.drop('TOTALBTU',1)"
   ]
  },
  {
   "cell_type": "code",
   "execution_count": 153,
   "metadata": {
    "collapsed": true
   },
   "outputs": [],
   "source": [
    "regr = linear_model.LinearRegression()"
   ]
  },
  {
   "cell_type": "code",
   "execution_count": 154,
   "metadata": {
    "collapsed": false
   },
   "outputs": [
    {
     "name": "stdout",
     "output_type": "stream",
     "text": [
      "Wall time: 5 ms\n"
     ]
    },
    {
     "data": {
      "text/plain": [
       "LinearRegression(copy_X=True, fit_intercept=True, n_jobs=1, normalize=False)"
      ]
     },
     "execution_count": 154,
     "metadata": {},
     "output_type": "execute_result"
    }
   ],
   "source": [
    "%%time\n",
    "regr.fit(df_train,train.TOTALBTU)"
   ]
  },
  {
   "cell_type": "code",
   "execution_count": 155,
   "metadata": {
    "collapsed": false
   },
   "outputs": [
    {
     "name": "stdout",
     "output_type": "stream",
     "text": [
      "Coefficients: \n",
      " [  3.87089551e+00   2.18952680e+03   3.26348061e+01  -1.74092669e+03\n",
      "   2.02109874e+04  -1.63857112e+04  -2.08434952e+03]\n"
     ]
    }
   ],
   "source": [
    "print('Coefficients: \\n', regr.coef_)"
   ]
  },
  {
   "cell_type": "code",
   "execution_count": 156,
   "metadata": {
    "collapsed": false
   },
   "outputs": [
    {
     "name": "stdout",
     "output_type": "stream",
     "text": [
      "Variance score: 0.74\n"
     ]
    }
   ],
   "source": [
    "print('Variance score: %.2f' % regr.score(df_train,train.TOTALBTU))"
   ]
  },
  {
   "cell_type": "code",
   "execution_count": 157,
   "metadata": {
    "collapsed": false
   },
   "outputs": [
    {
     "data": {
      "text/plain": [
       "0.73745824789699599"
      ]
     },
     "execution_count": 157,
     "metadata": {},
     "output_type": "execute_result"
    }
   ],
   "source": [
    "regr.score(df_train,train.TOTALBTU)"
   ]
  },
  {
   "cell_type": "code",
   "execution_count": 158,
   "metadata": {
    "collapsed": false
   },
   "outputs": [
    {
     "data": {
      "text/plain": [
       "array([  73979.51477865,  119852.97385742,   46783.59802828, ...,\n",
       "        111854.85779235,   63584.36400424,   13662.87079805])"
      ]
     },
     "execution_count": 158,
     "metadata": {},
     "output_type": "execute_result"
    }
   ],
   "source": [
    "regr.predict(df_test)"
   ]
  },
  {
   "cell_type": "code",
   "execution_count": 159,
   "metadata": {
    "collapsed": false
   },
   "outputs": [],
   "source": [
    "recs = recs.drop(['METROMICRO','UR'],1)"
   ]
  },
  {
   "cell_type": "code",
   "execution_count": 160,
   "metadata": {
    "collapsed": false
   },
   "outputs": [
    {
     "data": {
      "text/html": [
       "<div>\n",
       "<table border=\"1\" class=\"dataframe\">\n",
       "  <thead>\n",
       "    <tr style=\"text-align: right;\">\n",
       "      <th></th>\n",
       "      <th>DOEID</th>\n",
       "      <th>REGIONC</th>\n",
       "      <th>DIVISION</th>\n",
       "      <th>REPORTABLE_DOMAIN</th>\n",
       "      <th>TYPEHUQ</th>\n",
       "      <th>NWEIGHT</th>\n",
       "      <th>HDD65</th>\n",
       "      <th>CDD65</th>\n",
       "      <th>HDD30YR</th>\n",
       "      <th>CDD30YR</th>\n",
       "      <th>...</th>\n",
       "      <th>SCALEEL</th>\n",
       "      <th>KAVALNG</th>\n",
       "      <th>PERIODNG</th>\n",
       "      <th>SCALENG</th>\n",
       "      <th>PERIODLP</th>\n",
       "      <th>SCALELP</th>\n",
       "      <th>PERIODFO</th>\n",
       "      <th>SCALEFO</th>\n",
       "      <th>PERIODKR</th>\n",
       "      <th>SCALEKER</th>\n",
       "    </tr>\n",
       "  </thead>\n",
       "  <tbody>\n",
       "    <tr>\n",
       "      <th>0</th>\n",
       "      <td>1</td>\n",
       "      <td>2</td>\n",
       "      <td>4</td>\n",
       "      <td>12</td>\n",
       "      <td>2</td>\n",
       "      <td>2471.679705</td>\n",
       "      <td>4742</td>\n",
       "      <td>1080</td>\n",
       "      <td>4953</td>\n",
       "      <td>1271</td>\n",
       "      <td>...</td>\n",
       "      <td>0</td>\n",
       "      <td>-2</td>\n",
       "      <td>-2</td>\n",
       "      <td>-2</td>\n",
       "      <td>-2</td>\n",
       "      <td>-2</td>\n",
       "      <td>-2</td>\n",
       "      <td>-2</td>\n",
       "      <td>-2</td>\n",
       "      <td>-2</td>\n",
       "    </tr>\n",
       "    <tr>\n",
       "      <th>1</th>\n",
       "      <td>2</td>\n",
       "      <td>4</td>\n",
       "      <td>10</td>\n",
       "      <td>26</td>\n",
       "      <td>2</td>\n",
       "      <td>8599.172010</td>\n",
       "      <td>2662</td>\n",
       "      <td>199</td>\n",
       "      <td>2688</td>\n",
       "      <td>143</td>\n",
       "      <td>...</td>\n",
       "      <td>0</td>\n",
       "      <td>1</td>\n",
       "      <td>1</td>\n",
       "      <td>0</td>\n",
       "      <td>-2</td>\n",
       "      <td>-2</td>\n",
       "      <td>-2</td>\n",
       "      <td>-2</td>\n",
       "      <td>-2</td>\n",
       "      <td>-2</td>\n",
       "    </tr>\n",
       "    <tr>\n",
       "      <th>2</th>\n",
       "      <td>3</td>\n",
       "      <td>1</td>\n",
       "      <td>1</td>\n",
       "      <td>1</td>\n",
       "      <td>5</td>\n",
       "      <td>8969.915921</td>\n",
       "      <td>6233</td>\n",
       "      <td>505</td>\n",
       "      <td>5741</td>\n",
       "      <td>829</td>\n",
       "      <td>...</td>\n",
       "      <td>0</td>\n",
       "      <td>3</td>\n",
       "      <td>5</td>\n",
       "      <td>3</td>\n",
       "      <td>-2</td>\n",
       "      <td>-2</td>\n",
       "      <td>-2</td>\n",
       "      <td>-2</td>\n",
       "      <td>-2</td>\n",
       "      <td>-2</td>\n",
       "    </tr>\n",
       "    <tr>\n",
       "      <th>3</th>\n",
       "      <td>4</td>\n",
       "      <td>2</td>\n",
       "      <td>3</td>\n",
       "      <td>7</td>\n",
       "      <td>2</td>\n",
       "      <td>18003.639600</td>\n",
       "      <td>6034</td>\n",
       "      <td>672</td>\n",
       "      <td>5781</td>\n",
       "      <td>868</td>\n",
       "      <td>...</td>\n",
       "      <td>3</td>\n",
       "      <td>3</td>\n",
       "      <td>5</td>\n",
       "      <td>3</td>\n",
       "      <td>-2</td>\n",
       "      <td>-2</td>\n",
       "      <td>-2</td>\n",
       "      <td>-2</td>\n",
       "      <td>-2</td>\n",
       "      <td>-2</td>\n",
       "    </tr>\n",
       "    <tr>\n",
       "      <th>4</th>\n",
       "      <td>5</td>\n",
       "      <td>1</td>\n",
       "      <td>1</td>\n",
       "      <td>1</td>\n",
       "      <td>3</td>\n",
       "      <td>5999.605242</td>\n",
       "      <td>5388</td>\n",
       "      <td>702</td>\n",
       "      <td>5313</td>\n",
       "      <td>797</td>\n",
       "      <td>...</td>\n",
       "      <td>0</td>\n",
       "      <td>1</td>\n",
       "      <td>1</td>\n",
       "      <td>0</td>\n",
       "      <td>-2</td>\n",
       "      <td>-2</td>\n",
       "      <td>-2</td>\n",
       "      <td>-2</td>\n",
       "      <td>-2</td>\n",
       "      <td>-2</td>\n",
       "    </tr>\n",
       "  </tbody>\n",
       "</table>\n",
       "<p>5 rows × 929 columns</p>\n",
       "</div>"
      ],
      "text/plain": [
       "   DOEID  REGIONC  DIVISION  REPORTABLE_DOMAIN  TYPEHUQ       NWEIGHT  HDD65  \\\n",
       "0      1        2         4                 12        2   2471.679705   4742   \n",
       "1      2        4        10                 26        2   8599.172010   2662   \n",
       "2      3        1         1                  1        5   8969.915921   6233   \n",
       "3      4        2         3                  7        2  18003.639600   6034   \n",
       "4      5        1         1                  1        3   5999.605242   5388   \n",
       "\n",
       "   CDD65  HDD30YR  CDD30YR    ...     SCALEEL  KAVALNG  PERIODNG  SCALENG  \\\n",
       "0   1080     4953     1271    ...           0       -2        -2       -2   \n",
       "1    199     2688      143    ...           0        1         1        0   \n",
       "2    505     5741      829    ...           0        3         5        3   \n",
       "3    672     5781      868    ...           3        3         5        3   \n",
       "4    702     5313      797    ...           0        1         1        0   \n",
       "\n",
       "   PERIODLP  SCALELP  PERIODFO  SCALEFO  PERIODKR  SCALEKER  \n",
       "0        -2       -2        -2       -2        -2        -2  \n",
       "1        -2       -2        -2       -2        -2        -2  \n",
       "2        -2       -2        -2       -2        -2        -2  \n",
       "3        -2       -2        -2       -2        -2        -2  \n",
       "4        -2       -2        -2       -2        -2        -2  \n",
       "\n",
       "[5 rows x 929 columns]"
      ]
     },
     "execution_count": 160,
     "metadata": {},
     "output_type": "execute_result"
    }
   ],
   "source": [
    "recs = recs.drop([1387,2092], axis=0)\n",
    "recs.head()"
   ]
  },
  {
   "cell_type": "code",
   "execution_count": 169,
   "metadata": {
    "collapsed": true
   },
   "outputs": [],
   "source": [
    "train, test = train_test_split(recs)"
   ]
  },
  {
   "cell_type": "code",
   "execution_count": 170,
   "metadata": {
    "collapsed": true
   },
   "outputs": [],
   "source": [
    "df_train = train.drop('TOTALBTU',1)\n",
    "df_test = test.drop('TOTALBTU',1)\n",
    "regr = linear_model.LinearRegression()"
   ]
  },
  {
   "cell_type": "code",
   "execution_count": 171,
   "metadata": {
    "collapsed": false
   },
   "outputs": [
    {
     "name": "stdout",
     "output_type": "stream",
     "text": [
      "No NaN in DataFrame\n"
     ]
    }
   ],
   "source": [
    "df = recs\n",
    "cols = list(df)\n",
    "count = 0\n",
    "\n",
    "for c in cols:\n",
    "    dfe = df[df[c].isnull()]\n",
    "\n",
    "    if dfe.empty:\n",
    "        count += 1\n",
    "    else:\n",
    "        print('NaN in ' + c)\n",
    "\n",
    "    if count == len(cols):\n",
    "        print('No NaN in DataFrame')"
   ]
  },
  {
   "cell_type": "code",
   "execution_count": 164,
   "metadata": {
    "collapsed": false,
    "scrolled": true
   },
   "outputs": [
    {
     "data": {
      "text/plain": [
       "Series([], Name: NOCRCASH, dtype: float64)"
      ]
     },
     "execution_count": 164,
     "metadata": {},
     "output_type": "execute_result"
    }
   ],
   "source": [
    "recs[recs.NOCRCASH.isnull()].NOCRCASH"
   ]
  },
  {
   "cell_type": "code",
   "execution_count": 165,
   "metadata": {
    "collapsed": false
   },
   "outputs": [
    {
     "data": {
      "text/plain": [
       "Series([], Name: NKRGALNC, dtype: float64)"
      ]
     },
     "execution_count": 165,
     "metadata": {},
     "output_type": "execute_result"
    }
   ],
   "source": [
    "recs[recs.NKRGALNC.isnull()].NKRGALNC"
   ]
  },
  {
   "cell_type": "code",
   "execution_count": 172,
   "metadata": {
    "collapsed": false
   },
   "outputs": [
    {
     "name": "stdout",
     "output_type": "stream",
     "text": [
      "Wall time: 518 ms\n"
     ]
    },
    {
     "data": {
      "text/plain": [
       "LinearRegression(copy_X=True, fit_intercept=True, n_jobs=1, normalize=False)"
      ]
     },
     "execution_count": 172,
     "metadata": {},
     "output_type": "execute_result"
    }
   ],
   "source": [
    "%%time\n",
    "regr.fit(df_train,train.TOTALBTU)"
   ]
  },
  {
   "cell_type": "code",
   "execution_count": 176,
   "metadata": {
    "collapsed": false
   },
   "outputs": [
    {
     "data": {
      "text/plain": [
       "1.0"
      ]
     },
     "execution_count": 176,
     "metadata": {},
     "output_type": "execute_result"
    }
   ],
   "source": [
    "regr.score(df_train,train.TOTALBTU)"
   ]
  },
  {
   "cell_type": "code",
   "execution_count": 178,
   "metadata": {
    "collapsed": false
   },
   "outputs": [
    {
     "data": {
      "text/plain": [
       "array([  3.40981941e-16,   3.32911476e-12,   3.06715226e-11,\n",
       "        -7.11203318e-12,  -2.43311656e-11,  -1.05471187e-15,\n",
       "        -1.58761893e-14,  -1.14908083e-14,   1.31006317e-14,\n",
       "         1.90819582e-15,  -1.01900096e-15,   2.36398601e-12,\n",
       "         1.40157035e-11,   9.47024468e-13,   3.66470146e-13,\n",
       "        -3.89359779e-12,   2.38163985e-12,   2.22236726e-11,\n",
       "        -1.08932523e-11,   2.26922575e-12,  -2.29058197e-13,\n",
       "        -1.88542758e-14,   9.20609712e-13,  -1.76197815e-12,\n",
       "        -1.31018132e-11,   7.63227101e-14,   3.01163987e-13,\n",
       "         1.50421596e-11,  -1.06545693e-11,  -1.13683638e-11,\n",
       "        -2.47242802e-11,  -1.29992281e-11,   1.84601109e-11,\n",
       "         1.91033238e-10,  -2.76414657e-12,  -2.18767529e-12,\n",
       "        -2.16391064e-11,   4.42137455e-12,  -2.23655958e-11,\n",
       "         9.18626912e-12,  -2.37106802e-12,  -2.88027704e-11,\n",
       "         1.27559706e-11,  -1.16898031e-12,  -1.58102711e-11,\n",
       "        -2.12633152e-10,  -1.55784567e-11,   7.93519317e-12,\n",
       "        -7.51823729e-10,   2.52752903e-10,  -5.96931828e-11,\n",
       "         8.59999887e-10,  -2.92719332e-10,   7.45346584e-11,\n",
       "         7.94362003e-12,  -1.93935144e-11,  -1.48142673e-11,\n",
       "         4.06960116e-12,   2.29898990e-11,  -2.02432298e-12,\n",
       "         2.93216430e-12,  -2.82144357e-13,  -1.18993732e-12,\n",
       "        -3.89006425e-12,  -1.05672652e-11,  -1.36052544e-12,\n",
       "        -3.62735986e-12,  -1.99448967e-11,   5.33795065e-13,\n",
       "         2.50140224e-11,  -1.97501126e-11,   5.10638449e-12,\n",
       "        -2.86587503e-11,  -1.63738900e-11,   8.89681864e-12,\n",
       "         5.40253606e-14,   1.57651669e-14,   2.29807050e-12,\n",
       "         4.58488679e-12,  -9.32520058e-11,   1.23523781e-10,\n",
       "        -1.11393387e-10,   8.74789683e-12,   4.39185115e-11,\n",
       "        -5.73632718e-13,  -1.02451913e-11,   1.67723216e-11,\n",
       "        -5.63054893e-13,  -8.75391374e-11,   3.30486355e-11,\n",
       "         4.46023427e-14,   3.12061737e-11,  -7.69633014e-11,\n",
       "         6.25887399e-11,  -8.30931864e-12,   1.84173485e-12,\n",
       "         7.92763490e-12,  -7.85122677e-11,  -1.81248309e-11,\n",
       "         9.59139539e-11,   7.82238857e-14,   5.33106321e-12,\n",
       "         4.21156165e-14,   1.59263428e-11,   5.30702319e-11,\n",
       "        -3.34428157e-11,   3.42656824e-11,   3.51475796e-11,\n",
       "        -4.70503037e-11,  -4.70617520e-11,  -2.66155006e-11,\n",
       "        -2.53036128e-10,  -1.58549683e-11,   4.27362189e-12,\n",
       "         1.42121866e-11,  -2.07670861e-12,   2.30015025e-12,\n",
       "        -3.35658767e-13,  -9.14907051e-13,   8.40548910e-14,\n",
       "        -6.98708710e-13,   4.16943168e-12,   1.89038611e-13,\n",
       "         8.21584696e-13,  -1.12024370e-11,   4.46786651e-13,\n",
       "         4.07230551e-12,  -1.24837310e-12,   4.23455280e-13,\n",
       "        -1.97869529e-12,   1.53284313e-13,  -1.98060774e-12,\n",
       "         1.27113205e-12,   1.25922384e-13,   4.60483203e-12,\n",
       "        -3.74738318e-12,   5.70200706e-13,  -3.42098311e-15,\n",
       "        -4.92295425e-13,   2.94534044e-13,  -1.53499069e-12,\n",
       "        -1.42921844e-12,  -5.97876783e-14,   9.47850658e-13,\n",
       "        -5.28595119e-13,  -1.60811062e-13,   3.69540553e-14,\n",
       "        -1.03654023e-12,  -3.93919689e-13,   3.28590365e-13,\n",
       "         1.44862702e-11,  -3.09402344e-12,  -1.00481262e-13,\n",
       "        -3.67815264e-12,   4.38935196e-12,  -3.10288656e-12,\n",
       "        -6.84732410e-12,  -1.03298142e-12,   7.10787594e-12,\n",
       "         2.88950721e-14,  -6.92313486e-12,   8.86540347e-12,\n",
       "        -2.16663097e-12,   8.90952708e-12,  -3.48470456e-12,\n",
       "        -4.30480838e-12,  -4.96385702e-13,   2.38479821e-11,\n",
       "        -9.99838816e-13,  -2.19577991e-13,  -4.70775708e-13,\n",
       "        -4.54247524e-14,   1.85765441e-12,  -1.84921605e-12,\n",
       "         1.51617274e-10,  -4.85083142e-11,   1.04430353e-14,\n",
       "         3.18866167e-10,   1.45716772e-15,  -2.14758242e-10,\n",
       "         7.63919023e-13,   1.33531250e-12,  -2.08731920e-12,\n",
       "         3.42331142e-10,  -3.15981276e-10,   4.13624565e-11,\n",
       "        -1.13402126e-14,   1.48751638e-11,   4.68589090e-11,\n",
       "        -8.20177259e-15,   7.50188637e-11,   1.55431223e-14,\n",
       "         1.92851281e-11,  -1.18655086e-14,  -4.18189466e-11,\n",
       "        -4.18171854e-11,  -1.42480536e-11,  -1.94433668e-11,\n",
       "         3.14927667e-11,  -3.42109352e-12,  -1.19191752e-10,\n",
       "        -9.87076199e-12,   2.63902238e-12,   1.00153163e-10,\n",
       "        -1.74194917e-11,  -2.83449385e-10,   1.57859836e-15,\n",
       "         8.77539811e-11,   5.00543283e-11,   1.37908819e-10,\n",
       "         2.20379270e-14,  -1.33643097e-14,  -1.53456541e-11,\n",
       "         3.13613111e-11,  -1.04388176e-11,  -3.01076503e-12,\n",
       "        -2.22391550e-15,   3.27585181e-14,  -4.24773582e-11,\n",
       "         2.49730792e-14,   2.31620279e-14,  -1.95538030e-14,\n",
       "         4.18235284e-12,  -9.25675587e-12,  -8.87792979e-13,\n",
       "        -2.86662564e-12,   8.84863458e-13,   3.30378144e-12,\n",
       "        -1.38761561e-13,  -3.14773239e-13,  -2.71121003e-13,\n",
       "        -3.21194506e-13,   3.17517790e-12,  -1.01219052e-11,\n",
       "         7.33382268e-14,   2.68681166e-12,   1.55236257e-13,\n",
       "        -4.89835221e-12,  -4.04599138e-13,   1.54602339e-13,\n",
       "         3.36071211e-12,  -2.94190410e-12,   2.08051637e-12,\n",
       "        -1.38030856e-12,   2.71288317e-12,   6.58155075e-13,\n",
       "        -2.38923377e-12,   2.06450275e-12,   4.30519263e-12,\n",
       "        -7.92854819e-12,  -2.13155872e-13,  -2.65137952e-12,\n",
       "        -6.09404999e-13,   2.61435304e-12,  -2.38362720e-12,\n",
       "         1.40568660e-12,   5.08812339e-12,  -2.57887693e-12,\n",
       "        -1.59308632e-12,   3.16866247e-12,  -7.49762437e-12,\n",
       "        -2.85627834e-13,   1.93513259e-12,   7.78586922e-13,\n",
       "        -2.75197029e-12,   4.73463315e-12,  -1.42993321e-12,\n",
       "         1.33173303e-12,   6.55220507e-14,   8.73429929e-13,\n",
       "         7.64320966e-13,   2.49567755e-14,  -5.38729536e-12,\n",
       "         4.14136530e-12,  -3.63398646e-12,  -2.31384780e-12,\n",
       "         5.62586214e-12,  -1.61527373e-12,   5.87534667e-12,\n",
       "        -2.82197092e-12,   3.91846841e-12,   6.17390877e-12,\n",
       "        -9.48319053e-13,   1.10479977e-12,  -2.36300480e-12,\n",
       "        -3.72582855e-12,  -9.13212845e-11,  -1.42376662e-12,\n",
       "        -5.65012986e-12,  -2.09069569e-12,  -1.30132488e-12,\n",
       "         1.43505663e-11,   5.89340124e-12,   1.46121118e-12,\n",
       "         5.86272037e-13,  -2.04204400e-13,  -2.41665220e-12,\n",
       "        -1.78353426e-14,  -9.39528735e-12,   8.36786112e-13,\n",
       "         2.83326050e-12,   9.33807245e-12,   1.18791646e-12,\n",
       "         3.27218427e-11,  -1.48860336e-12,  -5.48502880e-12,\n",
       "        -3.11251786e-12,  -2.42280631e-12,   5.77836437e-13,\n",
       "         1.34394497e-12,  -1.96968969e-12,   4.30618690e-12,\n",
       "        -5.60173728e-12,  -4.01643891e-13,  -7.95799932e-13,\n",
       "         3.18327016e-12,  -3.69133314e-13,   2.28518562e-13,\n",
       "        -1.43986463e-13,   1.14121012e-12,   2.46258289e-13,\n",
       "        -1.31647380e-12,  -2.10059641e-12,  -2.09064262e-12,\n",
       "         7.71359792e-13,  -4.51028104e-16,  -1.18308141e-14,\n",
       "         1.58988127e-11,  -1.88274133e-11,   1.05796981e-11,\n",
       "        -1.40378547e-12,  -6.52516235e-15,  -1.33286314e-11,\n",
       "        -6.15078193e-11,   3.46590314e-12,   2.80190367e-15,\n",
       "         3.41065098e-11,   2.08013812e-11,  -6.88608197e-11,\n",
       "         1.13753206e-11,  -9.13261028e-12,   1.21965566e-11,\n",
       "         6.97593996e-11,   2.62343383e-12,  -3.46285304e-11,\n",
       "         1.55448742e-11,   7.64012634e-11,   2.66058800e-12,\n",
       "        -3.25324428e-11,  -5.07601396e-11,   1.77908014e-11,\n",
       "        -5.07502102e-11,   3.93256701e-11,   5.92149591e-13,\n",
       "         1.15842701e-10,  -2.04364826e-11,  -2.51642854e-11,\n",
       "        -2.68753600e-11,  -1.95628042e-10,  -1.23168816e-11,\n",
       "        -3.11361738e-11,   1.31870119e-10,  -9.56087114e-11,\n",
       "         1.31869773e-10,  -1.07741196e-11,   4.15419795e-11,\n",
       "         8.29733362e-11,  -3.81416721e-11,  -5.38143634e-11,\n",
       "         2.85641798e-12,   2.90481091e-12,   3.83522955e-11,\n",
       "        -5.41054965e-11,   3.16047581e-11,   5.70493002e-11,\n",
       "        -7.81545147e-11,   1.36571786e-10,   1.36552222e-10,\n",
       "        -8.48846116e-11,  -1.45730373e-11,  -3.32716885e-11,\n",
       "        -1.26727979e-11,  -3.32663573e-11,   1.90863664e-11,\n",
       "        -1.28039234e-10,   8.63244279e-11,   7.47824267e-11,\n",
       "        -2.03174090e-11,  -2.56428436e-11,   5.48097820e-11,\n",
       "         1.56459598e-12,   8.63152463e-11,   1.60336233e-10,\n",
       "         4.96012007e-11,   1.97606800e-11,  -4.32833588e-10,\n",
       "         2.14368293e-10,  -8.81785934e-11,   5.62367424e-11,\n",
       "        -5.65227649e-11,  -1.48783848e-11,   2.43434701e-11,\n",
       "        -6.12600919e-12,  -9.26907764e-13,  -3.09491385e-11,\n",
       "         2.22454265e-11,   3.18916356e-12,  -2.26576687e-12,\n",
       "         2.55689794e-11,   3.03836637e-11,   1.92532393e-12,\n",
       "        -5.31818903e-11,  -6.24613091e-11,   3.62210262e-15,\n",
       "        -1.97172696e-11,  -1.97079413e-11,  -8.92157165e-11,\n",
       "         2.76541016e-11,   1.91480219e-10,  -9.70448264e-12,\n",
       "        -5.21518110e-11,  -1.67120572e-10,   3.71430719e-11,\n",
       "        -1.41400341e-10,   3.71763725e-11,  -3.64939375e-13,\n",
       "         3.20289591e-12,  -7.42195981e-13,  -7.79373948e-13,\n",
       "         6.27572862e-12,   3.28740568e-14,   7.94696293e-13,\n",
       "        -1.33631613e-12,   1.34563310e-12,  -1.18229192e-11,\n",
       "         7.44476597e-12,   1.13455307e-11,   4.65888179e-11,\n",
       "        -8.71906983e-12,   6.62531757e-11,  -8.83025464e-12,\n",
       "         4.32623128e-14,  -1.22588611e-10,   3.20522349e-11,\n",
       "        -1.77748938e-11,   1.86955424e-11,   5.42453408e-11,\n",
       "        -6.10552659e-12,   1.44899496e-11,  -4.85456083e-11,\n",
       "         7.84575856e-11,  -8.30361803e-12,  -8.36529082e-12,\n",
       "        -2.82626671e-12,   4.12367545e-11,  -3.16385001e-12,\n",
       "         3.99776811e-11,  -7.18606438e-12,  -1.53632726e-12,\n",
       "         4.41019698e-13,   7.23116066e-13,  -3.52478836e-12,\n",
       "         2.91354494e-12,  -1.95561661e-12,  -2.97720593e-12,\n",
       "        -2.34025581e-13,  -5.95574154e-13,   1.25342011e-13,\n",
       "         1.57154887e-11,  -3.96425748e-12,  -2.85405380e-15,\n",
       "         1.83533744e-15,   1.29885963e-11,  -3.56407085e-11,\n",
       "         5.78214544e-12,  -6.20600606e-12,  -6.23061468e-13,\n",
       "         7.45838351e-12,  -2.40561096e-11,  -2.16864533e-11,\n",
       "         8.10846189e-11,  -1.30451205e-15,  -4.88845076e-15,\n",
       "         9.07477218e-16,  -2.65007220e-11,  -1.70901897e-11,\n",
       "         4.46144196e-12,  -1.07414078e-14,   2.04583340e-11,\n",
       "        -6.34401801e-12,   2.94459917e-11,  -3.37787902e-11,\n",
       "        -5.37719116e-11,   3.08910249e-12,   1.46561521e-11,\n",
       "         3.70287382e-12,   9.60094419e-12,  -4.88147263e-12,\n",
       "         2.79207852e-12,  -1.61390608e-12,   2.49170722e-11,\n",
       "         1.29731093e-11,  -1.04649178e-11,   4.63487771e-12,\n",
       "        -8.98355743e-12,  -8.18546253e-12,   2.66404995e-12,\n",
       "        -1.74165153e-14,   4.89490654e-12,   1.02009396e-12,\n",
       "        -2.22254030e-12,  -7.36914214e-12,  -1.14367831e-12,\n",
       "         5.55733469e-12,   7.64044926e-13,  -3.29981176e-13,\n",
       "        -5.23769669e-12,   7.78737373e-13,  -1.28014587e-12,\n",
       "        -1.18014525e-12,   4.55861107e-12,   8.39603596e-13,\n",
       "        -3.84258830e-12,  -1.70349845e-15,   5.98510485e-11,\n",
       "        -1.33484248e-11,  -1.19365321e-12,   4.41027234e-11,\n",
       "         2.35665839e-11,   6.88510086e-12,   7.00498236e-12,\n",
       "         3.88644368e-12,  -2.64795607e-12,   6.38709851e-12,\n",
       "        -3.49155152e-12,   1.08538937e-13,   3.01681375e-13,\n",
       "         4.20718676e-13,   8.66345073e-13,  -2.10259844e-12,\n",
       "        -3.70757315e-12,   5.77690890e-13,  -3.11529489e-12,\n",
       "        -4.48649876e-12,   7.26873324e-12,   2.00117700e-14,\n",
       "        -7.15627048e-13,   7.09904683e-13,  -2.37538971e-12,\n",
       "        -7.52742595e-15,  -1.32190174e-13,  -3.87111694e-12,\n",
       "         4.18184173e-12,  -2.30649189e-12,  -3.88466752e-12,\n",
       "         4.67206196e-13,   6.35548305e-13,  -1.01577150e-12,\n",
       "         3.67074653e-12,   6.33240906e-13,  -2.83840112e-11,\n",
       "         4.68908068e-11,   9.52732390e-11,   1.06808630e-10,\n",
       "        -2.09897833e-11,   2.29471406e-12,  -4.67301059e-13,\n",
       "         3.07262104e-12,  -6.35159541e-12,  -1.90415146e-12,\n",
       "         1.26217585e-11,  -5.54178343e-11,  -6.48431127e-11,\n",
       "        -1.67612588e-11,   6.56529967e-11,   2.18665889e-12,\n",
       "         1.39769955e-11,  -3.17353226e-11,  -6.39153736e-11,\n",
       "        -1.19268987e-11,  -5.79838524e-12,  -1.22627172e-10,\n",
       "        -5.80029854e-12,   5.99350743e-11,   4.60896915e-12,\n",
       "         5.40393521e-12,   1.21085307e-11,  -4.64700602e-12,\n",
       "         3.58239849e-11,  -1.55844338e-11,  -3.30614170e-12,\n",
       "        -3.72656553e-11,   4.38501422e-12,   6.57305606e-13,\n",
       "        -1.24941256e-12,  -9.14974090e-13,   1.00507545e-12,\n",
       "        -6.16725861e-13,   9.51511588e-13,  -3.50323678e-12,\n",
       "        -2.21029481e-12,   6.22334956e-12,   3.57735549e-13,\n",
       "        -1.90855457e-12,   1.40805610e-12,   3.40629636e-12,\n",
       "        -2.88631548e-12,  -3.86734644e-14,   3.75357272e-14,\n",
       "        -6.36641452e-13,   7.95390880e-13,   6.19159436e-13,\n",
       "        -1.03566966e-12,   6.14813826e-13,  -1.85987537e-13,\n",
       "        -2.42398695e-12,   3.34499836e-12,   4.12763207e-12,\n",
       "        -6.93650225e-12,   8.90012348e-14,   4.06184103e-12,\n",
       "        -6.45117474e-12,  -6.74579829e-12,   4.28571607e-13,\n",
       "         3.59112283e-12,  -2.74946488e-14,  -6.52883231e-11,\n",
       "         2.77421445e-11,   2.61737692e-11,  -6.52935574e-11,\n",
       "        -2.10672286e-11,  -6.52912467e-11,  -2.51473522e-11,\n",
       "        -6.53578918e-11,   1.00714862e-10,  -7.58592663e-12,\n",
       "         3.00611625e-11,  -5.70654570e-11,   2.84067727e-10,\n",
       "        -1.12345837e-10,  -1.75576571e-11,  -8.06154388e-12,\n",
       "        -1.26030169e-11,   4.37660478e-12,  -3.00145341e-12,\n",
       "        -6.95433912e-12,   2.97276622e-11,  -2.00051106e-11,\n",
       "         3.39590752e-11,   1.43594051e-11,   1.14466627e-10,\n",
       "         3.21444260e-15,   2.22928380e-11,  -4.21199768e-12,\n",
       "         1.82801839e-10,  -2.79459176e-11,   2.27241574e-11,\n",
       "         1.38921750e-11,  -5.61871426e-12,   7.92508151e-13,\n",
       "        -1.57771580e-11,   4.40641414e-11,   4.64544002e-11,\n",
       "        -4.21464387e-11,   1.38848857e-12,   2.00472863e-11,\n",
       "        -2.22636551e-11,  -1.79299898e-11,  -1.01511477e-11,\n",
       "        -8.21809560e-12,   2.67773197e-11,  -3.11369569e-11,\n",
       "         4.44453865e-11,   2.77812626e-12,   1.08409224e-11,\n",
       "        -1.17260370e-11,  -2.21388096e-12,   3.48020899e-11,\n",
       "         2.10632134e-11,  -9.38544544e-11,   4.69004434e-11,\n",
       "        -5.54747184e-11,  -1.07812725e-10,  -3.89045340e-11,\n",
       "         1.10700909e-11,   9.08446144e-11,  -2.05441785e-11,\n",
       "        -4.59036959e-11,  -4.59096217e-11,   1.42950970e-11,\n",
       "         7.60015832e-12,   3.35579224e-11,   7.37972185e-11,\n",
       "         9.59554926e-11,   1.02530015e-11,   3.42251151e-12,\n",
       "         8.57166668e-13,  -5.87206539e-14,  -6.74543080e-12,\n",
       "         1.39865493e-11,   4.51683114e-12,   3.10202820e-13,\n",
       "        -1.13312913e-11,  -9.27881739e-12,  -2.72483757e-14,\n",
       "         4.31808497e-12,  -1.47218354e-12,   1.72973634e-13,\n",
       "        -3.69996919e-11,   1.77167001e-11,  -5.35408756e-12,\n",
       "         2.62182719e-12,   9.47881319e-12,   4.28380525e-11,\n",
       "        -3.73536476e-13,   3.14155677e-13,   5.45170366e-13,\n",
       "         3.28412886e-12,   8.29048424e-13,  -3.35975340e-12,\n",
       "        -1.31697468e-12,   5.64458965e-13,   2.31548798e-12,\n",
       "        -6.70634215e-11,  -5.30119703e-11,  -1.21352962e-11,\n",
       "         4.31991932e-12,   1.24565815e-11,   2.81742030e-11,\n",
       "        -3.51371442e-11,  -3.21413447e-11,   1.28758040e-12,\n",
       "         2.99255430e-12,  -1.52947396e-11,   4.57271278e-12,\n",
       "         1.17791210e-11,  -2.20666006e-12,   8.46545056e-16,\n",
       "         6.30100172e-11,   4.69719749e-15,   9.74914593e-16,\n",
       "         1.84574578e-15,  -3.94129174e-15,   2.28289609e-15,\n",
       "         1.20463950e-11,   1.20478437e-11,   1.20455262e-11,\n",
       "         1.20469070e-11,   1.88311918e-11,   1.35112819e-11,\n",
       "         6.42873396e-13,   1.20510375e-12,  -7.35734719e-13,\n",
       "         1.86296358e-12,  -2.70281781e-12,   9.85656422e-13,\n",
       "         5.49523399e-14,   3.85304947e-13,   8.99860698e-15,\n",
       "         2.66613581e-14,   5.34065291e-13,  -4.35477812e-13,\n",
       "         7.35884389e-13,   8.76822478e-14,   1.64341783e-12,\n",
       "         6.47198054e-15,   7.07099520e-12,  -3.63718479e-11,\n",
       "         1.37632300e-11,   7.07004513e-11,   4.05336978e-11,\n",
       "        -2.36915506e-11,   2.35551772e-12,   3.88577190e-13,\n",
       "        -2.16141122e-12,   1.87639048e-13,   1.89336111e-11,\n",
       "        -1.64360819e-12,  -3.37554315e-12,  -6.80432491e-12,\n",
       "        -8.89326835e-12,   3.72445771e-12,   4.67608299e-12,\n",
       "        -3.84438602e-13,  -2.30891620e-12,  -2.37665278e-12,\n",
       "        -1.70425683e-12,  -1.64537711e-12,   1.32325788e-12,\n",
       "         2.99379794e-11,   8.17347159e-12,  -1.84384159e-11,\n",
       "         4.15305777e-12,   1.49114072e-11,  -2.36134668e-13,\n",
       "         7.00598124e-12,  -9.30300822e-12,  -1.26369481e-11,\n",
       "        -2.28167584e-11,   1.29229076e-11,  -1.82739795e-11,\n",
       "         4.40092788e-11,  -7.20769510e-11,  -7.20915826e-11,\n",
       "        -7.20830026e-11,  -1.14071396e-11,  -1.14120581e-11,\n",
       "        -1.14072876e-11,  -1.97123878e-11,  -1.97125439e-11,\n",
       "         4.29482865e-11,  -1.28779110e-11,  -3.46508624e-12,\n",
       "        -2.48988503e-12,   6.44678350e-12,   5.02386440e-12,\n",
       "        -1.45475048e-11,   1.46793504e-11,  -1.76047620e-11,\n",
       "        -6.71683618e-12,   2.11494595e-11,  -5.01444574e-12,\n",
       "        -1.99957460e-11,   5.65566299e-12,   3.87338665e-12,\n",
       "         3.90950987e-12,  -6.47502885e-14,  -8.99278915e-13,\n",
       "        -8.98836561e-13,  -2.94753544e-12,  -2.94298266e-12,\n",
       "        -4.34985542e-13,  -2.84109906e-13,  -2.84109906e-13,\n",
       "        -2.84113375e-13,  -2.84515831e-13,  -2.84109906e-13,\n",
       "         1.06877571e-09,  -8.81426656e-10,  -1.18255195e-09,\n",
       "        -1.21606231e-09,  -1.01765581e-09,  -1.05387066e-09,\n",
       "         1.00000000e+00,  -3.12609244e-11,   5.36757305e-11,\n",
       "         6.72381317e-11,   3.74477532e-12,   1.27236000e-11,\n",
       "        -1.74520513e-10,   1.94199602e-11,   2.02238868e-11,\n",
       "         2.45164108e-11,   2.42951353e-11,   2.92649533e-11,\n",
       "         1.60387124e-09,  -1.09568199e-09,  -1.94446790e-09,\n",
       "        -2.17450732e-09,   1.00000000e+00,   5.03092012e-12,\n",
       "         1.37353739e-11,   8.99828823e-12,  -1.54848315e-10,\n",
       "        -2.76591684e-13,   4.87168379e-12,   9.64206167e-12,\n",
       "         7.50891797e-12,  -2.77670942e-12,  -5.97916459e-12,\n",
       "        -3.88985247e-12,   1.00000000e+00,   1.05590259e-11,\n",
       "         1.10153692e-11,   4.01466360e-12,  -1.70504818e-10,\n",
       "         1.54006417e-11,   2.05236955e-11,   2.52138202e-11,\n",
       "        -5.63279642e-11,   3.73204033e-11,   1.66806468e-11,\n",
       "        -4.03632727e-11,   1.00000000e+00,  -7.81508191e-12,\n",
       "        -7.24054150e-12,  -1.38148555e-11,  -1.64535827e-10,\n",
       "         9.44917452e-12,   1.43512721e-11,   1.93963844e-11,\n",
       "         2.36191539e-11,  -3.04835530e-11,  -2.64844933e-11,\n",
       "         8.59048118e-11,   9.99999997e-01,   2.68759269e-09,\n",
       "         2.68788095e-09,   2.68019830e-09,   7.80559874e-10,\n",
       "        -9.35415480e-10,  -9.24526590e-10,  -9.26875912e-10,\n",
       "        -1.38777878e-17,   3.06266836e-14,  -3.93574062e-12,\n",
       "        -6.14813755e-13,  -4.35718128e-12,   9.82817994e-13,\n",
       "         2.62184718e-12,   1.51404674e-10,   3.69402425e-12,\n",
       "         2.89762745e-12,  -1.40211801e-12,  -1.16782864e-12,\n",
       "        -6.16059287e-12,   1.02450774e-11,  -3.24461507e-12,\n",
       "        -2.29279749e-12,  -3.49250421e-12,   1.32897667e-13,\n",
       "         2.96680768e-12,   2.46021790e-13,   2.23300869e-12,\n",
       "        -1.40120192e-12,   6.35850081e-13,   1.86595068e-13,\n",
       "         7.03642551e-12])"
      ]
     },
     "execution_count": 178,
     "metadata": {},
     "output_type": "execute_result"
    }
   ],
   "source": [
    "regr.coef_"
   ]
  },
  {
   "cell_type": "code",
   "execution_count": 179,
   "metadata": {
    "collapsed": false
   },
   "outputs": [
    {
     "data": {
      "text/plain": [
       "array([ 101795.,  163907.,   61244., ...,  132550.,  200678.,   63319.])"
      ]
     },
     "execution_count": 179,
     "metadata": {},
     "output_type": "execute_result"
    }
   ],
   "source": [
    "regr.predict(df_test)"
   ]
  },
  {
   "cell_type": "code",
   "execution_count": 180,
   "metadata": {
    "collapsed": false
   },
   "outputs": [
    {
     "data": {
      "text/plain": [
       "0         63006\n",
       "1        103460\n",
       "2         58716\n",
       "3         76401\n",
       "4         59809\n",
       "5        114350\n",
       "6        150726\n",
       "7         78230\n",
       "8         52677\n",
       "9         69166\n",
       "10        46796\n",
       "11       142273\n",
       "12        33352\n",
       "13        21615\n",
       "14        53012\n",
       "15       102132\n",
       "16         7094\n",
       "17        80305\n",
       "18        99417\n",
       "19       123923\n",
       "20       123524\n",
       "21       100021\n",
       "22       144796\n",
       "23        39555\n",
       "24       190121\n",
       "25       152933\n",
       "26        39879\n",
       "27        39999\n",
       "28         8349\n",
       "29        44823\n",
       "          ...  \n",
       "12053     32523\n",
       "12054    125562\n",
       "12055     84766\n",
       "12056     85516\n",
       "12057     44899\n",
       "12058     49789\n",
       "12059    279512\n",
       "12060    118213\n",
       "12061    121706\n",
       "12062     97071\n",
       "12063    175190\n",
       "12064     23961\n",
       "12065    129196\n",
       "12066     36834\n",
       "12067     61052\n",
       "12068     95639\n",
       "12069    137773\n",
       "12070     71708\n",
       "12071    245679\n",
       "12072    153193\n",
       "12073    101169\n",
       "12074     77387\n",
       "12075     93912\n",
       "12076     28439\n",
       "12077     73513\n",
       "12078     75702\n",
       "12079     25251\n",
       "12080    148252\n",
       "12081     81978\n",
       "12082     38100\n",
       "Name: TOTALBTU, dtype: int64"
      ]
     },
     "execution_count": 180,
     "metadata": {},
     "output_type": "execute_result"
    }
   ],
   "source": [
    "recs.TOTALBTU"
   ]
  }
 ],
 "metadata": {
  "kernelspec": {
   "display_name": "Python 3",
   "language": "python",
   "name": "python3"
  },
  "language_info": {
   "codemirror_mode": {
    "name": "ipython",
    "version": 3
   },
   "file_extension": ".py",
   "mimetype": "text/x-python",
   "name": "python",
   "nbconvert_exporter": "python",
   "pygments_lexer": "ipython3",
   "version": "3.6.0"
  }
 },
 "nbformat": 4,
 "nbformat_minor": 2
}
