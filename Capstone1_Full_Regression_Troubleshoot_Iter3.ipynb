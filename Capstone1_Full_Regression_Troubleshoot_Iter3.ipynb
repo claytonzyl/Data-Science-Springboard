{
 "cells": [
  {
   "cell_type": "code",
   "execution_count": 1,
   "metadata": {
    "collapsed": true
   },
   "outputs": [],
   "source": [
    "%matplotlib inline\n",
    "import numpy as np\n",
    "import pandas as pd\n",
    "import warnings\n",
    "from sklearn import linear_model\n",
    "from sklearn.model_selection import train_test_split\n",
    "from sklearn.feature_selection import SelectKBest, f_classif"
   ]
  },
  {
   "cell_type": "code",
   "execution_count": 2,
   "metadata": {
    "collapsed": false
   },
   "outputs": [
    {
     "data": {
      "text/html": [
       "<style>body {\n",
       "    margin: 0;\n",
       "    font-family: Helvetica;\n",
       "}\n",
       "table.dataframe {\n",
       "    border-collapse: collapse;\n",
       "    border: none;\n",
       "}\n",
       "table.dataframe tr {\n",
       "    border: none;\n",
       "}\n",
       "table.dataframe td, table.dataframe th {\n",
       "    margin: 0;\n",
       "    border: 1px solid white;\n",
       "    padding-left: 0.25em;\n",
       "    padding-right: 0.25em;\n",
       "}\n",
       "table.dataframe th:not(:empty) {\n",
       "    background-color: #fec;\n",
       "    text-align: left;\n",
       "    font-weight: normal;\n",
       "}\n",
       "table.dataframe tr:nth-child(2) th:empty {\n",
       "    border-left: none;\n",
       "    border-right: 1px dashed #888;\n",
       "}\n",
       "table.dataframe td {\n",
       "    border: 2px solid #ccf;\n",
       "    background-color: #f4f4ff;\n",
       "}\n",
       "h3 {\n",
       "    color: white;\n",
       "    background-color: black;\n",
       "    padding: 0.5em;\n",
       "}\n",
       "</style>"
      ],
      "text/plain": [
       "<IPython.core.display.HTML object>"
      ]
     },
     "execution_count": 2,
     "metadata": {},
     "output_type": "execute_result"
    }
   ],
   "source": [
    "from IPython.core.display import HTML\n",
    "css = open('style-table.css').read() + open('style-notebook.css').read()\n",
    "HTML('<style>{}</style>'.format(css))"
   ]
  },
  {
   "cell_type": "code",
   "execution_count": 3,
   "metadata": {
    "collapsed": false
   },
   "outputs": [
    {
     "data": {
      "text/html": [
       "<div>\n",
       "<table border=\"1\" class=\"dataframe\">\n",
       "  <thead>\n",
       "    <tr style=\"text-align: right;\">\n",
       "      <th></th>\n",
       "      <th>DOEID</th>\n",
       "      <th>REGIONC</th>\n",
       "      <th>DIVISION</th>\n",
       "      <th>REPORTABLE_DOMAIN</th>\n",
       "      <th>TYPEHUQ</th>\n",
       "      <th>NWEIGHT</th>\n",
       "      <th>HDD65</th>\n",
       "      <th>CDD65</th>\n",
       "      <th>HDD30YR</th>\n",
       "      <th>CDD30YR</th>\n",
       "      <th>...</th>\n",
       "      <th>SCALEEL</th>\n",
       "      <th>KAVALNG</th>\n",
       "      <th>PERIODNG</th>\n",
       "      <th>SCALENG</th>\n",
       "      <th>PERIODLP</th>\n",
       "      <th>SCALELP</th>\n",
       "      <th>PERIODFO</th>\n",
       "      <th>SCALEFO</th>\n",
       "      <th>PERIODKR</th>\n",
       "      <th>SCALEKER</th>\n",
       "    </tr>\n",
       "  </thead>\n",
       "  <tbody>\n",
       "    <tr>\n",
       "      <th>0</th>\n",
       "      <td>1</td>\n",
       "      <td>2</td>\n",
       "      <td>4</td>\n",
       "      <td>12</td>\n",
       "      <td>2</td>\n",
       "      <td>2471.679705</td>\n",
       "      <td>4742</td>\n",
       "      <td>1080</td>\n",
       "      <td>4953</td>\n",
       "      <td>1271</td>\n",
       "      <td>...</td>\n",
       "      <td>0</td>\n",
       "      <td>-2</td>\n",
       "      <td>-2</td>\n",
       "      <td>-2</td>\n",
       "      <td>-2</td>\n",
       "      <td>-2</td>\n",
       "      <td>-2</td>\n",
       "      <td>-2</td>\n",
       "      <td>-2</td>\n",
       "      <td>-2</td>\n",
       "    </tr>\n",
       "    <tr>\n",
       "      <th>1</th>\n",
       "      <td>2</td>\n",
       "      <td>4</td>\n",
       "      <td>10</td>\n",
       "      <td>26</td>\n",
       "      <td>2</td>\n",
       "      <td>8599.172010</td>\n",
       "      <td>2662</td>\n",
       "      <td>199</td>\n",
       "      <td>2688</td>\n",
       "      <td>143</td>\n",
       "      <td>...</td>\n",
       "      <td>0</td>\n",
       "      <td>1</td>\n",
       "      <td>1</td>\n",
       "      <td>0</td>\n",
       "      <td>-2</td>\n",
       "      <td>-2</td>\n",
       "      <td>-2</td>\n",
       "      <td>-2</td>\n",
       "      <td>-2</td>\n",
       "      <td>-2</td>\n",
       "    </tr>\n",
       "    <tr>\n",
       "      <th>2</th>\n",
       "      <td>3</td>\n",
       "      <td>1</td>\n",
       "      <td>1</td>\n",
       "      <td>1</td>\n",
       "      <td>5</td>\n",
       "      <td>8969.915921</td>\n",
       "      <td>6233</td>\n",
       "      <td>505</td>\n",
       "      <td>5741</td>\n",
       "      <td>829</td>\n",
       "      <td>...</td>\n",
       "      <td>0</td>\n",
       "      <td>3</td>\n",
       "      <td>5</td>\n",
       "      <td>3</td>\n",
       "      <td>-2</td>\n",
       "      <td>-2</td>\n",
       "      <td>-2</td>\n",
       "      <td>-2</td>\n",
       "      <td>-2</td>\n",
       "      <td>-2</td>\n",
       "    </tr>\n",
       "    <tr>\n",
       "      <th>3</th>\n",
       "      <td>4</td>\n",
       "      <td>2</td>\n",
       "      <td>3</td>\n",
       "      <td>7</td>\n",
       "      <td>2</td>\n",
       "      <td>18003.639600</td>\n",
       "      <td>6034</td>\n",
       "      <td>672</td>\n",
       "      <td>5781</td>\n",
       "      <td>868</td>\n",
       "      <td>...</td>\n",
       "      <td>3</td>\n",
       "      <td>3</td>\n",
       "      <td>5</td>\n",
       "      <td>3</td>\n",
       "      <td>-2</td>\n",
       "      <td>-2</td>\n",
       "      <td>-2</td>\n",
       "      <td>-2</td>\n",
       "      <td>-2</td>\n",
       "      <td>-2</td>\n",
       "    </tr>\n",
       "    <tr>\n",
       "      <th>4</th>\n",
       "      <td>5</td>\n",
       "      <td>1</td>\n",
       "      <td>1</td>\n",
       "      <td>1</td>\n",
       "      <td>3</td>\n",
       "      <td>5999.605242</td>\n",
       "      <td>5388</td>\n",
       "      <td>702</td>\n",
       "      <td>5313</td>\n",
       "      <td>797</td>\n",
       "      <td>...</td>\n",
       "      <td>0</td>\n",
       "      <td>1</td>\n",
       "      <td>1</td>\n",
       "      <td>0</td>\n",
       "      <td>-2</td>\n",
       "      <td>-2</td>\n",
       "      <td>-2</td>\n",
       "      <td>-2</td>\n",
       "      <td>-2</td>\n",
       "      <td>-2</td>\n",
       "    </tr>\n",
       "  </tbody>\n",
       "</table>\n",
       "<p>5 rows × 569 columns</p>\n",
       "</div>"
      ],
      "text/plain": [
       "   DOEID  REGIONC  DIVISION  REPORTABLE_DOMAIN  TYPEHUQ       NWEIGHT  HDD65  \\\n",
       "0      1        2         4                 12        2   2471.679705   4742   \n",
       "1      2        4        10                 26        2   8599.172010   2662   \n",
       "2      3        1         1                  1        5   8969.915921   6233   \n",
       "3      4        2         3                  7        2  18003.639600   6034   \n",
       "4      5        1         1                  1        3   5999.605242   5388   \n",
       "\n",
       "   CDD65  HDD30YR  CDD30YR    ...     SCALEEL  KAVALNG  PERIODNG  SCALENG  \\\n",
       "0   1080     4953     1271    ...           0       -2        -2       -2   \n",
       "1    199     2688      143    ...           0        1         1        0   \n",
       "2    505     5741      829    ...           0        3         5        3   \n",
       "3    672     5781      868    ...           3        3         5        3   \n",
       "4    702     5313      797    ...           0        1         1        0   \n",
       "\n",
       "   PERIODLP  SCALELP  PERIODFO  SCALEFO  PERIODKR  SCALEKER  \n",
       "0        -2       -2        -2       -2        -2        -2  \n",
       "1        -2       -2        -2       -2        -2        -2  \n",
       "2        -2       -2        -2       -2        -2        -2  \n",
       "3        -2       -2        -2       -2        -2        -2  \n",
       "4        -2       -2        -2       -2        -2        -2  \n",
       "\n",
       "[5 rows x 569 columns]"
      ]
     },
     "execution_count": 3,
     "metadata": {},
     "output_type": "execute_result"
    }
   ],
   "source": [
    "recs = pd.DataFrame.from_csv('recs2009_public_clean.csv', index_col=None)\n",
    "recs.head()"
   ]
  },
  {
   "cell_type": "code",
   "execution_count": 4,
   "metadata": {
    "collapsed": true
   },
   "outputs": [],
   "source": [
    "X = recs.drop('TOTALBTU',1)\n",
    "y = recs.TOTALBTU"
   ]
  },
  {
   "cell_type": "code",
   "execution_count": 5,
   "metadata": {
    "collapsed": false
   },
   "outputs": [],
   "source": [
    "cols = list(X)\n",
    "s = SelectKBest(f_classif, k=1)"
   ]
  },
  {
   "cell_type": "code",
   "execution_count": 6,
   "metadata": {
    "collapsed": false,
    "scrolled": true
   },
   "outputs": [],
   "source": [
    "def col_Check(i,c):\n",
    "# i = initialized value for count: what column to start with.\n",
    "# c = number of columns to check.\n",
    "    count = i\n",
    "    d = {}\n",
    "    while count < c:\n",
    "        \n",
    "        with warnings.catch_warnings():\n",
    "            warnings.filterwarnings('error')\n",
    "            \n",
    "            try:\n",
    "                x = pd.DataFrame(X[cols[count]])\n",
    "                score = s.fit(x,y).scores_\n",
    "                #d[cols[count]] = score[0]\n",
    "                count += 1\n",
    "            except:\n",
    "                d[cols[count]] = count\n",
    "                count += 1\n",
    "                #return cols[count]\n",
    "                #break\n",
    "                \n",
    "    return d"
   ]
  },
  {
   "cell_type": "code",
   "execution_count": 7,
   "metadata": {
    "collapsed": false
   },
   "outputs": [],
   "source": [
    "d = col_Check(300,400)"
   ]
  },
  {
   "cell_type": "code",
   "execution_count": 8,
   "metadata": {
    "collapsed": false
   },
   "outputs": [
    {
     "data": {
      "text/plain": [
       "{'ELOTHER': 373, 'FOILAUX': 385, 'KROTHER': 391, 'KRWATER': 390}"
      ]
     },
     "execution_count": 8,
     "metadata": {},
     "output_type": "execute_result"
    }
   ],
   "source": [
    "d"
   ]
  },
  {
   "cell_type": "code",
   "execution_count": 9,
   "metadata": {
    "collapsed": true
   },
   "outputs": [],
   "source": [
    "d = col_Check(0,len(cols))"
   ]
  },
  {
   "cell_type": "code",
   "execution_count": 10,
   "metadata": {
    "collapsed": false,
    "scrolled": true
   },
   "outputs": [
    {
     "data": {
      "text/plain": [
       "{'AGEHHMEMCAT12': 451,\n",
       " 'AGEHHMEMCAT13': 452,\n",
       " 'AGEHHMEMCAT14': 453,\n",
       " 'BTUKEROTH': 538,\n",
       " 'BTUKERWTH': 537,\n",
       " 'DOLKEROTH': 542,\n",
       " 'DOLKERWTH': 541,\n",
       " 'ELOTHER': 373,\n",
       " 'FOILAUX': 385,\n",
       " 'GALLONKEROTH': 534,\n",
       " 'GALLONKERWTH': 533,\n",
       " 'KROTHER': 391,\n",
       " 'KRWATER': 390,\n",
       " 'RADFUEL': 244}"
      ]
     },
     "execution_count": 10,
     "metadata": {},
     "output_type": "execute_result"
    }
   ],
   "source": [
    "d"
   ]
  },
  {
   "cell_type": "code",
   "execution_count": 18,
   "metadata": {
    "collapsed": false
   },
   "outputs": [],
   "source": [
    "l = list(d.keys())"
   ]
  },
  {
   "cell_type": "code",
   "execution_count": 36,
   "metadata": {
    "collapsed": false,
    "scrolled": true
   },
   "outputs": [
    {
     "name": "stdout",
     "output_type": "stream",
     "text": [
      "-2     12024\n",
      " 1        25\n",
      " 3        22\n",
      " 5         5\n",
      " 2         4\n",
      " 21        2\n",
      " 7         1\n",
      "Name: RADFUEL, dtype: int64\n",
      "\n",
      "1    12082\n",
      "0        1\n",
      "Name: ELOTHER, dtype: int64\n",
      "\n",
      "0    12030\n",
      "1       53\n",
      "Name: FOILAUX, dtype: int64\n",
      "\n",
      "0    12080\n",
      "1        3\n",
      "Name: KRWATER, dtype: int64\n",
      "\n",
      "0    12045\n",
      "1       38\n",
      "Name: KROTHER, dtype: int64\n",
      "\n",
      "-2    12077\n",
      " 2        5\n",
      " 1        1\n",
      "Name: AGEHHMEMCAT12, dtype: int64\n",
      "\n",
      "-2    12079\n",
      " 1        3\n",
      " 2        1\n",
      "Name: AGEHHMEMCAT13, dtype: int64\n",
      "\n",
      "-2    12079\n",
      " 1        4\n",
      "Name: AGEHHMEMCAT14, dtype: int64\n",
      "\n",
      "0      12080\n",
      "382        1\n",
      "307        1\n",
      "129        1\n",
      "Name: GALLONKERWTH, dtype: int64\n",
      "\n",
      "0      12045\n",
      "1          6\n",
      "15         5\n",
      "3          3\n",
      "2          2\n",
      "8          2\n",
      "5          2\n",
      "25         2\n",
      "12         2\n",
      "19         2\n",
      "17         1\n",
      "129        1\n",
      "425        1\n",
      "127        1\n",
      "10         1\n",
      "18         1\n",
      "27         1\n",
      "36         1\n",
      "182        1\n",
      "382        1\n",
      "422        1\n",
      "50         1\n",
      "Name: GALLONKEROTH, dtype: int64\n",
      "\n",
      "0        12080\n",
      "41435        1\n",
      "51584        1\n",
      "17336        1\n",
      "Name: BTUKERWTH, dtype: int64\n",
      "\n",
      "0.000        12045\n",
      "135.000          6\n",
      "2025.000         4\n",
      "405.000          3\n",
      "675.000          2\n",
      "270.000          2\n",
      "1080.000         2\n",
      "2283.000         1\n",
      "2515.000         1\n",
      "24624.000        1\n",
      "17469.000        1\n",
      "2507.000         1\n",
      "1350.000         1\n",
      "1620.000         1\n",
      "6750.000         1\n",
      "3375.000         1\n",
      "4908.000         1\n",
      "56984.000        1\n",
      "51584.000        1\n",
      "57308.157        1\n",
      "2015.000         1\n",
      "2374.000         1\n",
      "3360.000         1\n",
      "17199.000        1\n",
      "3629.000         1\n",
      "1592.000         1\n",
      "Name: BTUKEROTH, dtype: int64\n",
      "\n",
      "0      12080\n",
      "317        1\n",
      "763        1\n",
      "944        1\n",
      "Name: DOLKERWTH, dtype: int64\n",
      "\n",
      "0.000       12045\n",
      "15.000          3\n",
      "5.000           2\n",
      "3.000           2\n",
      "26.000          2\n",
      "41.000          1\n",
      "321.000         1\n",
      "12.000          1\n",
      "4.000           1\n",
      "48.000          1\n",
      "6.000           1\n",
      "1.000           1\n",
      "1064.000        1\n",
      "40.000          1\n",
      "7.000           1\n",
      "8.000           1\n",
      "150.000         1\n",
      "91.000          1\n",
      "55.000          1\n",
      "42.000          1\n",
      "457.000         1\n",
      "1117.371        1\n",
      "315.000         1\n",
      "944.000         1\n",
      "89.000          1\n",
      "38.000          1\n",
      "60.000          1\n",
      "88.000          1\n",
      "9.000           1\n",
      "44.000          1\n",
      "23.000          1\n",
      "68.000          1\n",
      "69.000          1\n",
      "25.000          1\n",
      "Name: DOLKEROTH, dtype: int64\n",
      "\n"
     ]
    }
   ],
   "source": [
    "for item in l:\n",
    "    n = l.index(item)\n",
    "    print(X[l[n]].value_counts())\n",
    "    print()"
   ]
  },
  {
   "cell_type": "code",
   "execution_count": 37,
   "metadata": {
    "collapsed": false
   },
   "outputs": [
    {
     "data": {
      "text/plain": [
       "12083"
      ]
     },
     "execution_count": 37,
     "metadata": {},
     "output_type": "execute_result"
    }
   ],
   "source": [
    "len(X)"
   ]
  },
  {
   "cell_type": "code",
   "execution_count": null,
   "metadata": {
    "collapsed": true
   },
   "outputs": [],
   "source": []
  }
 ],
 "metadata": {
  "kernelspec": {
   "display_name": "Python 3",
   "language": "python",
   "name": "python3"
  },
  "language_info": {
   "codemirror_mode": {
    "name": "ipython",
    "version": 3
   },
   "file_extension": ".py",
   "mimetype": "text/x-python",
   "name": "python",
   "nbconvert_exporter": "python",
   "pygments_lexer": "ipython3",
   "version": "3.6.0"
  }
 },
 "nbformat": 4,
 "nbformat_minor": 2
}
