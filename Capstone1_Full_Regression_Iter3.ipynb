{
 "cells": [
  {
   "cell_type": "code",
   "execution_count": 16,
   "metadata": {
    "collapsed": true
   },
   "outputs": [],
   "source": [
    "%matplotlib inline\n",
    "import numpy as np\n",
    "import pandas as pd\n",
    "from sklearn import linear_model\n",
    "from sklearn.model_selection import train_test_split\n",
    "from sklearn.feature_selection import SelectKBest, f_classif\n",
    "from sklearn.metrics import matthews_corrcoef"
   ]
  },
  {
   "cell_type": "code",
   "execution_count": 2,
   "metadata": {
    "collapsed": false
   },
   "outputs": [
    {
     "data": {
      "text/html": [
       "<style>body {\n",
       "    margin: 0;\n",
       "    font-family: Helvetica;\n",
       "}\n",
       "table.dataframe {\n",
       "    border-collapse: collapse;\n",
       "    border: none;\n",
       "}\n",
       "table.dataframe tr {\n",
       "    border: none;\n",
       "}\n",
       "table.dataframe td, table.dataframe th {\n",
       "    margin: 0;\n",
       "    border: 1px solid white;\n",
       "    padding-left: 0.25em;\n",
       "    padding-right: 0.25em;\n",
       "}\n",
       "table.dataframe th:not(:empty) {\n",
       "    background-color: #fec;\n",
       "    text-align: left;\n",
       "    font-weight: normal;\n",
       "}\n",
       "table.dataframe tr:nth-child(2) th:empty {\n",
       "    border-left: none;\n",
       "    border-right: 1px dashed #888;\n",
       "}\n",
       "table.dataframe td {\n",
       "    border: 2px solid #ccf;\n",
       "    background-color: #f4f4ff;\n",
       "}\n",
       "h3 {\n",
       "    color: white;\n",
       "    background-color: black;\n",
       "    padding: 0.5em;\n",
       "}\n",
       "</style>"
      ],
      "text/plain": [
       "<IPython.core.display.HTML object>"
      ]
     },
     "execution_count": 2,
     "metadata": {},
     "output_type": "execute_result"
    }
   ],
   "source": [
    "from IPython.core.display import HTML\n",
    "css = open('style-table.css').read() + open('style-notebook.css').read()\n",
    "HTML('<style>{}</style>'.format(css))"
   ]
  },
  {
   "cell_type": "code",
   "execution_count": 3,
   "metadata": {
    "collapsed": false,
    "scrolled": true
   },
   "outputs": [
    {
     "data": {
      "text/html": [
       "<div>\n",
       "<table border=\"1\" class=\"dataframe\">\n",
       "  <thead>\n",
       "    <tr style=\"text-align: right;\">\n",
       "      <th></th>\n",
       "      <th>DOEID</th>\n",
       "      <th>REGIONC</th>\n",
       "      <th>DIVISION</th>\n",
       "      <th>REPORTABLE_DOMAIN</th>\n",
       "      <th>TYPEHUQ</th>\n",
       "      <th>NWEIGHT</th>\n",
       "      <th>HDD65</th>\n",
       "      <th>CDD65</th>\n",
       "      <th>HDD30YR</th>\n",
       "      <th>CDD30YR</th>\n",
       "      <th>...</th>\n",
       "      <th>SCALEEL</th>\n",
       "      <th>KAVALNG</th>\n",
       "      <th>PERIODNG</th>\n",
       "      <th>SCALENG</th>\n",
       "      <th>PERIODLP</th>\n",
       "      <th>SCALELP</th>\n",
       "      <th>PERIODFO</th>\n",
       "      <th>SCALEFO</th>\n",
       "      <th>PERIODKR</th>\n",
       "      <th>SCALEKER</th>\n",
       "    </tr>\n",
       "  </thead>\n",
       "  <tbody>\n",
       "    <tr>\n",
       "      <th>0</th>\n",
       "      <td>1</td>\n",
       "      <td>2</td>\n",
       "      <td>4</td>\n",
       "      <td>12</td>\n",
       "      <td>2</td>\n",
       "      <td>2471.679705</td>\n",
       "      <td>4742</td>\n",
       "      <td>1080</td>\n",
       "      <td>4953</td>\n",
       "      <td>1271</td>\n",
       "      <td>...</td>\n",
       "      <td>0</td>\n",
       "      <td>-2</td>\n",
       "      <td>-2</td>\n",
       "      <td>-2</td>\n",
       "      <td>-2</td>\n",
       "      <td>-2</td>\n",
       "      <td>-2</td>\n",
       "      <td>-2</td>\n",
       "      <td>-2</td>\n",
       "      <td>-2</td>\n",
       "    </tr>\n",
       "    <tr>\n",
       "      <th>1</th>\n",
       "      <td>2</td>\n",
       "      <td>4</td>\n",
       "      <td>10</td>\n",
       "      <td>26</td>\n",
       "      <td>2</td>\n",
       "      <td>8599.172010</td>\n",
       "      <td>2662</td>\n",
       "      <td>199</td>\n",
       "      <td>2688</td>\n",
       "      <td>143</td>\n",
       "      <td>...</td>\n",
       "      <td>0</td>\n",
       "      <td>1</td>\n",
       "      <td>1</td>\n",
       "      <td>0</td>\n",
       "      <td>-2</td>\n",
       "      <td>-2</td>\n",
       "      <td>-2</td>\n",
       "      <td>-2</td>\n",
       "      <td>-2</td>\n",
       "      <td>-2</td>\n",
       "    </tr>\n",
       "    <tr>\n",
       "      <th>2</th>\n",
       "      <td>3</td>\n",
       "      <td>1</td>\n",
       "      <td>1</td>\n",
       "      <td>1</td>\n",
       "      <td>5</td>\n",
       "      <td>8969.915921</td>\n",
       "      <td>6233</td>\n",
       "      <td>505</td>\n",
       "      <td>5741</td>\n",
       "      <td>829</td>\n",
       "      <td>...</td>\n",
       "      <td>0</td>\n",
       "      <td>3</td>\n",
       "      <td>5</td>\n",
       "      <td>3</td>\n",
       "      <td>-2</td>\n",
       "      <td>-2</td>\n",
       "      <td>-2</td>\n",
       "      <td>-2</td>\n",
       "      <td>-2</td>\n",
       "      <td>-2</td>\n",
       "    </tr>\n",
       "    <tr>\n",
       "      <th>3</th>\n",
       "      <td>4</td>\n",
       "      <td>2</td>\n",
       "      <td>3</td>\n",
       "      <td>7</td>\n",
       "      <td>2</td>\n",
       "      <td>18003.639600</td>\n",
       "      <td>6034</td>\n",
       "      <td>672</td>\n",
       "      <td>5781</td>\n",
       "      <td>868</td>\n",
       "      <td>...</td>\n",
       "      <td>3</td>\n",
       "      <td>3</td>\n",
       "      <td>5</td>\n",
       "      <td>3</td>\n",
       "      <td>-2</td>\n",
       "      <td>-2</td>\n",
       "      <td>-2</td>\n",
       "      <td>-2</td>\n",
       "      <td>-2</td>\n",
       "      <td>-2</td>\n",
       "    </tr>\n",
       "    <tr>\n",
       "      <th>4</th>\n",
       "      <td>5</td>\n",
       "      <td>1</td>\n",
       "      <td>1</td>\n",
       "      <td>1</td>\n",
       "      <td>3</td>\n",
       "      <td>5999.605242</td>\n",
       "      <td>5388</td>\n",
       "      <td>702</td>\n",
       "      <td>5313</td>\n",
       "      <td>797</td>\n",
       "      <td>...</td>\n",
       "      <td>0</td>\n",
       "      <td>1</td>\n",
       "      <td>1</td>\n",
       "      <td>0</td>\n",
       "      <td>-2</td>\n",
       "      <td>-2</td>\n",
       "      <td>-2</td>\n",
       "      <td>-2</td>\n",
       "      <td>-2</td>\n",
       "      <td>-2</td>\n",
       "    </tr>\n",
       "  </tbody>\n",
       "</table>\n",
       "<p>5 rows × 569 columns</p>\n",
       "</div>"
      ],
      "text/plain": [
       "   DOEID  REGIONC  DIVISION  REPORTABLE_DOMAIN  TYPEHUQ       NWEIGHT  HDD65  \\\n",
       "0      1        2         4                 12        2   2471.679705   4742   \n",
       "1      2        4        10                 26        2   8599.172010   2662   \n",
       "2      3        1         1                  1        5   8969.915921   6233   \n",
       "3      4        2         3                  7        2  18003.639600   6034   \n",
       "4      5        1         1                  1        3   5999.605242   5388   \n",
       "\n",
       "   CDD65  HDD30YR  CDD30YR    ...     SCALEEL  KAVALNG  PERIODNG  SCALENG  \\\n",
       "0   1080     4953     1271    ...           0       -2        -2       -2   \n",
       "1    199     2688      143    ...           0        1         1        0   \n",
       "2    505     5741      829    ...           0        3         5        3   \n",
       "3    672     5781      868    ...           3        3         5        3   \n",
       "4    702     5313      797    ...           0        1         1        0   \n",
       "\n",
       "   PERIODLP  SCALELP  PERIODFO  SCALEFO  PERIODKR  SCALEKER  \n",
       "0        -2       -2        -2       -2        -2        -2  \n",
       "1        -2       -2        -2       -2        -2        -2  \n",
       "2        -2       -2        -2       -2        -2        -2  \n",
       "3        -2       -2        -2       -2        -2        -2  \n",
       "4        -2       -2        -2       -2        -2        -2  \n",
       "\n",
       "[5 rows x 569 columns]"
      ]
     },
     "execution_count": 3,
     "metadata": {},
     "output_type": "execute_result"
    }
   ],
   "source": [
    "recs = pd.DataFrame.from_csv('recs2009_public_clean.csv', index_col=None)\n",
    "recs.head()"
   ]
  },
  {
   "cell_type": "code",
   "execution_count": 4,
   "metadata": {
    "collapsed": false
   },
   "outputs": [
    {
     "name": "stdout",
     "output_type": "stream",
     "text": [
      "No NaN in DataFrame\n"
     ]
    }
   ],
   "source": [
    "df = recs\n",
    "cols = list(df)\n",
    "count = 0\n",
    "row_count = len(df)\n",
    "\n",
    "for c in cols:\n",
    "    dfe = df[df[c].isnull()]\n",
    "    null_count = len(dfe)\n",
    "    percent_values = 1 - (null_count / row_count)\n",
    "\n",
    "    if dfe.empty:\n",
    "        count += 1\n",
    "    else:\n",
    "        print('NaN in ' + c)\n",
    "        print('Percent not null: ' + str(round(percent_values * 100,2)) + '%')\n",
    "\n",
    "    if count == len(cols):\n",
    "        print('No NaN in DataFrame')"
   ]
  },
  {
   "cell_type": "code",
   "execution_count": 5,
   "metadata": {
    "collapsed": false
   },
   "outputs": [
    {
     "name": "stdout",
     "output_type": "stream",
     "text": [
      "<class 'pandas.core.frame.DataFrame'>\n",
      "RangeIndex: 12083 entries, 0 to 12082\n",
      "Columns: 569 entries, DOEID to SCALEKER\n",
      "dtypes: float64(51), int64(518)\n",
      "memory usage: 52.5 MB\n"
     ]
    }
   ],
   "source": [
    "recs.info()"
   ]
  },
  {
   "cell_type": "code",
   "execution_count": 6,
   "metadata": {
    "collapsed": true
   },
   "outputs": [],
   "source": [
    "train, test = train_test_split(recs)\n",
    "X_train = train.drop('TOTALBTU',1)\n",
    "X_test = test.drop('TOTALBTU',1)\n",
    "y_train = train.TOTALBTU\n",
    "y_test = test.TOTALBTU\n",
    "regr = linear_model.LinearRegression()"
   ]
  },
  {
   "cell_type": "code",
   "execution_count": 7,
   "metadata": {
    "collapsed": false
   },
   "outputs": [
    {
     "name": "stdout",
     "output_type": "stream",
     "text": [
      "Wall time: 1.58 s\n"
     ]
    },
    {
     "data": {
      "text/plain": [
       "LinearRegression(copy_X=True, fit_intercept=True, n_jobs=1, normalize=False)"
      ]
     },
     "execution_count": 7,
     "metadata": {},
     "output_type": "execute_result"
    }
   ],
   "source": [
    "%%time\n",
    "regr.fit(X_train,y_train)"
   ]
  },
  {
   "cell_type": "code",
   "execution_count": 8,
   "metadata": {
    "collapsed": false
   },
   "outputs": [
    {
     "data": {
      "text/plain": [
       "array([ -2.09307545e-15,   1.92478256e-11,   1.06931686e-11,\n",
       "        -6.48958665e-12,  -9.60531654e-12,   8.32667268e-17,\n",
       "        -4.16333634e-15,   2.44249065e-15,  -7.21644966e-16,\n",
       "        -1.33443603e-14,  -3.79270276e-12,   5.82407260e-12,\n",
       "         3.42551141e-12,  -2.98837094e-13,   1.09622955e-12,\n",
       "        -9.15034117e-12,  -6.22109786e-14,   2.33142228e-11,\n",
       "        -1.28386387e-11,   2.69670424e-12,   1.14044534e-12,\n",
       "         3.97533569e-15,  -1.49564822e-13,   1.86175194e-12,\n",
       "        -1.12295287e-10,   1.35782624e-11,  -1.13995619e-13,\n",
       "         8.91665168e-12,  -6.01794643e-11,  -1.21572333e-12,\n",
       "         3.16462579e-12,  -6.44384063e-11,   6.08719018e-11,\n",
       "        -4.87512269e-11,  -3.51720909e-12,  -2.84922595e-12,\n",
       "        -1.72709039e-11,   3.51486554e-12,  -1.15581557e-11,\n",
       "         3.89990385e-12,   1.54176663e-12,   6.36010834e-11,\n",
       "        -1.88552423e-11,   1.26164621e-12,  -4.52846466e-12,\n",
       "         1.71966135e-11,  -1.03894819e-10,   2.87418883e-11,\n",
       "         3.07422994e-10,  -9.77079987e-11,   1.85755175e-11,\n",
       "        -2.08660796e-10,   7.44916824e-11,  -1.12448877e-11,\n",
       "        -8.10033112e-13,  -7.99791320e-11,  -1.33431092e-11,\n",
       "         1.05328981e-12,   6.99815944e-12,   3.87564654e-11,\n",
       "        -1.32825702e-11,   2.19913428e-12,   9.12670208e-14,\n",
       "         1.46418532e-11,  -1.89524395e-12,   8.42599103e-12,\n",
       "         1.76438092e-12,  -2.29219263e-11,   9.67110723e-13,\n",
       "         1.28689126e-12,   5.21528221e-12,  -1.76474751e-12,\n",
       "         1.10482005e-12,  -9.19099107e-13,   1.49409636e-12,\n",
       "         3.30314510e-11,  -2.16490069e-12,  -1.87737995e-12,\n",
       "        -2.91161403e-12,   2.41728106e-12,  -2.77717302e-14,\n",
       "        -1.57340184e-12,   1.71117952e-12,  -1.33427044e-11,\n",
       "         2.13853403e-13,   2.30273402e-12,  -2.19501098e-12,\n",
       "         1.74222929e-12,   5.43111563e-14,  -2.16766682e-13,\n",
       "         5.93724322e-13,   1.09939569e-12,  -6.60662677e-13,\n",
       "         1.37875388e-13,  -7.19961336e-13,   1.50915061e-12,\n",
       "         3.09195107e-13,   9.78537997e-14,   9.99025732e-13,\n",
       "         5.17229410e-13,  -5.99706958e-12,   7.83282450e-12,\n",
       "         2.24447224e-12,  -3.11240400e-13,  -4.00344840e-12,\n",
       "         7.82060888e-12,  -1.21987703e-11,   1.38139406e-12,\n",
       "         3.75882784e-12,   1.19286164e-12,   1.14239943e-13,\n",
       "        -7.58557477e-13,   5.57994451e-12,  -3.04461973e-12,\n",
       "         2.19067053e-11,  -1.48483857e-12,  -2.21109292e-11,\n",
       "        -4.95812267e-13,  -3.38110021e-12,   9.04714129e-14,\n",
       "         8.18272316e-14,  -8.43861588e-14,   8.25388168e-13,\n",
       "        -1.82105059e-12,   1.68034684e-12,   2.02415288e-11,\n",
       "        -2.70761877e-12,  -5.34655545e-12,  -1.52550441e-12,\n",
       "         3.47180559e-12,  -3.04679242e-14,   3.75431857e-13,\n",
       "         6.40401691e-13,  -3.08209050e-13,  -2.56479333e-13,\n",
       "        -4.43877447e-11,   1.84579953e-12,   8.80180069e-12,\n",
       "         9.70837451e-14,  -5.40432174e-13,   1.15281541e-12,\n",
       "        -7.04422021e-13,  -4.92328744e-12,   5.38700164e-12,\n",
       "         2.35006779e-12,   3.95893567e-12,  -6.73336404e-12,\n",
       "         3.04493996e-12,   8.38398368e-13,  -3.30930950e-13,\n",
       "        -1.91911185e-12,   4.03205990e-12,   2.91268398e-12,\n",
       "        -3.41255930e-12,  -3.83666112e-12,   4.13839995e-12,\n",
       "         3.54897160e-12,  -1.48776324e-12,  -4.73862825e-12,\n",
       "         4.90625658e-12,   1.52732406e-12,  -6.89253970e-12,\n",
       "         1.03189897e-12,   2.97028885e-12,   3.74179149e-12,\n",
       "        -5.65845775e-12,   1.86312620e-12,  -1.71699061e-12,\n",
       "        -2.23182924e-12,   3.27161068e-12,   2.60205358e-12,\n",
       "        -3.69382705e-12,   2.83154359e-12,   1.49529499e-12,\n",
       "         5.78233644e-12,  -4.16392248e-12,  -1.92211762e-12,\n",
       "        -4.31185099e-12,  -6.41738497e-12,  -1.98806930e-12,\n",
       "         1.95675409e-12,   1.94302289e-12,  -1.29188672e-11,\n",
       "         5.59176834e-12,  -6.73675959e-13,  -6.33475355e-13,\n",
       "         1.95432854e-12,   2.38412500e-12,   2.14144245e-11,\n",
       "         3.74298454e-12,  -1.97705814e-12,  -8.58078284e-13,\n",
       "         1.03627466e-12,  -1.18165275e-11,  -4.24591635e-12,\n",
       "        -4.59894161e-12,  -5.88597405e-13,  -4.10621041e-14,\n",
       "         4.94401189e-12,   2.58276985e-13,   4.92440862e-12,\n",
       "         5.20136899e-13,  -1.74975365e-12,  -6.30996180e-12,\n",
       "        -9.04109852e-13,   2.41105512e-12,   2.38755832e-12,\n",
       "         4.31915480e-12,   3.71127994e-14,  -5.24616417e-12,\n",
       "        -1.87363470e-12,   1.19537912e-12,  -2.89832967e-12,\n",
       "         1.35991857e-12,  -3.79450679e-13,  -2.37359864e-12,\n",
       "        -1.87721125e-12,   9.20903799e-13,   4.37226604e-12,\n",
       "         3.05133645e-12,  -1.68991448e-12,   2.30274008e-13,\n",
       "        -1.01542128e-12,   2.58852450e-12,   7.41936423e-13,\n",
       "         5.27100277e-14,  -3.89743122e-13,  -4.14029161e-10,\n",
       "        -1.63363013e-11,   8.64684182e-15,  -4.41575850e-12,\n",
       "         2.21241641e-13,  -3.92286135e-12,   2.80846458e-12,\n",
       "        -9.17344542e-14,  -7.00476505e-13,  -1.61232579e-12,\n",
       "         2.33811717e-12,   1.16603767e-12,   6.81907676e-13,\n",
       "        -1.90257951e-11,   5.30284422e-11,  -7.63188753e-12,\n",
       "         2.45547829e-11,  -1.18785263e-12,  -1.46656630e-12,\n",
       "         1.80846375e-10,  -3.31039882e-11,  -3.70916437e-11,\n",
       "         1.61322792e-11,   4.50588286e-11,  -3.07149400e-12,\n",
       "        -1.98859342e-12,  -1.09194785e-10,   2.76128969e-11,\n",
       "        -1.43920857e-12,  -2.09247680e-13,  -1.75463945e-12,\n",
       "         1.30116801e-11,  -2.36729088e-12,   2.33350178e-11,\n",
       "        -1.70981106e-12,  -1.85222982e-12,   3.53742101e-12,\n",
       "        -1.57751515e-12,  -3.29761549e-12,   8.58014973e-13,\n",
       "        -4.67361987e-12,   5.75090234e-12,  -7.82225196e-13,\n",
       "         2.63697538e-13,  -8.96721933e-14,  -1.16781988e-11,\n",
       "         3.73576159e-12,  -3.24380433e-12,  -4.51004211e-12,\n",
       "        -2.08679118e-11,   6.85268330e-12,   1.10287620e-11,\n",
       "        -4.17377421e-12,  -3.14017475e-14,   1.63507187e-12,\n",
       "        -8.63257754e-13,   4.23757553e-13,  -5.10705750e-12,\n",
       "         5.17890507e-12,  -7.13419754e-13,  -5.69471296e-13,\n",
       "        -1.80473844e-11,   6.72825520e-12,   2.97899339e-12,\n",
       "         2.27926554e-11,   1.33345095e-12,   1.44795193e-12,\n",
       "         4.64203190e-12,  -5.09151753e-12,   5.19307904e-14,\n",
       "         6.22575403e-13,   1.68644014e-12,  -1.64073123e-12,\n",
       "        -3.47369675e-12,  -4.42296925e-12,   1.90678145e-11,\n",
       "        -1.00738205e-11,   4.34004547e-12,  -1.64524167e-12,\n",
       "        -5.94915393e-13,   4.21678426e-13,   1.78555413e-13,\n",
       "        -3.01927274e-12,  -8.08240194e-14,  -2.01111954e-13,\n",
       "        -3.91222428e-14,   2.23484764e-14,   2.80822801e-13,\n",
       "        -5.10965903e-12,  -1.25973911e-13,  -1.21815562e-13,\n",
       "         2.72331598e-12,  -1.10935382e-12,   6.94511085e-13,\n",
       "         1.13518600e-11,  -3.80898358e-12,   3.76942260e-11,\n",
       "        -9.26375376e-12,  -1.18409515e-12,  -2.32887547e-11,\n",
       "         4.31424835e-12,  -1.67122080e-12,   7.57912100e-13,\n",
       "        -4.43560282e-13,   6.52782959e-13,   2.74225406e-13,\n",
       "        -1.73785750e-15,  -4.23111199e-13,   1.16776697e-12,\n",
       "        -5.04527941e-13,   7.26104073e-13,  -1.53891290e-12,\n",
       "        -8.69674545e-14,   7.26153916e-12,  -3.26120038e-12,\n",
       "        -1.27470842e-13,  -1.72556612e-13,   2.54354914e-14,\n",
       "        -5.19785539e-13,  -2.78385181e-13,  -1.53293525e-12,\n",
       "        -2.24166868e-12,   1.24286269e-13,   4.07711981e-13,\n",
       "         1.34541782e-12,   1.86786724e-12,  -8.74660889e-13,\n",
       "         1.53264716e-13,  -5.50886973e-13,  -1.72131860e-12,\n",
       "        -1.40835223e-12,  -7.34923292e-14,  -2.09217059e-12,\n",
       "         4.02794130e-12,  -5.21454405e-11,   4.37010482e-12,\n",
       "         9.88794318e-11,  -8.00967359e-11,   8.43860795e-11,\n",
       "         1.33319379e-11,   1.94957127e-11,  -7.48729668e-12,\n",
       "         8.93798743e-12,  -1.80879885e-11,  -2.03855032e-11,\n",
       "         4.78492388e-11,  -7.07116147e-12,  -5.47748440e-13,\n",
       "        -9.20394121e-12,   6.08706490e-11,  -2.34575753e-12,\n",
       "         1.87799615e-12,  -6.83072026e-11,   2.24967911e-11,\n",
       "         2.33053027e-11,  -1.52291889e-11,  -2.21220377e-11,\n",
       "         5.74117954e-11,  -4.88223488e-11,   2.11884877e-11,\n",
       "         2.55820039e-11,  -3.18190447e-11,   9.52817801e-11,\n",
       "        -8.47509880e-12,  -5.26197158e-11,  -1.31848169e-11,\n",
       "        -2.47095350e-11,  -1.06418764e-10,  -2.39698329e-11,\n",
       "        -2.93266915e-11,   6.02532706e-11,  -6.62816978e-11,\n",
       "        -2.95596768e-11,   5.40586330e-12,   8.69723526e-12,\n",
       "        -6.99853723e-11,   5.56568804e-11,  -1.60837910e-10,\n",
       "         7.19958681e-11,   1.97193828e-12,   1.08123224e-11,\n",
       "        -1.31203384e-11,  -2.98248384e-12,   1.46882791e-12,\n",
       "        -1.89451224e-12,   1.20214189e-12,  -8.56267236e-12,\n",
       "        -1.38213314e-13,   2.34562122e-12,   8.57041184e-14,\n",
       "        -4.52805232e-11,   9.34069818e-12,   6.30738951e-13,\n",
       "        -2.16440121e-12,  -1.43168465e-12,   6.67814899e-11,\n",
       "        -5.19680012e-13,   5.79249812e-13,   1.16089961e-12,\n",
       "        -1.06037086e-11,   1.24718059e-12,  -1.58608820e-11,\n",
       "        -1.32869373e-11,   9.80705543e-12,   4.92104998e-12,\n",
       "        -1.46048142e-12,   1.99365220e-12,   1.23606057e-12,\n",
       "         1.09209200e-12,   6.64178558e-14,   1.89270317e-13,\n",
       "        -2.63880477e-13,   2.23606510e-12,  -4.06846865e-14,\n",
       "        -3.98019562e-14,  -2.99111205e-13,  -1.43288281e-13,\n",
       "         2.20776122e-13,  -1.04387243e-12,  -1.96477567e-13,\n",
       "        -1.92023001e-12,   4.35492758e-12,  -8.06125440e-14,\n",
       "         1.25378714e-11,  -1.97028169e-11,  -5.83914355e-12,\n",
       "        -5.83769021e-12,  -1.99496115e-12,  -2.01612640e-12,\n",
       "         5.24568675e-12,  -2.36775958e-13,  -1.02688383e-11,\n",
       "        -4.91419880e-12,  -2.91066689e-12,  -4.64429780e-12,\n",
       "        -2.86089675e-12,   4.52687567e-12,  -1.70897818e-12,\n",
       "        -6.55773992e-14,   4.69208511e-13,  -1.81710800e-12,\n",
       "         4.17747273e-12,   4.67933614e-13,   4.66362063e-12,\n",
       "         1.61135688e-12,  -2.74606726e-14,  -1.72013445e-12,\n",
       "        -1.70753689e-12,   1.23035263e-13,   1.25469080e-13,\n",
       "        -7.72717376e-10,   8.30151389e-10,   7.30996159e-10,\n",
       "         7.55247333e-10,   7.54937101e-10,   7.74054931e-10,\n",
       "         1.00000000e+00,  -2.62273189e-11,   2.34123831e-12,\n",
       "        -2.47672716e-12,  -2.35653858e-12,  -9.96752680e-12,\n",
       "         5.57214691e-12,  -6.34452733e-12,  -8.48546233e-12,\n",
       "        -1.02994796e-11,  -1.03134762e-11,  -6.91642750e-12,\n",
       "        -3.42336354e-09,   2.81449878e-09,   3.72594641e-09,\n",
       "         1.59371284e-09,   1.00000000e+00,   6.39840958e-12,\n",
       "        -6.93139990e-13,   1.81298310e-11,  -1.46983120e-14,\n",
       "        -7.28502545e-13,  -4.73747062e-12,  -1.38556397e-12,\n",
       "        -3.22322637e-12,  -1.51587970e-11,   3.05478442e-11,\n",
       "        -1.26718945e-11,   1.00000000e+00,  -1.48937251e-11,\n",
       "        -1.35923078e-11,  -1.50969792e-11,  -9.78347611e-13,\n",
       "         2.98477822e-13,  -3.77887782e-12,  -3.84793976e-13,\n",
       "         8.57637876e-12,  -2.59673966e-12,  -1.97014375e-11,\n",
       "        -3.07408548e-11,   1.00000000e+00,  -8.84348150e-12,\n",
       "        -6.91961766e-12,  -8.81493489e-12,   3.76402555e-12,\n",
       "        -4.47582509e-12,  -8.45003017e-12,  -5.34149092e-12,\n",
       "         3.55186149e-11,   1.14762499e-11,  -9.35431290e-12,\n",
       "         2.63217243e-11,   1.00000000e+00,  -1.61873903e-10,\n",
       "        -1.59243457e-10,  -1.62169327e-10,  -4.48714384e-11,\n",
       "         4.42015957e-11,   3.31549626e-12,   4.38476521e-11,\n",
       "        -1.97758476e-16,   4.15916532e-14,   1.76070269e-12,\n",
       "         2.25078289e-12,  -3.98014954e-14,  -6.99544589e-14,\n",
       "         1.94033678e-12,   1.66550107e-12,  -9.29350347e-13,\n",
       "         1.28142939e-12,   3.05877025e-12,   3.10961543e-12,\n",
       "        -3.34954287e-13,  -5.10522795e-12,  -3.80245101e-13,\n",
       "         4.10188281e-12,   1.24527175e-11,   3.85928354e-12,\n",
       "        -1.42900040e-11,  -1.10735144e-11,   1.44777206e-11,\n",
       "         2.00091191e-11,  -2.48880425e-11,  -8.49288243e-12,\n",
       "         1.36147276e-11])"
      ]
     },
     "execution_count": 8,
     "metadata": {},
     "output_type": "execute_result"
    }
   ],
   "source": [
    "regr.coef_"
   ]
  },
  {
   "cell_type": "code",
   "execution_count": 9,
   "metadata": {
    "collapsed": false
   },
   "outputs": [
    {
     "data": {
      "text/plain": [
       "1.0"
      ]
     },
     "execution_count": 9,
     "metadata": {},
     "output_type": "execute_result"
    }
   ],
   "source": [
    "regr.score(X_train,y_train)"
   ]
  },
  {
   "cell_type": "code",
   "execution_count": 10,
   "metadata": {
    "collapsed": false
   },
   "outputs": [
    {
     "data": {
      "text/plain": [
       "1.0"
      ]
     },
     "execution_count": 10,
     "metadata": {},
     "output_type": "execute_result"
    }
   ],
   "source": [
    "regr.score(X_test,y_test)"
   ]
  },
  {
   "cell_type": "code",
   "execution_count": 11,
   "metadata": {
    "collapsed": false
   },
   "outputs": [
    {
     "data": {
      "text/plain": [
       "array([  28771.,   69741.,  138803., ...,   71051.,   58304.,   65555.])"
      ]
     },
     "execution_count": 11,
     "metadata": {},
     "output_type": "execute_result"
    }
   ],
   "source": [
    "regr.predict(X_test)"
   ]
  },
  {
   "cell_type": "code",
   "execution_count": 20,
   "metadata": {
    "collapsed": false
   },
   "outputs": [
    {
     "ename": "ValueError",
     "evalue": "Can't handle mix of continuous and multiclass",
     "output_type": "error",
     "traceback": [
      "\u001b[0;31m---------------------------------------------------------------------------\u001b[0m",
      "\u001b[0;31mValueError\u001b[0m                                Traceback (most recent call last)",
      "\u001b[0;32m<ipython-input-20-d9fa1df48058>\u001b[0m in \u001b[0;36m<module>\u001b[0;34m()\u001b[0m\n\u001b[0;32m----> 1\u001b[0;31m \u001b[0mmatthews_corrcoef\u001b[0m\u001b[1;33m(\u001b[0m\u001b[0mX_train\u001b[0m\u001b[1;33m.\u001b[0m\u001b[0mNWEIGHT\u001b[0m\u001b[1;33m,\u001b[0m\u001b[0my_train\u001b[0m\u001b[1;33m)\u001b[0m\u001b[1;33m\u001b[0m\u001b[0m\n\u001b[0m",
      "\u001b[0;32mC:\\Users\\clayt\\Anaconda3\\lib\\site-packages\\sklearn\\metrics\\classification.py\u001b[0m in \u001b[0;36mmatthews_corrcoef\u001b[0;34m(y_true, y_pred, sample_weight)\u001b[0m\n\u001b[1;32m    495\u001b[0m \u001b[1;33m\u001b[0m\u001b[0m\n\u001b[1;32m    496\u001b[0m     \"\"\"\n\u001b[0;32m--> 497\u001b[0;31m     \u001b[0my_type\u001b[0m\u001b[1;33m,\u001b[0m \u001b[0my_true\u001b[0m\u001b[1;33m,\u001b[0m \u001b[0my_pred\u001b[0m \u001b[1;33m=\u001b[0m \u001b[0m_check_targets\u001b[0m\u001b[1;33m(\u001b[0m\u001b[0my_true\u001b[0m\u001b[1;33m,\u001b[0m \u001b[0my_pred\u001b[0m\u001b[1;33m)\u001b[0m\u001b[1;33m\u001b[0m\u001b[0m\n\u001b[0m\u001b[1;32m    498\u001b[0m \u001b[1;33m\u001b[0m\u001b[0m\n\u001b[1;32m    499\u001b[0m     \u001b[1;32mif\u001b[0m \u001b[0my_type\u001b[0m \u001b[1;33m!=\u001b[0m \u001b[1;34m\"binary\"\u001b[0m\u001b[1;33m:\u001b[0m\u001b[1;33m\u001b[0m\u001b[0m\n",
      "\u001b[0;32mC:\\Users\\clayt\\Anaconda3\\lib\\site-packages\\sklearn\\metrics\\classification.py\u001b[0m in \u001b[0;36m_check_targets\u001b[0;34m(y_true, y_pred)\u001b[0m\n\u001b[1;32m     80\u001b[0m     \u001b[1;32mif\u001b[0m \u001b[0mlen\u001b[0m\u001b[1;33m(\u001b[0m\u001b[0my_type\u001b[0m\u001b[1;33m)\u001b[0m \u001b[1;33m>\u001b[0m \u001b[1;36m1\u001b[0m\u001b[1;33m:\u001b[0m\u001b[1;33m\u001b[0m\u001b[0m\n\u001b[1;32m     81\u001b[0m         raise ValueError(\"Can't handle mix of {0} and {1}\"\n\u001b[0;32m---> 82\u001b[0;31m                          \"\".format(type_true, type_pred))\n\u001b[0m\u001b[1;32m     83\u001b[0m \u001b[1;33m\u001b[0m\u001b[0m\n\u001b[1;32m     84\u001b[0m     \u001b[1;31m# We can't have more than one value on y_type => The set is no more needed\u001b[0m\u001b[1;33m\u001b[0m\u001b[1;33m\u001b[0m\u001b[0m\n",
      "\u001b[0;31mValueError\u001b[0m: Can't handle mix of continuous and multiclass"
     ]
    }
   ],
   "source": [
    "matthews_corrcoef(X_train.NWEIGHT,y_train)"
   ]
  },
  {
   "cell_type": "code",
   "execution_count": 24,
   "metadata": {
    "collapsed": false,
    "scrolled": true
   },
   "outputs": [
    {
     "data": {
      "text/plain": [
       "4915      5267.128260\n",
       "2549      6982.410850\n",
       "1808      8458.372587\n",
       "10828     4697.214464\n",
       "10837     7571.024994\n",
       "5171     13645.375650\n",
       "2766      7718.015831\n",
       "11743     5831.514154\n",
       "5673      7093.982667\n",
       "7657      9713.215022\n",
       "3127      4559.170439\n",
       "8602     10651.141250\n",
       "6081      5878.402812\n",
       "9201     17398.368910\n",
       "4448     12265.390090\n",
       "10298    18580.032610\n",
       "9156      7503.023736\n",
       "5591      5600.989625\n",
       "1514     12679.941540\n",
       "11908    14918.453650\n",
       "5893      2855.873269\n",
       "3188     10651.141150\n",
       "6806      3716.161560\n",
       "1008     13960.197910\n",
       "9640      6535.042321\n",
       "632       5191.677930\n",
       "3114      5311.620810\n",
       "7946      7169.306281\n",
       "562      39377.612340\n",
       "2588      4232.486884\n",
       "             ...     \n",
       "945       6590.834129\n",
       "3765      6356.482316\n",
       "10863    11477.735600\n",
       "5873     13232.055270\n",
       "8801     11853.281600\n",
       "11962     6987.263075\n",
       "3525      8997.111193\n",
       "8434      7064.634802\n",
       "3220      6454.553461\n",
       "9416      7727.971742\n",
       "811       5325.570923\n",
       "1183     10007.989420\n",
       "7786      6792.478897\n",
       "1474      4020.187635\n",
       "5443     15506.097710\n",
       "4982     10227.702030\n",
       "4         5999.605242\n",
       "11066     7140.036591\n",
       "5944      7757.697801\n",
       "7397      3286.373976\n",
       "10554     7718.018873\n",
       "9759     13737.505990\n",
       "10611     3314.053919\n",
       "8800     12280.586550\n",
       "570       7327.227257\n",
       "5337      8781.075566\n",
       "7713      7341.316370\n",
       "10189    17543.667400\n",
       "4974      9062.257114\n",
       "10581     7537.760795\n",
       "Name: NWEIGHT, dtype: float64"
      ]
     },
     "execution_count": 24,
     "metadata": {},
     "output_type": "execute_result"
    }
   ],
   "source": [
    "X_train.NWEIGHT"
   ]
  },
  {
   "cell_type": "code",
   "execution_count": 25,
   "metadata": {
    "collapsed": false,
    "scrolled": true
   },
   "outputs": [
    {
     "data": {
      "text/plain": [
       "4915      36744\n",
       "2549     151841\n",
       "1808     155432\n",
       "10828    131632\n",
       "10837     53047\n",
       "5171      46870\n",
       "2766     164116\n",
       "11743     77990\n",
       "5673      78070\n",
       "7657      56421\n",
       "3127     117594\n",
       "8602      46079\n",
       "6081      76204\n",
       "9201     104410\n",
       "4448      86531\n",
       "10298     72393\n",
       "9156      72019\n",
       "5591     138910\n",
       "1514     209563\n",
       "11908     90357\n",
       "5893     115841\n",
       "3188      21881\n",
       "6806      27224\n",
       "1008      37320\n",
       "9640      48452\n",
       "632       57932\n",
       "3114      52756\n",
       "7946      75252\n",
       "562       99555\n",
       "2588     284067\n",
       "          ...  \n",
       "945       62951\n",
       "3765     156409\n",
       "10863    155611\n",
       "5873      54878\n",
       "8801      51001\n",
       "11962     45577\n",
       "3525      41712\n",
       "8434     107056\n",
       "3220      89498\n",
       "9416      45648\n",
       "811       32568\n",
       "1183      66458\n",
       "7786      61686\n",
       "1474      71094\n",
       "5443     170267\n",
       "4982      72343\n",
       "4         59809\n",
       "11066     20434\n",
       "5944      51119\n",
       "7397      50704\n",
       "10554     49496\n",
       "9759      90165\n",
       "10611     60921\n",
       "8800      39972\n",
       "570      191305\n",
       "5337      96394\n",
       "7713     190279\n",
       "10189     60369\n",
       "4974      14959\n",
       "10581     89094\n",
       "Name: TOTALBTU, dtype: int64"
      ]
     },
     "execution_count": 25,
     "metadata": {},
     "output_type": "execute_result"
    }
   ],
   "source": [
    "y_train"
   ]
  },
  {
   "cell_type": "code",
   "execution_count": 26,
   "metadata": {
    "collapsed": false
   },
   "outputs": [
    {
     "name": "stdout",
     "output_type": "stream",
     "text": [
      "Help on function matthews_corrcoef in module sklearn.metrics.classification:\n",
      "\n",
      "matthews_corrcoef(y_true, y_pred, sample_weight=None)\n",
      "    Compute the Matthews correlation coefficient (MCC) for binary classes\n",
      "    \n",
      "    The Matthews correlation coefficient is used in machine learning as a\n",
      "    measure of the quality of binary (two-class) classifications. It takes into\n",
      "    account true and false positives and negatives and is generally regarded as\n",
      "    a balanced measure which can be used even if the classes are of very\n",
      "    different sizes. The MCC is in essence a correlation coefficient value\n",
      "    between -1 and +1. A coefficient of +1 represents a perfect prediction, 0\n",
      "    an average random prediction and -1 an inverse prediction.  The statistic\n",
      "    is also known as the phi coefficient. [source: Wikipedia]\n",
      "    \n",
      "    Only in the binary case does this relate to information about true and\n",
      "    false positives and negatives. See references below.\n",
      "    \n",
      "    Read more in the :ref:`User Guide <matthews_corrcoef>`.\n",
      "    \n",
      "    Parameters\n",
      "    ----------\n",
      "    y_true : array, shape = [n_samples]\n",
      "        Ground truth (correct) target values.\n",
      "    \n",
      "    y_pred : array, shape = [n_samples]\n",
      "        Estimated targets as returned by a classifier.\n",
      "    \n",
      "    sample_weight : array-like of shape = [n_samples], default None\n",
      "        Sample weights.\n",
      "    \n",
      "    Returns\n",
      "    -------\n",
      "    mcc : float\n",
      "        The Matthews correlation coefficient (+1 represents a perfect\n",
      "        prediction, 0 an average random prediction and -1 and inverse\n",
      "        prediction).\n",
      "    \n",
      "    References\n",
      "    ----------\n",
      "    .. [1] `Baldi, Brunak, Chauvin, Andersen and Nielsen, (2000). Assessing the\n",
      "       accuracy of prediction algorithms for classification: an overview\n",
      "       <http://dx.doi.org/10.1093/bioinformatics/16.5.412>`_\n",
      "    \n",
      "    .. [2] `Wikipedia entry for the Matthews Correlation Coefficient\n",
      "       <https://en.wikipedia.org/wiki/Matthews_correlation_coefficient>`_\n",
      "    \n",
      "    Examples\n",
      "    --------\n",
      "    >>> from sklearn.metrics import matthews_corrcoef\n",
      "    >>> y_true = [+1, +1, +1, -1]\n",
      "    >>> y_pred = [+1, -1, +1, +1]\n",
      "    >>> matthews_corrcoef(y_true, y_pred)  # doctest: +ELLIPSIS\n",
      "    -0.33...\n",
      "\n"
     ]
    }
   ],
   "source": [
    "help(matthews_corrcoef)"
   ]
  },
  {
   "cell_type": "code",
   "execution_count": null,
   "metadata": {
    "collapsed": true
   },
   "outputs": [],
   "source": []
  }
 ],
 "metadata": {
  "kernelspec": {
   "display_name": "Python 3",
   "language": "python",
   "name": "python3"
  },
  "language_info": {
   "codemirror_mode": {
    "name": "ipython",
    "version": 3
   },
   "file_extension": ".py",
   "mimetype": "text/x-python",
   "name": "python",
   "nbconvert_exporter": "python",
   "pygments_lexer": "ipython3",
   "version": "3.6.0"
  }
 },
 "nbformat": 4,
 "nbformat_minor": 2
}
