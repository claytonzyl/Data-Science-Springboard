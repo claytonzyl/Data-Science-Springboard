{
 "cells": [
  {
   "cell_type": "code",
   "execution_count": 38,
   "metadata": {
    "collapsed": true
   },
   "outputs": [],
   "source": [
    "%matplotlib inline\n",
    "import numpy as np\n",
    "import pandas as pd\n",
    "import matplotlib.pyplot as plt\n",
    "from sklearn import linear_model\n",
    "from sklearn.model_selection import train_test_split\n",
    "from sklearn.feature_selection import SelectKBest, f_classif\n",
    "from sklearn.metrics import matthews_corrcoef"
   ]
  },
  {
   "cell_type": "code",
   "execution_count": 2,
   "metadata": {
    "collapsed": false
   },
   "outputs": [
    {
     "data": {
      "text/html": [
       "<style>body {\n",
       "    margin: 0;\n",
       "    font-family: Helvetica;\n",
       "}\n",
       "table.dataframe {\n",
       "    border-collapse: collapse;\n",
       "    border: none;\n",
       "}\n",
       "table.dataframe tr {\n",
       "    border: none;\n",
       "}\n",
       "table.dataframe td, table.dataframe th {\n",
       "    margin: 0;\n",
       "    border: 1px solid white;\n",
       "    padding-left: 0.25em;\n",
       "    padding-right: 0.25em;\n",
       "}\n",
       "table.dataframe th:not(:empty) {\n",
       "    background-color: #fec;\n",
       "    text-align: left;\n",
       "    font-weight: normal;\n",
       "}\n",
       "table.dataframe tr:nth-child(2) th:empty {\n",
       "    border-left: none;\n",
       "    border-right: 1px dashed #888;\n",
       "}\n",
       "table.dataframe td {\n",
       "    border: 2px solid #ccf;\n",
       "    background-color: #f4f4ff;\n",
       "}\n",
       "h3 {\n",
       "    color: white;\n",
       "    background-color: black;\n",
       "    padding: 0.5em;\n",
       "}\n",
       "</style>"
      ],
      "text/plain": [
       "<IPython.core.display.HTML object>"
      ]
     },
     "execution_count": 2,
     "metadata": {},
     "output_type": "execute_result"
    }
   ],
   "source": [
    "from IPython.core.display import HTML\n",
    "css = open('style-table.css').read() + open('style-notebook.css').read()\n",
    "HTML('<style>{}</style>'.format(css))"
   ]
  },
  {
   "cell_type": "code",
   "execution_count": 3,
   "metadata": {
    "collapsed": false,
    "scrolled": true
   },
   "outputs": [
    {
     "data": {
      "text/html": [
       "<div>\n",
       "<table border=\"1\" class=\"dataframe\">\n",
       "  <thead>\n",
       "    <tr style=\"text-align: right;\">\n",
       "      <th></th>\n",
       "      <th>DOEID</th>\n",
       "      <th>REGIONC</th>\n",
       "      <th>DIVISION</th>\n",
       "      <th>REPORTABLE_DOMAIN</th>\n",
       "      <th>TYPEHUQ</th>\n",
       "      <th>NWEIGHT</th>\n",
       "      <th>HDD65</th>\n",
       "      <th>CDD65</th>\n",
       "      <th>HDD30YR</th>\n",
       "      <th>CDD30YR</th>\n",
       "      <th>...</th>\n",
       "      <th>SCALEEL</th>\n",
       "      <th>KAVALNG</th>\n",
       "      <th>PERIODNG</th>\n",
       "      <th>SCALENG</th>\n",
       "      <th>PERIODLP</th>\n",
       "      <th>SCALELP</th>\n",
       "      <th>PERIODFO</th>\n",
       "      <th>SCALEFO</th>\n",
       "      <th>PERIODKR</th>\n",
       "      <th>SCALEKER</th>\n",
       "    </tr>\n",
       "  </thead>\n",
       "  <tbody>\n",
       "    <tr>\n",
       "      <th>0</th>\n",
       "      <td>1</td>\n",
       "      <td>2</td>\n",
       "      <td>4</td>\n",
       "      <td>12</td>\n",
       "      <td>2</td>\n",
       "      <td>2471.679705</td>\n",
       "      <td>4742</td>\n",
       "      <td>1080</td>\n",
       "      <td>4953</td>\n",
       "      <td>1271</td>\n",
       "      <td>...</td>\n",
       "      <td>0</td>\n",
       "      <td>-2</td>\n",
       "      <td>-2</td>\n",
       "      <td>-2</td>\n",
       "      <td>-2</td>\n",
       "      <td>-2</td>\n",
       "      <td>-2</td>\n",
       "      <td>-2</td>\n",
       "      <td>-2</td>\n",
       "      <td>-2</td>\n",
       "    </tr>\n",
       "    <tr>\n",
       "      <th>1</th>\n",
       "      <td>2</td>\n",
       "      <td>4</td>\n",
       "      <td>10</td>\n",
       "      <td>26</td>\n",
       "      <td>2</td>\n",
       "      <td>8599.172010</td>\n",
       "      <td>2662</td>\n",
       "      <td>199</td>\n",
       "      <td>2688</td>\n",
       "      <td>143</td>\n",
       "      <td>...</td>\n",
       "      <td>0</td>\n",
       "      <td>1</td>\n",
       "      <td>1</td>\n",
       "      <td>0</td>\n",
       "      <td>-2</td>\n",
       "      <td>-2</td>\n",
       "      <td>-2</td>\n",
       "      <td>-2</td>\n",
       "      <td>-2</td>\n",
       "      <td>-2</td>\n",
       "    </tr>\n",
       "    <tr>\n",
       "      <th>2</th>\n",
       "      <td>3</td>\n",
       "      <td>1</td>\n",
       "      <td>1</td>\n",
       "      <td>1</td>\n",
       "      <td>5</td>\n",
       "      <td>8969.915921</td>\n",
       "      <td>6233</td>\n",
       "      <td>505</td>\n",
       "      <td>5741</td>\n",
       "      <td>829</td>\n",
       "      <td>...</td>\n",
       "      <td>0</td>\n",
       "      <td>3</td>\n",
       "      <td>5</td>\n",
       "      <td>3</td>\n",
       "      <td>-2</td>\n",
       "      <td>-2</td>\n",
       "      <td>-2</td>\n",
       "      <td>-2</td>\n",
       "      <td>-2</td>\n",
       "      <td>-2</td>\n",
       "    </tr>\n",
       "    <tr>\n",
       "      <th>3</th>\n",
       "      <td>4</td>\n",
       "      <td>2</td>\n",
       "      <td>3</td>\n",
       "      <td>7</td>\n",
       "      <td>2</td>\n",
       "      <td>18003.639600</td>\n",
       "      <td>6034</td>\n",
       "      <td>672</td>\n",
       "      <td>5781</td>\n",
       "      <td>868</td>\n",
       "      <td>...</td>\n",
       "      <td>3</td>\n",
       "      <td>3</td>\n",
       "      <td>5</td>\n",
       "      <td>3</td>\n",
       "      <td>-2</td>\n",
       "      <td>-2</td>\n",
       "      <td>-2</td>\n",
       "      <td>-2</td>\n",
       "      <td>-2</td>\n",
       "      <td>-2</td>\n",
       "    </tr>\n",
       "    <tr>\n",
       "      <th>4</th>\n",
       "      <td>5</td>\n",
       "      <td>1</td>\n",
       "      <td>1</td>\n",
       "      <td>1</td>\n",
       "      <td>3</td>\n",
       "      <td>5999.605242</td>\n",
       "      <td>5388</td>\n",
       "      <td>702</td>\n",
       "      <td>5313</td>\n",
       "      <td>797</td>\n",
       "      <td>...</td>\n",
       "      <td>0</td>\n",
       "      <td>1</td>\n",
       "      <td>1</td>\n",
       "      <td>0</td>\n",
       "      <td>-2</td>\n",
       "      <td>-2</td>\n",
       "      <td>-2</td>\n",
       "      <td>-2</td>\n",
       "      <td>-2</td>\n",
       "      <td>-2</td>\n",
       "    </tr>\n",
       "  </tbody>\n",
       "</table>\n",
       "<p>5 rows × 569 columns</p>\n",
       "</div>"
      ],
      "text/plain": [
       "   DOEID  REGIONC  DIVISION  REPORTABLE_DOMAIN  TYPEHUQ       NWEIGHT  HDD65  \\\n",
       "0      1        2         4                 12        2   2471.679705   4742   \n",
       "1      2        4        10                 26        2   8599.172010   2662   \n",
       "2      3        1         1                  1        5   8969.915921   6233   \n",
       "3      4        2         3                  7        2  18003.639600   6034   \n",
       "4      5        1         1                  1        3   5999.605242   5388   \n",
       "\n",
       "   CDD65  HDD30YR  CDD30YR    ...     SCALEEL  KAVALNG  PERIODNG  SCALENG  \\\n",
       "0   1080     4953     1271    ...           0       -2        -2       -2   \n",
       "1    199     2688      143    ...           0        1         1        0   \n",
       "2    505     5741      829    ...           0        3         5        3   \n",
       "3    672     5781      868    ...           3        3         5        3   \n",
       "4    702     5313      797    ...           0        1         1        0   \n",
       "\n",
       "   PERIODLP  SCALELP  PERIODFO  SCALEFO  PERIODKR  SCALEKER  \n",
       "0        -2       -2        -2       -2        -2        -2  \n",
       "1        -2       -2        -2       -2        -2        -2  \n",
       "2        -2       -2        -2       -2        -2        -2  \n",
       "3        -2       -2        -2       -2        -2        -2  \n",
       "4        -2       -2        -2       -2        -2        -2  \n",
       "\n",
       "[5 rows x 569 columns]"
      ]
     },
     "execution_count": 3,
     "metadata": {},
     "output_type": "execute_result"
    }
   ],
   "source": [
    "recs = pd.DataFrame.from_csv('recs2009_public_clean.csv', index_col=None)\n",
    "recs.head()"
   ]
  },
  {
   "cell_type": "code",
   "execution_count": 4,
   "metadata": {
    "collapsed": false
   },
   "outputs": [
    {
     "name": "stdout",
     "output_type": "stream",
     "text": [
      "No NaN in DataFrame\n"
     ]
    }
   ],
   "source": [
    "df = recs\n",
    "cols = list(df)\n",
    "count = 0\n",
    "row_count = len(df)\n",
    "\n",
    "for c in cols:\n",
    "    dfe = df[df[c].isnull()]\n",
    "    null_count = len(dfe)\n",
    "    percent_values = 1 - (null_count / row_count)\n",
    "\n",
    "    if dfe.empty:\n",
    "        count += 1\n",
    "    else:\n",
    "        print('NaN in ' + c)\n",
    "        print('Percent not null: ' + str(round(percent_values * 100,2)) + '%')\n",
    "\n",
    "    if count == len(cols):\n",
    "        print('No NaN in DataFrame')"
   ]
  },
  {
   "cell_type": "code",
   "execution_count": 5,
   "metadata": {
    "collapsed": false
   },
   "outputs": [
    {
     "name": "stdout",
     "output_type": "stream",
     "text": [
      "<class 'pandas.core.frame.DataFrame'>\n",
      "RangeIndex: 12083 entries, 0 to 12082\n",
      "Columns: 569 entries, DOEID to SCALEKER\n",
      "dtypes: float64(51), int64(518)\n",
      "memory usage: 52.5 MB\n"
     ]
    }
   ],
   "source": [
    "recs.info()"
   ]
  },
  {
   "cell_type": "code",
   "execution_count": 6,
   "metadata": {
    "collapsed": true
   },
   "outputs": [],
   "source": [
    "train, test = train_test_split(recs)\n",
    "X_train = train.drop('TOTALBTU',1)\n",
    "X_test = test.drop('TOTALBTU',1)\n",
    "y_train = train.TOTALBTU\n",
    "y_test = test.TOTALBTU\n",
    "regr = linear_model.LinearRegression()"
   ]
  },
  {
   "cell_type": "code",
   "execution_count": 7,
   "metadata": {
    "collapsed": false
   },
   "outputs": [
    {
     "name": "stdout",
     "output_type": "stream",
     "text": [
      "Wall time: 271 ms\n"
     ]
    },
    {
     "data": {
      "text/plain": [
       "LinearRegression(copy_X=True, fit_intercept=True, n_jobs=1, normalize=False)"
      ]
     },
     "execution_count": 7,
     "metadata": {},
     "output_type": "execute_result"
    }
   ],
   "source": [
    "%%time\n",
    "regr.fit(X_train,y_train)"
   ]
  },
  {
   "cell_type": "code",
   "execution_count": 8,
   "metadata": {
    "collapsed": false
   },
   "outputs": [
    {
     "data": {
      "text/plain": [
       "array([  2.50002776e-17,   4.63281635e-11,   7.17359505e-12,\n",
       "        -5.42255130e-12,   1.35519374e-11,  -9.99200722e-16,\n",
       "        -5.82311976e-14,  -1.03916875e-13,   6.04516437e-14,\n",
       "         1.20500832e-13,  -2.98801230e-12,   5.72511859e-13,\n",
       "         1.07514923e-11,   2.03524232e-12,   3.94434214e-13,\n",
       "        -4.86791836e-12,   7.50461840e-13,  -4.43472008e-11,\n",
       "         1.62250681e-11,  -3.35104751e-12,   1.16388014e-12,\n",
       "        -1.08270814e-13,   4.90766268e-13,  -9.42522102e-13,\n",
       "        -7.09290645e-11,   8.84554203e-12,  -5.51497108e-13,\n",
       "         3.38460931e-12,  -3.82606540e-11,   7.24538826e-12,\n",
       "        -3.98112363e-14,  -3.12155738e-11,   3.04642328e-11,\n",
       "        -2.86155767e-10,  -5.40136681e-12,  -5.11453686e-13,\n",
       "         9.98491177e-12,  -3.63296390e-12,   4.01093341e-11,\n",
       "        -1.57781295e-11,   2.30072997e-12,   8.22867438e-11,\n",
       "        -2.50661655e-11,   5.98776249e-12,   7.15104567e-12,\n",
       "         3.66656206e-10,   4.99316829e-12,   6.96450825e-13,\n",
       "        -4.48058349e-10,   1.41796007e-10,  -2.33868490e-11,\n",
       "         2.95960436e-10,  -9.31221195e-11,   9.46404843e-12,\n",
       "        -2.60196996e-11,  -1.79299204e-11,   1.26490943e-12,\n",
       "        -3.41496887e-12,  -4.61599210e-12,  -5.02444821e-12,\n",
       "        -2.00469907e-11,   4.40827225e-12,   1.34399690e-12,\n",
       "        -1.92255874e-11,   5.36397286e-12,  -3.97604094e-12,\n",
       "         2.36187988e-12,  -1.03980315e-11,   9.46354987e-13,\n",
       "        -1.51033404e-12,  -5.02098024e-13,  -7.52971361e-14,\n",
       "         2.49982152e-12,   5.51675947e-15,  -5.34355773e-13,\n",
       "        -2.76137704e-13,  -1.43135525e-12,  -6.39022662e-11,\n",
       "         1.07484653e-11,   2.34977569e-13,   1.28219890e-13,\n",
       "        -9.28435809e-13,  -7.14634068e-13,  -1.43574043e-11,\n",
       "        -2.55802812e-13,   2.39670801e-12,  -9.43930114e-12,\n",
       "        -2.86469289e-12,   3.92887952e-13,  -1.21720627e-13,\n",
       "         5.01298764e-14,  -7.56621830e-13,   1.37306666e-12,\n",
       "         6.18564987e-13,  -3.94726371e-12,   5.13316486e-12,\n",
       "         1.12373034e-12,   4.91548425e-13,  -8.11484669e-14,\n",
       "        -1.54955852e-12,   1.11816004e-11,  -8.00354940e-13,\n",
       "        -2.04434587e-13,  -3.24050492e-13,  -2.27889874e-12,\n",
       "        -2.81096834e-11,   9.74294651e-12,  -9.45788817e-13,\n",
       "         3.17375783e-12,  -6.91550936e-12,  -4.60133234e-13,\n",
       "        -2.60691648e-12,   7.54599961e-12,   5.79729515e-13,\n",
       "         1.30950407e-11,  -7.74089871e-12,  -5.60526142e-12,\n",
       "         2.36093209e-13,  -8.91264219e-12,   4.82533989e-13,\n",
       "        -5.85389051e-13,  -7.21113273e-13,  -5.87885684e-13,\n",
       "         9.65787729e-13,  -3.94567198e-13,   1.43315819e-11,\n",
       "         3.88513833e-13,  -7.12711907e-12,   5.23139468e-12,\n",
       "        -2.24150153e-12,  -1.80946512e-13,   5.21447984e-14,\n",
       "        -8.09180874e-14,  -6.66900874e-13,   8.30752517e-13,\n",
       "         3.24475562e-11,  -4.45849667e-12,  -1.85365755e-12,\n",
       "         9.27946549e-14,  -3.13992202e-12,  -1.89091029e-12,\n",
       "         1.24685130e-12,  -7.38226049e-12,   3.83755831e-12,\n",
       "         8.63806802e-13,   2.27837585e-13,   6.08485654e-12,\n",
       "         9.87367307e-13,   5.04610188e-12,   1.05183393e-12,\n",
       "        -3.53158959e-13,  -5.14454903e-12,  -4.93257389e-13,\n",
       "         4.09122165e-13,   1.26051411e-13,  -1.70016570e-12,\n",
       "         3.72577593e-13,  -4.57606907e-14,   7.08501981e-12,\n",
       "        -5.71968230e-12,   2.61714549e-12,   1.89352014e-12,\n",
       "        -2.26769813e-12,   1.40521405e-12,  -6.06309009e-12,\n",
       "         2.84108669e-12,  -9.25568089e-12,   7.45170310e-13,\n",
       "         2.67146819e-12,  -3.11120379e-13,  -2.07246769e-12,\n",
       "         5.85471125e-13,  -1.03334791e-12,  -9.14646058e-13,\n",
       "         5.96424250e-12,  -1.65673412e-12,  -1.27260913e-12,\n",
       "        -1.32094172e-12,   2.01754594e-11,  -5.51418575e-12,\n",
       "        -3.14414666e-13,   1.05120234e-12,  -1.86163006e-12,\n",
       "        -1.20784573e-11,   2.90727555e-12,  -3.85693195e-12,\n",
       "        -2.98797358e-12,   2.56839228e-14,   1.51470627e-11,\n",
       "         5.06280253e-12,   2.38096816e-11,   8.24437827e-12,\n",
       "        -1.36731967e-12,  -2.87217094e-12,  -2.06767154e-12,\n",
       "        -1.10092355e-11,  -2.80469663e-12,  -4.58340214e-13,\n",
       "         1.26363799e-11,   2.95465978e-12,  -8.48142144e-12,\n",
       "        -2.02413212e-12,  -2.56390387e-12,   1.57377341e-11,\n",
       "         5.44520157e-12,  -5.20023038e-11,   8.27925459e-12,\n",
       "         2.51208157e-12,   1.87655048e-12,   1.50344724e-11,\n",
       "        -1.74983075e-12,  -2.00491248e-12,  -3.29688767e-12,\n",
       "         3.14419259e-12,  -1.56289420e-12,  -9.36462340e-13,\n",
       "        -2.73020106e-12,  -4.03023409e-12,   2.25118310e-12,\n",
       "         3.46264182e-13,  -2.51623760e-12,  -5.13710378e-13,\n",
       "        -6.97813863e-13,   2.06346674e-12,   3.11013864e-12,\n",
       "        -2.15415105e-13,  -6.64782770e-13,   7.30911609e-10,\n",
       "        -9.89516475e-12,  -7.72179883e-14,   6.47080581e-13,\n",
       "         3.20981699e-13,  -4.04295710e-12,   8.29832337e-12,\n",
       "         5.27375967e-13,   5.20778123e-13,  -1.22955760e-12,\n",
       "         1.56795958e-12,  -4.97862041e-12,   1.17078270e-11,\n",
       "        -2.12869247e-11,  -4.30968034e-11,   3.02451704e-12,\n",
       "        -4.37254228e-12,   2.19886994e-12,  -1.98479707e-11,\n",
       "         3.56482021e-11,  -8.74442906e-13,  -8.86399243e-11,\n",
       "         1.43771371e-11,  -7.69990491e-11,   4.45130369e-12,\n",
       "        -1.14262296e-11,  -1.21091283e-11,  -6.47414084e-11,\n",
       "         2.37106960e-12,   8.63101716e-12,  -1.85675205e-12,\n",
       "        -3.02670769e-11,   2.23363030e-12,  -6.49049678e-11,\n",
       "         4.46084462e-12,  -3.12463776e-12,   1.02703843e-12,\n",
       "         3.11056945e-12,  -3.18269892e-13,   9.58953193e-13,\n",
       "        -1.53266446e-12,   1.73610570e-13,   1.86970014e-13,\n",
       "        -3.81561102e-13,  -8.29219506e-15,  -2.47938192e-12,\n",
       "         1.46628716e-12,  -7.39052773e-11,  -5.78049664e-11,\n",
       "         2.68555886e-11,  -6.71748564e-12,   3.61764222e-12,\n",
       "         4.30079996e-13,  -8.17772499e-13,   3.48412373e-12,\n",
       "        -6.40905690e-13,  -9.01583733e-13,   1.29455122e-11,\n",
       "        -1.29906829e-12,   4.80404444e-12,   2.19665649e-13,\n",
       "        -1.85074295e-11,  -1.50749707e-11,  -3.03794591e-12,\n",
       "        -8.20968300e-12,   5.91790517e-13,   1.55308072e-13,\n",
       "         6.12500444e-12,  -9.13192905e-12,  -7.06873362e-13,\n",
       "        -4.03055410e-14,   2.17434019e-12,  -2.11427507e-12,\n",
       "         2.49471296e-12,  -5.26463854e-12,   2.10232252e-11,\n",
       "        -1.29653423e-11,   6.58122003e-12,  -2.56122342e-12,\n",
       "        -9.64382654e-14,  -1.64510549e-13,   1.37318325e-13,\n",
       "         9.23839006e-12,   3.23457515e-13,   3.83890917e-13,\n",
       "         3.65456363e-14,   7.31193081e-13,   1.28933314e-12,\n",
       "        -4.88777112e-12,   8.85166316e-13,  -3.45214739e-13,\n",
       "         6.77639084e-13,   1.65284770e-12,  -2.16869615e-12,\n",
       "        -3.84317160e-12,   1.58040761e-12,  -6.92198025e-11,\n",
       "         2.42405696e-11,  -6.00332360e-12,   3.93429595e-11,\n",
       "        -5.73934457e-12,  -2.15484691e-12,  -6.70140606e-13,\n",
       "         1.43549208e-13,   2.89267737e-13,  -6.22414516e-13,\n",
       "         5.38317424e-13,  -5.18707877e-12,   7.65003593e-13,\n",
       "         6.95305494e-13,   1.42672136e-12,  -2.91655015e-12,\n",
       "         1.87199086e-12,   4.72142999e-12,  -2.56033520e-12,\n",
       "         4.94925823e-14,   2.53146712e-12,  -1.58569542e-12,\n",
       "        -1.59694369e-12,   2.58655976e-12,   2.13177727e-12,\n",
       "        -2.84129853e-13,   3.65505152e-13,   1.18625251e-12,\n",
       "         9.15643212e-13,   5.20845845e-14,   2.55788927e-12,\n",
       "         4.15759441e-13,   7.30754006e-13,  -2.88731131e-12,\n",
       "         1.57946513e-12,   7.74296873e-15,  -5.41501757e-12,\n",
       "         3.51361769e-12,  -3.71203156e-11,  -3.34679059e-12,\n",
       "         1.05715165e-11,   2.10359248e-11,  -5.55924072e-11,\n",
       "         1.85424840e-11,   2.14593936e-11,  -4.07076760e-11,\n",
       "         1.03292865e-11,  -1.79949656e-11,   2.77254525e-12,\n",
       "         1.72877312e-11,   4.30724900e-13,  -2.19539514e-11,\n",
       "         3.90550273e-11,   2.65745643e-12,   1.52758806e-12,\n",
       "         1.59557688e-12,   4.04182293e-11,   1.09201563e-11,\n",
       "         3.92343394e-11,   2.89804323e-11,  -6.78819107e-13,\n",
       "         6.72952721e-11,  -5.32066125e-12,   1.25821011e-11,\n",
       "         7.61980014e-12,  -4.04451204e-12,  -2.28507342e-12,\n",
       "        -1.43732868e-11,   2.19030635e-12,   8.31734159e-11,\n",
       "        -1.95611427e-11,   2.25002083e-11,   2.70713198e-11,\n",
       "         1.93135297e-12,  -1.34041043e-10,  -9.31442429e-12,\n",
       "        -1.55145435e-11,   1.60098389e-11,  -5.58447176e-11,\n",
       "        -4.07243911e-11,  -6.91049740e-11,  -1.87242629e-11,\n",
       "         1.55113635e-11,   1.20205501e-11,   1.17053442e-12,\n",
       "        -2.13528050e-12,  -6.96048287e-12,  -7.10303335e-12,\n",
       "        -2.28325764e-12,  -8.74195749e-13,  -1.55663274e-12,\n",
       "         2.47524374e-12,  -6.44761563e-12,  -4.20471421e-12,\n",
       "        -2.96979378e-11,   1.42647477e-11,   9.33638995e-13,\n",
       "        -4.39079562e-12,   1.34357668e-12,   3.15005919e-11,\n",
       "        -2.40581275e-11,   2.14951487e-13,   4.73209234e-13,\n",
       "         7.07808664e-12,  -6.79026444e-12,   1.67117639e-12,\n",
       "         1.04926967e-11,   2.50638560e-12,   1.43620195e-12,\n",
       "         2.73965849e-11,  -2.77637262e-12,   2.82477461e-13,\n",
       "         5.85946247e-12,   4.87367292e-12,  -1.40825898e-12,\n",
       "         5.45272757e-13,  -3.04743820e-12,   7.33735555e-13,\n",
       "        -7.47201021e-13,  -3.73811279e-13,  -6.17598800e-13,\n",
       "        -7.98845744e-13,   2.04597522e-12,  -1.46929644e-12,\n",
       "         3.61429552e-12,  -3.81458938e-12,  -6.06032591e-12,\n",
       "         1.72531128e-11,   7.34469678e-12,  -3.50529272e-11,\n",
       "        -3.53752570e-11,  -7.28266123e-14,  -1.76803846e-12,\n",
       "         3.18346341e-12,  -1.65153102e-13,   9.62356475e-13,\n",
       "        -2.88897803e-12,   1.49676026e-12,  -3.28179793e-12,\n",
       "         2.95236008e-12,   2.16797800e-12,  -2.09727117e-12,\n",
       "        -1.50547977e-13,   5.43077071e-14,   1.38103790e-12,\n",
       "        -7.48122122e-12,   9.19419678e-13,  -1.30367227e-12,\n",
       "        -5.00068736e-12,  -3.31176059e-14,   7.04664799e-12,\n",
       "         7.04311609e-12,  -2.01392028e-12,  -2.01058788e-12,\n",
       "         2.87862797e-09,  -2.92502929e-09,  -2.91141508e-09,\n",
       "        -2.81790135e-09,  -2.83033792e-09,  -2.88610086e-09,\n",
       "         1.00000000e+00,   2.33135143e-11,   1.52496626e-11,\n",
       "        -4.87487481e-12,  -1.41417433e-12,   1.34202094e-11,\n",
       "        -3.21849035e-09,  -1.14671378e-11,  -1.57559989e-11,\n",
       "        -1.89118378e-11,  -1.44151080e-11,  -1.85870312e-11,\n",
       "         1.45869206e-09,  -2.00474283e-09,  -1.48351638e-09,\n",
       "        -1.08224465e-09,   1.00000000e+00,   1.36828882e-11,\n",
       "         1.17846566e-11,   6.18359530e-12,  -3.26944612e-09,\n",
       "         3.90821381e-11,   3.19653546e-11,   3.20367162e-11,\n",
       "        -8.18903625e-12,   1.32012730e-11,   1.01594995e-11,\n",
       "         3.60692053e-13,   1.00000000e+00,   1.66719416e-12,\n",
       "         4.88149798e-12,   3.30730582e-12,  -3.22595776e-09,\n",
       "        -4.32462876e-12,  -1.08905506e-11,  -1.09437040e-11,\n",
       "        -2.76727326e-11,   1.85550926e-11,  -1.76777876e-11,\n",
       "        -2.36785069e-11,   1.00000000e+00,   4.11812251e-12,\n",
       "         7.56479428e-12,   5.91522664e-12,  -3.24560031e-09,\n",
       "         1.48059880e-11,   8.23188626e-12,   8.65895897e-12,\n",
       "         3.58244943e-10,  -4.10944341e-10,  -7.07930929e-11,\n",
       "        -3.18112842e-10,   9.99999999e-01,   1.01266620e-09,\n",
       "         9.99518511e-10,   1.01347221e-09,  -2.82813674e-09,\n",
       "        -4.02187978e-10,   3.46047706e-10,  -4.08612191e-10,\n",
       "         4.71844785e-15,  -6.48266185e-11,   5.27355937e-13,\n",
       "         4.61181093e-12,  -2.65831801e-12,  -2.50917342e-12,\n",
       "        -9.70501457e-13,   3.23613225e-09,  -5.58547306e-12,\n",
       "        -1.81510015e-12,   9.57066024e-13,  -2.58237268e-12,\n",
       "         7.97181765e-13,   8.70062606e-12,  -1.81891538e-12,\n",
       "        -2.65816324e-12,   2.78076916e-11,   1.06988073e-12,\n",
       "        -1.94463428e-11,   3.08800929e-12,  -3.70179753e-12,\n",
       "        -5.20334395e-12,   9.99235365e-12,   8.04693490e-12,\n",
       "        -1.80714931e-11])"
      ]
     },
     "execution_count": 8,
     "metadata": {},
     "output_type": "execute_result"
    }
   ],
   "source": [
    "regr.coef_"
   ]
  },
  {
   "cell_type": "code",
   "execution_count": 9,
   "metadata": {
    "collapsed": false
   },
   "outputs": [
    {
     "data": {
      "text/plain": [
       "1.0"
      ]
     },
     "execution_count": 9,
     "metadata": {},
     "output_type": "execute_result"
    }
   ],
   "source": [
    "regr.score(X_train,y_train)"
   ]
  },
  {
   "cell_type": "code",
   "execution_count": 10,
   "metadata": {
    "collapsed": false
   },
   "outputs": [
    {
     "data": {
      "text/plain": [
       "1.0"
      ]
     },
     "execution_count": 10,
     "metadata": {},
     "output_type": "execute_result"
    }
   ],
   "source": [
    "regr.score(X_test,y_test)"
   ]
  },
  {
   "cell_type": "code",
   "execution_count": 11,
   "metadata": {
    "collapsed": false
   },
   "outputs": [
    {
     "data": {
      "text/plain": [
       "array([  50156.,  115981.,  117973., ...,  119190.,   39746.,  152650.])"
      ]
     },
     "execution_count": 11,
     "metadata": {},
     "output_type": "execute_result"
    }
   ],
   "source": [
    "regr.predict(X_test)"
   ]
  },
  {
   "cell_type": "code",
   "execution_count": 12,
   "metadata": {
    "collapsed": false
   },
   "outputs": [
    {
     "ename": "ValueError",
     "evalue": "Can't handle mix of continuous and multiclass",
     "output_type": "error",
     "traceback": [
      "\u001b[0;31m---------------------------------------------------------------------------\u001b[0m",
      "\u001b[0;31mValueError\u001b[0m                                Traceback (most recent call last)",
      "\u001b[0;32m<ipython-input-12-d9fa1df48058>\u001b[0m in \u001b[0;36m<module>\u001b[0;34m()\u001b[0m\n\u001b[0;32m----> 1\u001b[0;31m \u001b[0mmatthews_corrcoef\u001b[0m\u001b[1;33m(\u001b[0m\u001b[0mX_train\u001b[0m\u001b[1;33m.\u001b[0m\u001b[0mNWEIGHT\u001b[0m\u001b[1;33m,\u001b[0m\u001b[0my_train\u001b[0m\u001b[1;33m)\u001b[0m\u001b[1;33m\u001b[0m\u001b[0m\n\u001b[0m",
      "\u001b[0;32mC:\\Users\\clayt\\Anaconda3\\lib\\site-packages\\sklearn\\metrics\\classification.py\u001b[0m in \u001b[0;36mmatthews_corrcoef\u001b[0;34m(y_true, y_pred, sample_weight)\u001b[0m\n\u001b[1;32m    495\u001b[0m \u001b[1;33m\u001b[0m\u001b[0m\n\u001b[1;32m    496\u001b[0m     \"\"\"\n\u001b[0;32m--> 497\u001b[0;31m     \u001b[0my_type\u001b[0m\u001b[1;33m,\u001b[0m \u001b[0my_true\u001b[0m\u001b[1;33m,\u001b[0m \u001b[0my_pred\u001b[0m \u001b[1;33m=\u001b[0m \u001b[0m_check_targets\u001b[0m\u001b[1;33m(\u001b[0m\u001b[0my_true\u001b[0m\u001b[1;33m,\u001b[0m \u001b[0my_pred\u001b[0m\u001b[1;33m)\u001b[0m\u001b[1;33m\u001b[0m\u001b[0m\n\u001b[0m\u001b[1;32m    498\u001b[0m \u001b[1;33m\u001b[0m\u001b[0m\n\u001b[1;32m    499\u001b[0m     \u001b[1;32mif\u001b[0m \u001b[0my_type\u001b[0m \u001b[1;33m!=\u001b[0m \u001b[1;34m\"binary\"\u001b[0m\u001b[1;33m:\u001b[0m\u001b[1;33m\u001b[0m\u001b[0m\n",
      "\u001b[0;32mC:\\Users\\clayt\\Anaconda3\\lib\\site-packages\\sklearn\\metrics\\classification.py\u001b[0m in \u001b[0;36m_check_targets\u001b[0;34m(y_true, y_pred)\u001b[0m\n\u001b[1;32m     80\u001b[0m     \u001b[1;32mif\u001b[0m \u001b[0mlen\u001b[0m\u001b[1;33m(\u001b[0m\u001b[0my_type\u001b[0m\u001b[1;33m)\u001b[0m \u001b[1;33m>\u001b[0m \u001b[1;36m1\u001b[0m\u001b[1;33m:\u001b[0m\u001b[1;33m\u001b[0m\u001b[0m\n\u001b[1;32m     81\u001b[0m         raise ValueError(\"Can't handle mix of {0} and {1}\"\n\u001b[0;32m---> 82\u001b[0;31m                          \"\".format(type_true, type_pred))\n\u001b[0m\u001b[1;32m     83\u001b[0m \u001b[1;33m\u001b[0m\u001b[0m\n\u001b[1;32m     84\u001b[0m     \u001b[1;31m# We can't have more than one value on y_type => The set is no more needed\u001b[0m\u001b[1;33m\u001b[0m\u001b[1;33m\u001b[0m\u001b[0m\n",
      "\u001b[0;31mValueError\u001b[0m: Can't handle mix of continuous and multiclass"
     ]
    }
   ],
   "source": [
    "matthews_corrcoef(X_train.NWEIGHT,y_train)"
   ]
  },
  {
   "cell_type": "code",
   "execution_count": 15,
   "metadata": {
    "collapsed": false,
    "scrolled": true
   },
   "outputs": [
    {
     "data": {
      "text/plain": [
       "5947      7559.667803\n",
       "5750      7562.500166\n",
       "8823     10215.138950\n",
       "9103      3162.092342\n",
       "923       8089.881048\n",
       "11862     7204.748702\n",
       "4567      7727.971742\n",
       "582      10576.373350\n",
       "3878      6466.420268\n",
       "9199      6267.948926\n",
       "3765      6356.482316\n",
       "3869      6980.099049\n",
       "4846      6540.320528\n",
       "9954     15506.098550\n",
       "6240      6904.972468\n",
       "5728      8236.299166\n",
       "7874     10651.144490\n",
       "2482      7016.401706\n",
       "2129     14682.208310\n",
       "9073     10423.079730\n",
       "12033     4224.003952\n",
       "7957      5639.385347\n",
       "9952     13109.089280\n",
       "2788      6297.038661\n",
       "4391      6297.038661\n",
       "11216    10135.751490\n",
       "4631     11437.501050\n",
       "1682      6991.241210\n",
       "5707     13667.129250\n",
       "7905      5067.909327\n",
       "             ...     \n",
       "11485    16838.064570\n",
       "1174      2742.574483\n",
       "7990      6596.345746\n",
       "2189     15253.921150\n",
       "853       9246.646811\n",
       "7196     10845.193020\n",
       "11450     4888.333228\n",
       "4626      7169.306845\n",
       "7129     14113.312780\n",
       "6849     24697.794780\n",
       "9511      5195.342932\n",
       "10889    16020.976160\n",
       "1480      2886.607762\n",
       "8613      6861.287289\n",
       "10573     4912.403064\n",
       "6876     11638.257890\n",
       "1615      5599.871428\n",
       "7633      7047.379381\n",
       "2686      5629.099013\n",
       "3907      7962.721859\n",
       "5503      6912.437863\n",
       "10287     7305.364803\n",
       "5305      7673.374944\n",
       "8867      7004.049050\n",
       "1658      7232.627916\n",
       "6458     11554.511350\n",
       "98       15636.593890\n",
       "4772      6577.841784\n",
       "10470     5027.027018\n",
       "1020     18655.687600\n",
       "Name: NWEIGHT, dtype: float64"
      ]
     },
     "execution_count": 15,
     "metadata": {},
     "output_type": "execute_result"
    }
   ],
   "source": [
    "X_train.NWEIGHT = X_train.NWEIGHT.astype(float)\n",
    "X_train.NWEIGHT"
   ]
  },
  {
   "cell_type": "code",
   "execution_count": 18,
   "metadata": {
    "collapsed": false,
    "scrolled": true
   },
   "outputs": [
    {
     "data": {
      "text/plain": [
       "5947      15937.0\n",
       "5750     131572.0\n",
       "8823     118693.0\n",
       "9103      87630.0\n",
       "923       93088.0\n",
       "11862     39113.0\n",
       "4567      21078.0\n",
       "582       59943.0\n",
       "3878     107560.0\n",
       "9199     215230.0\n",
       "3765     156409.0\n",
       "3869      39295.0\n",
       "4846      45103.0\n",
       "9954     162427.0\n",
       "6240      45666.0\n",
       "5728      43135.0\n",
       "7874      33615.0\n",
       "2482      34314.0\n",
       "2129      74564.0\n",
       "9073     123742.0\n",
       "12033    214451.0\n",
       "7957     110523.0\n",
       "9952     108662.0\n",
       "2788      34983.0\n",
       "4391      80844.0\n",
       "11216    155717.0\n",
       "4631      48115.0\n",
       "1682      26293.0\n",
       "5707      53496.0\n",
       "7905      84683.0\n",
       "           ...   \n",
       "11485     48530.0\n",
       "1174      99282.0\n",
       "7990      27064.0\n",
       "2189      23062.0\n",
       "853       39476.0\n",
       "7196     202320.0\n",
       "11450    131157.0\n",
       "4626      97267.0\n",
       "7129     108269.0\n",
       "6849     120851.0\n",
       "9511      45097.0\n",
       "10889    152119.0\n",
       "1480     109791.0\n",
       "8613     200678.0\n",
       "10573    140271.0\n",
       "6876     166427.0\n",
       "1615      56706.0\n",
       "7633      67059.0\n",
       "2686     114727.0\n",
       "3907     180232.0\n",
       "5503     173507.0\n",
       "10287     41800.0\n",
       "5305      49719.0\n",
       "8867      36661.0\n",
       "1658     115340.0\n",
       "6458      35181.0\n",
       "98        83606.0\n",
       "4772      49399.0\n",
       "10470     89926.0\n",
       "1020     149998.0\n",
       "Name: TOTALBTU, dtype: float64"
      ]
     },
     "execution_count": 18,
     "metadata": {},
     "output_type": "execute_result"
    }
   ],
   "source": [
    "y_train = y_train.astype(float)\n",
    "y_train"
   ]
  },
  {
   "cell_type": "code",
   "execution_count": 19,
   "metadata": {
    "collapsed": false,
    "scrolled": true
   },
   "outputs": [
    {
     "ename": "ValueError",
     "evalue": "Can't handle mix of continuous and multiclass",
     "output_type": "error",
     "traceback": [
      "\u001b[0;31m---------------------------------------------------------------------------\u001b[0m",
      "\u001b[0;31mValueError\u001b[0m                                Traceback (most recent call last)",
      "\u001b[0;32m<ipython-input-19-d9fa1df48058>\u001b[0m in \u001b[0;36m<module>\u001b[0;34m()\u001b[0m\n\u001b[0;32m----> 1\u001b[0;31m \u001b[0mmatthews_corrcoef\u001b[0m\u001b[1;33m(\u001b[0m\u001b[0mX_train\u001b[0m\u001b[1;33m.\u001b[0m\u001b[0mNWEIGHT\u001b[0m\u001b[1;33m,\u001b[0m\u001b[0my_train\u001b[0m\u001b[1;33m)\u001b[0m\u001b[1;33m\u001b[0m\u001b[0m\n\u001b[0m",
      "\u001b[0;32mC:\\Users\\clayt\\Anaconda3\\lib\\site-packages\\sklearn\\metrics\\classification.py\u001b[0m in \u001b[0;36mmatthews_corrcoef\u001b[0;34m(y_true, y_pred, sample_weight)\u001b[0m\n\u001b[1;32m    495\u001b[0m \u001b[1;33m\u001b[0m\u001b[0m\n\u001b[1;32m    496\u001b[0m     \"\"\"\n\u001b[0;32m--> 497\u001b[0;31m     \u001b[0my_type\u001b[0m\u001b[1;33m,\u001b[0m \u001b[0my_true\u001b[0m\u001b[1;33m,\u001b[0m \u001b[0my_pred\u001b[0m \u001b[1;33m=\u001b[0m \u001b[0m_check_targets\u001b[0m\u001b[1;33m(\u001b[0m\u001b[0my_true\u001b[0m\u001b[1;33m,\u001b[0m \u001b[0my_pred\u001b[0m\u001b[1;33m)\u001b[0m\u001b[1;33m\u001b[0m\u001b[0m\n\u001b[0m\u001b[1;32m    498\u001b[0m \u001b[1;33m\u001b[0m\u001b[0m\n\u001b[1;32m    499\u001b[0m     \u001b[1;32mif\u001b[0m \u001b[0my_type\u001b[0m \u001b[1;33m!=\u001b[0m \u001b[1;34m\"binary\"\u001b[0m\u001b[1;33m:\u001b[0m\u001b[1;33m\u001b[0m\u001b[0m\n",
      "\u001b[0;32mC:\\Users\\clayt\\Anaconda3\\lib\\site-packages\\sklearn\\metrics\\classification.py\u001b[0m in \u001b[0;36m_check_targets\u001b[0;34m(y_true, y_pred)\u001b[0m\n\u001b[1;32m     80\u001b[0m     \u001b[1;32mif\u001b[0m \u001b[0mlen\u001b[0m\u001b[1;33m(\u001b[0m\u001b[0my_type\u001b[0m\u001b[1;33m)\u001b[0m \u001b[1;33m>\u001b[0m \u001b[1;36m1\u001b[0m\u001b[1;33m:\u001b[0m\u001b[1;33m\u001b[0m\u001b[0m\n\u001b[1;32m     81\u001b[0m         raise ValueError(\"Can't handle mix of {0} and {1}\"\n\u001b[0;32m---> 82\u001b[0;31m                          \"\".format(type_true, type_pred))\n\u001b[0m\u001b[1;32m     83\u001b[0m \u001b[1;33m\u001b[0m\u001b[0m\n\u001b[1;32m     84\u001b[0m     \u001b[1;31m# We can't have more than one value on y_type => The set is no more needed\u001b[0m\u001b[1;33m\u001b[0m\u001b[1;33m\u001b[0m\u001b[0m\n",
      "\u001b[0;31mValueError\u001b[0m: Can't handle mix of continuous and multiclass"
     ]
    }
   ],
   "source": [
    "matthews_corrcoef(X_train.NWEIGHT,y_train)"
   ]
  },
  {
   "cell_type": "code",
   "execution_count": 44,
   "metadata": {
    "collapsed": false
   },
   "outputs": [
    {
     "data": {
      "text/plain": [
       "15966.070350    14\n",
       "6297.038661     12\n",
       "11330.022770    12\n",
       "14727.348790    12\n",
       "7169.307206     12\n",
       "6506.705290     11\n",
       "16137.471810    11\n",
       "7489.171687     10\n",
       "4559.170439     10\n",
       "10576.371130     9\n",
       "7264.469778      9\n",
       "7707.691254      9\n",
       "7364.810280      9\n",
       "7169.305346      8\n",
       "6663.805081      8\n",
       "10550.899590     8\n",
       "9242.949773      8\n",
       "16838.064570     8\n",
       "8458.371946      8\n",
       "10128.154510     8\n",
       "7535.951629      8\n",
       "7169.305823      8\n",
       "2778.258809      8\n",
       "5403.896310      8\n",
       "5211.538743      7\n",
       "12046.394360     7\n",
       "4751.971827      7\n",
       "2778.258935      7\n",
       "6297.038285      7\n",
       "7364.805498      7\n",
       "                ..\n",
       "4751.971740      1\n",
       "8345.546131      1\n",
       "7385.456383      1\n",
       "11570.705480     1\n",
       "14596.795200     1\n",
       "20104.044610     1\n",
       "6344.824233      1\n",
       "4674.747321      1\n",
       "8016.830852      1\n",
       "7746.246331      1\n",
       "2529.176423      1\n",
       "25256.506550     1\n",
       "11330.023460     1\n",
       "5128.659347      1\n",
       "5956.562570      1\n",
       "15322.100470     1\n",
       "9986.586148      1\n",
       "2913.735321      1\n",
       "10774.586030     1\n",
       "13117.070400     1\n",
       "6189.207129      1\n",
       "9909.892006      1\n",
       "3878.334244      1\n",
       "3209.586624      1\n",
       "8611.579773      1\n",
       "5868.892521      1\n",
       "7866.044045      1\n",
       "6466.420259      1\n",
       "11538.657270     1\n",
       "6032.397132      1\n",
       "Name: NWEIGHT, dtype: int64"
      ]
     },
     "execution_count": 44,
     "metadata": {},
     "output_type": "execute_result"
    }
   ],
   "source": [
    "X_train.NWEIGHT.value_counts()"
   ]
  },
  {
   "cell_type": "code",
   "execution_count": 37,
   "metadata": {
    "collapsed": false
   },
   "outputs": [
    {
     "data": {
      "text/plain": [
       "<matplotlib.axes._subplots.AxesSubplot at 0x1b11403b278>"
      ]
     },
     "execution_count": 37,
     "metadata": {},
     "output_type": "execute_result"
    },
    {
     "data": {
      "image/png": "[encoded data removed]",
      "text/plain": [
       "<matplotlib.figure.Figure at 0x1b114577550>"
      ]
     },
     "metadata": {},
     "output_type": "display_data"
    }
   ],
   "source": [
    "y_train.value_counts().plot()"
   ]
  },
  {
   "cell_type": "code",
   "execution_count": 43,
   "metadata": {
    "collapsed": false
   },
   "outputs": [
    {
     "data": {
      "text/plain": [
       "[<matplotlib.lines.Line2D at 0x1b115847208>]"
      ]
     },
     "execution_count": 43,
     "metadata": {},
     "output_type": "execute_result"
    },
    {
     "data": {
      "image/png": "[encoded data removed]",
      "text/plain": [
       "<matplotlib.figure.Figure at 0x1b115b7f908>"
      ]
     },
     "metadata": {},
     "output_type": "display_data"
    }
   ],
   "source": [
    "plt.plot(X_train.NWEIGHT,y_train)"
   ]
  },
  {
   "cell_type": "code",
   "execution_count": 40,
   "metadata": {
    "collapsed": false
   },
   "outputs": [
    {
     "data": {
      "text/plain": [
       "9062"
      ]
     },
     "execution_count": 40,
     "metadata": {},
     "output_type": "execute_result"
    }
   ],
   "source": [
    "len(X_train.NWEIGHT)"
   ]
  },
  {
   "cell_type": "code",
   "execution_count": 41,
   "metadata": {
    "collapsed": false
   },
   "outputs": [
    {
     "data": {
      "text/plain": [
       "9062"
      ]
     },
     "execution_count": 41,
     "metadata": {},
     "output_type": "execute_result"
    }
   ],
   "source": [
    "len(y_train)"
   ]
  },
  {
   "cell_type": "code",
   "execution_count": 45,
   "metadata": {
    "collapsed": true
   },
   "outputs": [],
   "source": [
    "X = X_train.TOTALDOL"
   ]
  },
  {
   "cell_type": "code",
   "execution_count": 46,
   "metadata": {
    "collapsed": false
   },
   "outputs": [
    {
     "ename": "ValueError",
     "evalue": "multiclass is not supported",
     "output_type": "error",
     "traceback": [
      "\u001b[0;31m---------------------------------------------------------------------------\u001b[0m",
      "\u001b[0;31mValueError\u001b[0m                                Traceback (most recent call last)",
      "\u001b[0;32m<ipython-input-46-3ce75e4a4e00>\u001b[0m in \u001b[0;36m<module>\u001b[0;34m()\u001b[0m\n\u001b[0;32m----> 1\u001b[0;31m \u001b[0mmatthews_corrcoef\u001b[0m\u001b[1;33m(\u001b[0m\u001b[0mX\u001b[0m\u001b[1;33m,\u001b[0m\u001b[0my_train\u001b[0m\u001b[1;33m)\u001b[0m\u001b[1;33m\u001b[0m\u001b[0m\n\u001b[0m",
      "\u001b[0;32mC:\\Users\\clayt\\Anaconda3\\lib\\site-packages\\sklearn\\metrics\\classification.py\u001b[0m in \u001b[0;36mmatthews_corrcoef\u001b[0;34m(y_true, y_pred, sample_weight)\u001b[0m\n\u001b[1;32m    498\u001b[0m \u001b[1;33m\u001b[0m\u001b[0m\n\u001b[1;32m    499\u001b[0m     \u001b[1;32mif\u001b[0m \u001b[0my_type\u001b[0m \u001b[1;33m!=\u001b[0m \u001b[1;34m\"binary\"\u001b[0m\u001b[1;33m:\u001b[0m\u001b[1;33m\u001b[0m\u001b[0m\n\u001b[0;32m--> 500\u001b[0;31m         \u001b[1;32mraise\u001b[0m \u001b[0mValueError\u001b[0m\u001b[1;33m(\u001b[0m\u001b[1;34m\"%s is not supported\"\u001b[0m \u001b[1;33m%\u001b[0m \u001b[0my_type\u001b[0m\u001b[1;33m)\u001b[0m\u001b[1;33m\u001b[0m\u001b[0m\n\u001b[0m\u001b[1;32m    501\u001b[0m \u001b[1;33m\u001b[0m\u001b[0m\n\u001b[1;32m    502\u001b[0m     \u001b[0mlb\u001b[0m \u001b[1;33m=\u001b[0m \u001b[0mLabelEncoder\u001b[0m\u001b[1;33m(\u001b[0m\u001b[1;33m)\u001b[0m\u001b[1;33m\u001b[0m\u001b[0m\n",
      "\u001b[0;31mValueError\u001b[0m: multiclass is not supported"
     ]
    }
   ],
   "source": [
    "matthews_corrcoef(X,y_train)"
   ]
  },
  {
   "cell_type": "code",
   "execution_count": 47,
   "metadata": {
    "collapsed": true
   },
   "outputs": [],
   "source": [
    "x = [1,2,3]"
   ]
  },
  {
   "cell_type": "code",
   "execution_count": 48,
   "metadata": {
    "collapsed": true
   },
   "outputs": [],
   "source": [
    "y = [10,20,25]"
   ]
  },
  {
   "cell_type": "code",
   "execution_count": 49,
   "metadata": {
    "collapsed": false
   },
   "outputs": [
    {
     "ename": "ValueError",
     "evalue": "multiclass is not supported",
     "output_type": "error",
     "traceback": [
      "\u001b[0;31m---------------------------------------------------------------------------\u001b[0m",
      "\u001b[0;31mValueError\u001b[0m                                Traceback (most recent call last)",
      "\u001b[0;32m<ipython-input-49-05a56825271b>\u001b[0m in \u001b[0;36m<module>\u001b[0;34m()\u001b[0m\n\u001b[0;32m----> 1\u001b[0;31m \u001b[0mmatthews_corrcoef\u001b[0m\u001b[1;33m(\u001b[0m\u001b[0mx\u001b[0m\u001b[1;33m,\u001b[0m\u001b[0my\u001b[0m\u001b[1;33m)\u001b[0m\u001b[1;33m\u001b[0m\u001b[0m\n\u001b[0m",
      "\u001b[0;32mC:\\Users\\clayt\\Anaconda3\\lib\\site-packages\\sklearn\\metrics\\classification.py\u001b[0m in \u001b[0;36mmatthews_corrcoef\u001b[0;34m(y_true, y_pred, sample_weight)\u001b[0m\n\u001b[1;32m    498\u001b[0m \u001b[1;33m\u001b[0m\u001b[0m\n\u001b[1;32m    499\u001b[0m     \u001b[1;32mif\u001b[0m \u001b[0my_type\u001b[0m \u001b[1;33m!=\u001b[0m \u001b[1;34m\"binary\"\u001b[0m\u001b[1;33m:\u001b[0m\u001b[1;33m\u001b[0m\u001b[0m\n\u001b[0;32m--> 500\u001b[0;31m         \u001b[1;32mraise\u001b[0m \u001b[0mValueError\u001b[0m\u001b[1;33m(\u001b[0m\u001b[1;34m\"%s is not supported\"\u001b[0m \u001b[1;33m%\u001b[0m \u001b[0my_type\u001b[0m\u001b[1;33m)\u001b[0m\u001b[1;33m\u001b[0m\u001b[0m\n\u001b[0m\u001b[1;32m    501\u001b[0m \u001b[1;33m\u001b[0m\u001b[0m\n\u001b[1;32m    502\u001b[0m     \u001b[0mlb\u001b[0m \u001b[1;33m=\u001b[0m \u001b[0mLabelEncoder\u001b[0m\u001b[1;33m(\u001b[0m\u001b[1;33m)\u001b[0m\u001b[1;33m\u001b[0m\u001b[0m\n",
      "\u001b[0;31mValueError\u001b[0m: multiclass is not supported"
     ]
    }
   ],
   "source": [
    "matthews_corrcoef(x,y)"
   ]
  },
  {
   "cell_type": "code",
   "execution_count": 50,
   "metadata": {
    "collapsed": false
   },
   "outputs": [
    {
     "ename": "NameError",
     "evalue": "name 'scipy' is not defined",
     "output_type": "error",
     "traceback": [
      "\u001b[0;31m---------------------------------------------------------------------------\u001b[0m",
      "\u001b[0;31mNameError\u001b[0m                                 Traceback (most recent call last)",
      "\u001b[0;32m<ipython-input-50-1f84c6f75ea6>\u001b[0m in \u001b[0;36m<module>\u001b[0;34m()\u001b[0m\n\u001b[0;32m----> 1\u001b[0;31m \u001b[0mscipy\u001b[0m\u001b[1;33m.\u001b[0m\u001b[0mstats\u001b[0m\u001b[1;33m.\u001b[0m\u001b[0mpearsonr\u001b[0m\u001b[1;33m(\u001b[0m\u001b[0mx\u001b[0m\u001b[1;33m,\u001b[0m\u001b[0my\u001b[0m\u001b[1;33m)\u001b[0m\u001b[1;33m\u001b[0m\u001b[0m\n\u001b[0m",
      "\u001b[0;31mNameError\u001b[0m: name 'scipy' is not defined"
     ]
    }
   ],
   "source": [
    "scipy.stats.pearsonr(x,y)"
   ]
  },
  {
   "cell_type": "code",
   "execution_count": 51,
   "metadata": {
    "collapsed": false
   },
   "outputs": [
    {
     "ename": "AttributeError",
     "evalue": "module 'numpy' has no attribute 'stats'",
     "output_type": "error",
     "traceback": [
      "\u001b[0;31m---------------------------------------------------------------------------\u001b[0m",
      "\u001b[0;31mAttributeError\u001b[0m                            Traceback (most recent call last)",
      "\u001b[0;32m<ipython-input-51-dcc8bef07e49>\u001b[0m in \u001b[0;36m<module>\u001b[0;34m()\u001b[0m\n\u001b[0;32m----> 1\u001b[0;31m \u001b[0mnp\u001b[0m\u001b[1;33m.\u001b[0m\u001b[0mstats\u001b[0m\u001b[1;33m.\u001b[0m\u001b[0mpearsonr\u001b[0m\u001b[1;33m(\u001b[0m\u001b[0mx\u001b[0m\u001b[1;33m.\u001b[0m\u001b[0my\u001b[0m\u001b[1;33m)\u001b[0m\u001b[1;33m\u001b[0m\u001b[0m\n\u001b[0m",
      "\u001b[0;31mAttributeError\u001b[0m: module 'numpy' has no attribute 'stats'"
     ]
    }
   ],
   "source": [
    "np.stats.pearsonr(x.y)"
   ]
  },
  {
   "cell_type": "code",
   "execution_count": null,
   "metadata": {
    "collapsed": true
   },
   "outputs": [],
   "source": []
  }
 ],
 "metadata": {
  "kernelspec": {
   "display_name": "Python 3",
   "language": "python",
   "name": "python3"
  },
  "language_info": {
   "codemirror_mode": {
    "name": "ipython",
    "version": 3
   },
   "file_extension": ".py",
   "mimetype": "text/x-python",
   "name": "python",
   "nbconvert_exporter": "python",
   "pygments_lexer": "ipython3",
   "version": "3.6.0"
  }
 },
 "nbformat": 4,
 "nbformat_minor": 2
}
